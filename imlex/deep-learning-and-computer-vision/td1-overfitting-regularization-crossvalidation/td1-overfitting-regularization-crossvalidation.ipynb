{
 "cells": [
  {
   "cell_type": "code",
   "execution_count": 1,
   "metadata": {},
   "outputs": [],
   "source": [
    "from sklearn.linear_model import Ridge\n",
    "from sklearn.preprocessing import PolynomialFeatures\n",
    "from sklearn.pipeline import make_pipeline\n",
    "from sklearn.metrics import r2_score\n",
    "from sklearn.model_selection import cross_val_predict\n",
    "\n",
    "# Data\n",
    "X=[[-3], [-2.5], [-2], [-1.5], [-1], [-0.5], [0], [0.5], [1], [1.5], [2]]\n",
    "y=[-0.303, -0.545, -1.025, -0.959, -0.768, -0.375, -0.021, 0.438, 0.883, 0.807, 0.932]\n",
    "\n",
    "# test data (not for cross validation)\n",
    "Xtest=[[-3.2], [-2.2], [-1.2], [-0.2], [0.8], [1.8], [2.8]]\n",
    "ytest=[0.058, -0.808, -0.932, -0.199, 0.717, 0.974, 0.335]"
   ]
  },
  {
   "cell_type": "code",
   "execution_count": 2,
   "metadata": {},
   "outputs": [
    {
     "name": "stdout",
     "output_type": "stream",
     "text": [
      "Training score : 0.93815\n"
     ]
    }
   ],
   "source": [
    "# Hyperparameters\n",
    "degree=3\n",
    "regul_param=0.1\n",
    "\n",
    "# Model\n",
    "model = make_pipeline(PolynomialFeatures(degree), Ridge(alpha=regul_param))\n",
    "\n",
    "# Training\n",
    "# model.fit(X, y)\n",
    "\n",
    "# Testing\n",
    "# ypred=model.predict(X)\n",
    "# ypred=model.predict(Xtest)\n",
    "ypred = cross_val_predict(model, X, y, cv=11)\n",
    "# r2 = r2_score(ytest,ypred)\n",
    "r2 = r2_score(y,ypred)\n",
    "print(\"Training score : %0.5f\" % (r2))\n",
    "\n",
    "\n"
   ]
  },
  {
   "attachments": {},
   "cell_type": "markdown",
   "metadata": {},
   "source": [
    "2) What is R2 score\n",
    "\n",
    "R-squared is a statistical measure that represents the goodness of fit of a regression model. The ideal value for r-square is 1. The closer the value of r-square to 1, the better is the model fitted.\n",
    "\n",
    "3) / For the orders from 1 to 8, which polynomial function provides the best training results (regularization coefficient = 0, here) ? Why ?\n",
    "\n",
    "- 1 - 0.71818\n",
    "- 2 - 0.85192\n",
    "- 3 - 0.98302\n",
    "- 4 - 0.98515\n",
    "- 5 - 0.99111\n",
    "- 6 - 0.99114\n",
    "- 7 - 0.99882\n",
    "- 8 - 0.99898 (best)\n",
    "\n",
    "8 provides the best because the higher the degree, the more fitted to training data will the dataset be. The problem with this is that, the higher the degree, the higher the risk of overfitting the training, specially with a low quantity of data points.\n",
    "\n",
    "4) By fixing the order to 5, play with the regularization coefficient from 1e-4 to 10. What is the\n",
    "impact on the training result ? Why ?\n",
    "\n",
    "- 1e-4 - 0.99111\n",
    "- 1e-3 - 0.99110\n",
    "- 1e-2 - 0.99109\n",
    "- 1e-1 - 0.99013\n",
    "- 1    - 0.95363\n",
    "- 10   - 0.80067\n",
    "\n",
    "The higer the value of the regularization coefficient, the lower is the R2 score, meaning the model is become less fitted to the training data. Although the higher the r2 score, the better, this reduction on the score might be a signal that the model was overfitted. The regularization coefficient should help by constraining the overfitting of the model. This can only be checked with the test data.\n",
    "\n",
    "5) Use the « cross_val_predict » function to run a cross validation. What would be a good number of folds, here ?\n",
    "\n",
    "Since we're using a higher order polynomial function, we need more data points. Because of this, folding the data many times is a bad idea. In this situation, we use 'Leave-one-out cross-validation'.\n",
    "\n",
    "6) Test a cross validation prediction with an order of 5 and a regularization of 0.1. Observe the result. How many values contains this vector ?\n",
    "\n",
    "r2 = 0.77156\n",
    "\n",
    "7) Use the cross-validation to find the best hyperparameters. \n",
    "\n",
    "- degree=5, regul_param=0.1, r2=0.77156\n",
    "- degree=5, regul_param=0.5, r2=0.36541\n",
    "- degree=5, regul_param=0.5, r2=0.85775\n",
    "- degree=3, regul_param=0.5, r2=0.95223 (best)\n",
    "- degree=2, regul_param=0.5, r2=0.64355\n",
    "- degree=3, regul_param=0.5, r2=0.95223\n",
    "\n",
    "8) Test your solution on the the test data.\n",
    "\n",
    "- degree=3, regul_param=0.5, r2=0.96889"
   ]
  }
 ],
 "metadata": {
  "kernelspec": {
   "display_name": "Python 3",
   "language": "python",
   "name": "python3"
  },
  "language_info": {
   "codemirror_mode": {
    "name": "ipython",
    "version": 3
   },
   "file_extension": ".py",
   "mimetype": "text/x-python",
   "name": "python",
   "nbconvert_exporter": "python",
   "pygments_lexer": "ipython3",
   "version": "3.10.9 (tags/v3.10.9:1dd9be6, Dec  6 2022, 20:01:21) [MSC v.1934 64 bit (AMD64)]"
  },
  "orig_nbformat": 4,
  "vscode": {
   "interpreter": {
    "hash": "516051120dc4bd2f8f345bc6374ecbd6a37b0f25b9d8b19f05071267ad994e24"
   }
  }
 },
 "nbformat": 4,
 "nbformat_minor": 2
}
