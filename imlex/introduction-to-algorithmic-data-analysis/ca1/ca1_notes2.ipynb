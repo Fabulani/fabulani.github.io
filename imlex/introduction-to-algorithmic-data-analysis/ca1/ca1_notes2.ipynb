{
 "cells": [
  {
   "cell_type": "markdown",
   "metadata": {},
   "source": [
    "# Imports"
   ]
  },
  {
   "cell_type": "code",
   "execution_count": 40,
   "metadata": {},
   "outputs": [],
   "source": [
    "from fim_resources import *\n",
    "from ca1_main import *"
   ]
  },
  {
   "cell_type": "markdown",
   "metadata": {},
   "source": [
    "# Load datasets"
   ]
  },
  {
   "cell_type": "code",
   "execution_count": 41,
   "metadata": {},
   "outputs": [
    {
     "data": {
      "text/plain": [
       "dict_keys(['abalone', 'bats', 'groceries', 'house'])"
      ]
     },
     "execution_count": 41,
     "metadata": {},
     "output_type": "execute_result"
    }
   ],
   "source": [
    "dataset = dict()\n",
    "dataset['abalone'] = load_data_txt(\n",
    "    DATASETS[\"abalone\"][\"in_file\"], DATASETS[\"abalone\"][\"sep\"])\n",
    "dataset['bats'] = load_matrix(\n",
    "    DATASETS[\"bats\"][\"in_file\"], DATASETS[\"bats\"][\"sep\"])\n",
    "dataset['groceries'] = load_trans_txt(\n",
    "    DATASETS[\"groceries\"][\"in_file\"], DATASETS[\"groceries\"][\"sep\"])\n",
    "dataset['house'] = load_data_txt(\n",
    "    DATASETS[\"house\"][\"in_file\"], DATASETS[\"house\"][\"sep\"])\n",
    "\n",
    "dataset.keys()"
   ]
  },
  {
   "cell_type": "markdown",
   "metadata": {},
   "source": [
    "Let's check the 3 itemsets and attributes of each dataset. For the `abalone` dataset:"
   ]
  },
  {
   "cell_type": "code",
   "execution_count": 42,
   "metadata": {},
   "outputs": [
    {
     "data": {
      "text/plain": [
       "([frozenset({1, 4, 9, 13, 19, 24, 29, 34, 42}),\n",
       "  frozenset({1, 3, 8, 13, 18, 23, 28, 33, 38}),\n",
       "  frozenset({2, 5, 10, 15, 20, 24, 30, 35, 39})],\n",
       " ['Sex_I', 'Sex_M', 'Sex_F'])"
      ]
     },
     "execution_count": 42,
     "metadata": {},
     "output_type": "execute_result"
    }
   ],
   "source": [
    "dataset[\"abalone\"][0][:3], dataset[\"abalone\"][1][:3]"
   ]
  },
  {
   "cell_type": "markdown",
   "metadata": {},
   "source": [
    "`bats` dataset:"
   ]
  },
  {
   "cell_type": "code",
   "execution_count": 43,
   "metadata": {},
   "outputs": [
    {
     "data": {
      "text/plain": [
       "([frozenset({0}), frozenset({0}), frozenset({0, 14})],\n",
       " ['northern bat', 'serotine bat', 'common bent-wing bat'])"
      ]
     },
     "execution_count": 43,
     "metadata": {},
     "output_type": "execute_result"
    }
   ],
   "source": [
    "dataset[\"bats\"][0][-10:-7], dataset[\"bats\"][1][:3]"
   ]
  },
  {
   "cell_type": "markdown",
   "metadata": {},
   "source": [
    "`groceries` dataset:"
   ]
  },
  {
   "cell_type": "code",
   "execution_count": 44,
   "metadata": {},
   "outputs": [
    {
     "data": {
      "text/plain": [
       "([frozenset({31, 89, 119, 133}), frozenset({35, 158, 167}), frozenset({166})],\n",
       " ['Instant food products', 'UHT-milk', 'abrasive cleaner'])"
      ]
     },
     "execution_count": 44,
     "metadata": {},
     "output_type": "execute_result"
    }
   ],
   "source": [
    "dataset[\"groceries\"][0][:3], dataset[\"groceries\"][1][:3]"
   ]
  },
  {
   "cell_type": "markdown",
   "metadata": {},
   "source": [
    "`house` dataset:"
   ]
  },
  {
   "cell_type": "code",
   "execution_count": 45,
   "metadata": {},
   "outputs": [
    {
     "data": {
      "text/plain": [
       "([frozenset({1, 4, 5, 10, 11, 14, 17, 22, 25, 28, 29, 33, 35, 38, 41, 46, 47}),\n",
       "  frozenset({1, 4, 5, 10, 11, 14, 17, 22, 25, 28, 31, 34, 35, 38, 41, 46, 48}),\n",
       "  frozenset({0, 3, 5, 8, 12, 14, 17, 22, 25, 28, 31, 32, 37, 38, 41, 46, 49})],\n",
       " ['party_False', 'party_True', 'handicapped-infants_y'])"
      ]
     },
     "execution_count": 45,
     "metadata": {},
     "output_type": "execute_result"
    }
   ],
   "source": [
    "dataset[\"house\"][0][:3], dataset[\"house\"][1][:3]"
   ]
  },
  {
   "cell_type": "markdown",
   "metadata": {},
   "source": [
    "The total amount of transactions is given as follows:"
   ]
  },
  {
   "cell_type": "code",
   "execution_count": 46,
   "metadata": {},
   "outputs": [
    {
     "data": {
      "text/plain": [
       "(('abalone', 4177), ('bats', 2575), ('groceries', 9835), ('house', 435))"
      ]
     },
     "execution_count": 46,
     "metadata": {},
     "output_type": "execute_result"
    }
   ],
   "source": [
    "('abalone', len(dataset['abalone'][0])), ('bats', len(dataset['bats'][0])), ('groceries', len(dataset['groceries'][0])), ('house', len(dataset['house'][0]))"
   ]
  },
  {
   "cell_type": "markdown",
   "metadata": {},
   "source": [
    "And the total amount of attributes after discretization is:"
   ]
  },
  {
   "cell_type": "code",
   "execution_count": 47,
   "metadata": {},
   "outputs": [
    {
     "data": {
      "text/plain": [
       "(('abalone', 43), ('bats', 24), ('groceries', 169), ('house', 50))"
      ]
     },
     "execution_count": 47,
     "metadata": {},
     "output_type": "execute_result"
    }
   ],
   "source": [
    "('abalone', len(dataset['abalone'][1])), ('bats', len(dataset['bats'][1])), ('groceries', len(dataset['groceries'][1])), ('house', len(dataset['house'][1]))"
   ]
  },
  {
   "cell_type": "markdown",
   "metadata": {},
   "source": [
    "# Mining"
   ]
  },
  {
   "cell_type": "markdown",
   "metadata": {},
   "source": [
    "The Apriori algorithm was implemented to get the frequent itemsets of a given dataset."
   ]
  },
  {
   "cell_type": "code",
   "execution_count": 48,
   "metadata": {},
   "outputs": [
    {
     "ename": "KeyError",
     "evalue": "0",
     "output_type": "error",
     "traceback": [
      "\u001b[1;31m---------------------------------------------------------------------------\u001b[0m",
      "\u001b[1;31mKeyError\u001b[0m                                  Traceback (most recent call last)",
      "Cell \u001b[1;32mIn [48], line 1\u001b[0m\n\u001b[1;32m----> 1\u001b[0m frequent_itemsets \u001b[38;5;241m=\u001b[39m \u001b[43mapriori\u001b[49m\u001b[43m(\u001b[49m\u001b[43mdataset\u001b[49m\u001b[43m,\u001b[49m\u001b[43m \u001b[49m\u001b[38;5;241;43m10\u001b[39;49m\u001b[43m)\u001b[49m\n",
      "File \u001b[1;32mc:\\Users\\fabia\\Documents\\_imlex\\uef\\Introduction to Algorithmic Data Analysis\\assignments\\ca1\\ca1_main.py:71\u001b[0m, in \u001b[0;36mapriori\u001b[1;34m(dataset, min_supp)\u001b[0m\n\u001b[0;32m     69\u001b[0m \u001b[39mdef\u001b[39;00m \u001b[39mapriori\u001b[39m(dataset, min_supp: \u001b[39mint\u001b[39m):\n\u001b[0;32m     70\u001b[0m     \u001b[39m# Initialize\u001b[39;00m\n\u001b[1;32m---> 71\u001b[0m     transactions \u001b[39m=\u001b[39m dataset[\u001b[39m0\u001b[39;49m]  \u001b[39m# list of frozensets\u001b[39;00m\n\u001b[0;32m     72\u001b[0m     singletons \u001b[39m=\u001b[39m dataset[\u001b[39m1\u001b[39m]  \u001b[39m# {\"Sex_M\", \"Sex_F\", ...}\u001b[39;00m\n\u001b[0;32m     73\u001b[0m     itemsets \u001b[39m=\u001b[39m {}\n",
      "\u001b[1;31mKeyError\u001b[0m: 0"
     ]
    }
   ],
   "source": [
    "frequent_itemsets = apriori(dataset, 10)"
   ]
  }
 ],
 "metadata": {
  "kernelspec": {
   "display_name": "Python 3.9.1 ('.env': venv)",
   "language": "python",
   "name": "python3"
  },
  "language_info": {
   "codemirror_mode": {
    "name": "ipython",
    "version": 3
   },
   "file_extension": ".py",
   "mimetype": "text/x-python",
   "name": "python",
   "nbconvert_exporter": "python",
   "pygments_lexer": "ipython3",
   "version": "3.9.1"
  },
  "orig_nbformat": 4,
  "vscode": {
   "interpreter": {
    "hash": "c18f9aa5b4992ecbe91479f0e8f727368a787d891a4a54b43a10bb1b5aa3f0af"
   }
  }
 },
 "nbformat": 4,
 "nbformat_minor": 2
}
