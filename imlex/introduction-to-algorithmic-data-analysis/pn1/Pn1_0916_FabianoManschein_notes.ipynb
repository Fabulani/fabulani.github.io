{
 "cells": [
  {
   "cell_type": "markdown",
   "metadata": {},
   "source": [
    "# Mining frequent itemsets from the *Abalone* dataset"
   ]
  },
  {
   "cell_type": "markdown",
   "metadata": {},
   "source": [
    "First, let's import some packages. In particular, we will need `numpy` and `pandas` for processing the data, as well as `pyplot` for making plots."
   ]
  },
  {
   "cell_type": "code",
   "execution_count": 156,
   "metadata": {},
   "outputs": [],
   "source": [
    "%matplotlib inline\n",
    "import numpy\n",
    "import pandas\n",
    "import datetime\n",
    "import matplotlib.pyplot as plt"
   ]
  },
  {
   "cell_type": "markdown",
   "metadata": {},
   "source": [
    "In addition, we will use the Python implementation of a simplified version of the *Eclat/LCM* frequent itemset mining algorithm by C. Borgelt (https://borgelt.net/eclat.html)."
   ]
  },
  {
   "cell_type": "code",
   "execution_count": 157,
   "metadata": {},
   "outputs": [],
   "source": [
    "with open(\"pyfim.py\") as fp:\n",
    "    exec(fp.read())\n",
    "# from pyfim import *  # LOCALLY\n",
    "# import urllib.request  # REMOTELY\n",
    "# a = urllib.request.urlopen(\"https://members.loria.fr/EGalbrun/UEF_LPD/assignment/pyfim.py\")\n",
    "# exec(a.read())"
   ]
  },
  {
   "cell_type": "markdown",
   "metadata": {},
   "source": [
    "## Loading and preparing the data"
   ]
  },
  {
   "cell_type": "markdown",
   "metadata": {},
   "source": [
    "[Abalone](https://archive.ics.uci.edu/ml/datasets/Abalone) is one of the popular datasets from the [UCI Machine Learning Repository](https://archive.ics.uci.edu/ml/index.php).\n",
    "\n",
    "The dataset contains physical measurements of abalones, i.e. marine gastropod molluscs (see https://en.wikipedia.org/wiki/Abalone).\n",
    "\n",
    "In particular, from the [dataset description](https://archive.ics.uci.edu/ml/machine-learning-databases/abalone/abalone.names) we can find the list of attributes:\n",
    "\n",
    "Name | Data Type | Meas. | Description | \n",
    "---- | -----| ---- | ----------- |\n",
    "Sex\t | nominal |   | M, F, and I (infant) |\n",
    "Length | continuous | mm | Longest shell measurement |\n",
    "Diameter | continuous | mm | perpendicular to length\n",
    "Height | continuous | mm | with meat in shell |\n",
    "Whole weight | continuous | grams | whole abalone |\n",
    "Shucked weight | continuous | grams | weight of meat |\n",
    "Viscera weight | continuous | grams | gut weight (after bleeding) |\n",
    "Shell weight | continuous | grams | after being dried |\n",
    "Rings | integer |  | +1.5 gives the age in years |\n",
    "\n",
    "Next, we read the data in and display an outline."
   ]
  },
  {
   "cell_type": "code",
   "execution_count": 158,
   "metadata": {},
   "outputs": [
    {
     "data": {
      "text/html": [
       "<div>\n",
       "<style scoped>\n",
       "    .dataframe tbody tr th:only-of-type {\n",
       "        vertical-align: middle;\n",
       "    }\n",
       "\n",
       "    .dataframe tbody tr th {\n",
       "        vertical-align: top;\n",
       "    }\n",
       "\n",
       "    .dataframe thead th {\n",
       "        text-align: right;\n",
       "    }\n",
       "</style>\n",
       "<table border=\"1\" class=\"dataframe\">\n",
       "  <thead>\n",
       "    <tr style=\"text-align: right;\">\n",
       "      <th></th>\n",
       "      <th>Sex</th>\n",
       "      <th>Length</th>\n",
       "      <th>Diameter</th>\n",
       "      <th>Height</th>\n",
       "      <th>WholeWeight</th>\n",
       "      <th>ShuckedWeight</th>\n",
       "      <th>VisceraWeight</th>\n",
       "      <th>ShellWeight</th>\n",
       "      <th>Rings</th>\n",
       "    </tr>\n",
       "  </thead>\n",
       "  <tbody>\n",
       "    <tr>\n",
       "      <th>0</th>\n",
       "      <td>M</td>\n",
       "      <td>0.455</td>\n",
       "      <td>0.365</td>\n",
       "      <td>0.095</td>\n",
       "      <td>0.5140</td>\n",
       "      <td>0.2245</td>\n",
       "      <td>0.1010</td>\n",
       "      <td>0.1500</td>\n",
       "      <td>15</td>\n",
       "    </tr>\n",
       "    <tr>\n",
       "      <th>1</th>\n",
       "      <td>M</td>\n",
       "      <td>0.350</td>\n",
       "      <td>0.265</td>\n",
       "      <td>0.090</td>\n",
       "      <td>0.2255</td>\n",
       "      <td>0.0995</td>\n",
       "      <td>0.0485</td>\n",
       "      <td>0.0700</td>\n",
       "      <td>7</td>\n",
       "    </tr>\n",
       "    <tr>\n",
       "      <th>2</th>\n",
       "      <td>F</td>\n",
       "      <td>0.530</td>\n",
       "      <td>0.420</td>\n",
       "      <td>0.135</td>\n",
       "      <td>0.6770</td>\n",
       "      <td>0.2565</td>\n",
       "      <td>0.1415</td>\n",
       "      <td>0.2100</td>\n",
       "      <td>9</td>\n",
       "    </tr>\n",
       "    <tr>\n",
       "      <th>3</th>\n",
       "      <td>M</td>\n",
       "      <td>0.440</td>\n",
       "      <td>0.365</td>\n",
       "      <td>0.125</td>\n",
       "      <td>0.5160</td>\n",
       "      <td>0.2155</td>\n",
       "      <td>0.1140</td>\n",
       "      <td>0.1550</td>\n",
       "      <td>10</td>\n",
       "    </tr>\n",
       "    <tr>\n",
       "      <th>4</th>\n",
       "      <td>I</td>\n",
       "      <td>0.330</td>\n",
       "      <td>0.255</td>\n",
       "      <td>0.080</td>\n",
       "      <td>0.2050</td>\n",
       "      <td>0.0895</td>\n",
       "      <td>0.0395</td>\n",
       "      <td>0.0550</td>\n",
       "      <td>7</td>\n",
       "    </tr>\n",
       "    <tr>\n",
       "      <th>...</th>\n",
       "      <td>...</td>\n",
       "      <td>...</td>\n",
       "      <td>...</td>\n",
       "      <td>...</td>\n",
       "      <td>...</td>\n",
       "      <td>...</td>\n",
       "      <td>...</td>\n",
       "      <td>...</td>\n",
       "      <td>...</td>\n",
       "    </tr>\n",
       "    <tr>\n",
       "      <th>4172</th>\n",
       "      <td>F</td>\n",
       "      <td>0.565</td>\n",
       "      <td>0.450</td>\n",
       "      <td>0.165</td>\n",
       "      <td>0.8870</td>\n",
       "      <td>0.3700</td>\n",
       "      <td>0.2390</td>\n",
       "      <td>0.2490</td>\n",
       "      <td>11</td>\n",
       "    </tr>\n",
       "    <tr>\n",
       "      <th>4173</th>\n",
       "      <td>M</td>\n",
       "      <td>0.590</td>\n",
       "      <td>0.440</td>\n",
       "      <td>0.135</td>\n",
       "      <td>0.9660</td>\n",
       "      <td>0.4390</td>\n",
       "      <td>0.2145</td>\n",
       "      <td>0.2605</td>\n",
       "      <td>10</td>\n",
       "    </tr>\n",
       "    <tr>\n",
       "      <th>4174</th>\n",
       "      <td>M</td>\n",
       "      <td>0.600</td>\n",
       "      <td>0.475</td>\n",
       "      <td>0.205</td>\n",
       "      <td>1.1760</td>\n",
       "      <td>0.5255</td>\n",
       "      <td>0.2875</td>\n",
       "      <td>0.3080</td>\n",
       "      <td>9</td>\n",
       "    </tr>\n",
       "    <tr>\n",
       "      <th>4175</th>\n",
       "      <td>F</td>\n",
       "      <td>0.625</td>\n",
       "      <td>0.485</td>\n",
       "      <td>0.150</td>\n",
       "      <td>1.0945</td>\n",
       "      <td>0.5310</td>\n",
       "      <td>0.2610</td>\n",
       "      <td>0.2960</td>\n",
       "      <td>10</td>\n",
       "    </tr>\n",
       "    <tr>\n",
       "      <th>4176</th>\n",
       "      <td>M</td>\n",
       "      <td>0.710</td>\n",
       "      <td>0.555</td>\n",
       "      <td>0.195</td>\n",
       "      <td>1.9485</td>\n",
       "      <td>0.9455</td>\n",
       "      <td>0.3765</td>\n",
       "      <td>0.4950</td>\n",
       "      <td>12</td>\n",
       "    </tr>\n",
       "  </tbody>\n",
       "</table>\n",
       "<p>4177 rows × 9 columns</p>\n",
       "</div>"
      ],
      "text/plain": [
       "     Sex  Length  Diameter  Height  WholeWeight  ShuckedWeight  VisceraWeight  \\\n",
       "0      M   0.455     0.365   0.095       0.5140         0.2245         0.1010   \n",
       "1      M   0.350     0.265   0.090       0.2255         0.0995         0.0485   \n",
       "2      F   0.530     0.420   0.135       0.6770         0.2565         0.1415   \n",
       "3      M   0.440     0.365   0.125       0.5160         0.2155         0.1140   \n",
       "4      I   0.330     0.255   0.080       0.2050         0.0895         0.0395   \n",
       "...   ..     ...       ...     ...          ...            ...            ...   \n",
       "4172   F   0.565     0.450   0.165       0.8870         0.3700         0.2390   \n",
       "4173   M   0.590     0.440   0.135       0.9660         0.4390         0.2145   \n",
       "4174   M   0.600     0.475   0.205       1.1760         0.5255         0.2875   \n",
       "4175   F   0.625     0.485   0.150       1.0945         0.5310         0.2610   \n",
       "4176   M   0.710     0.555   0.195       1.9485         0.9455         0.3765   \n",
       "\n",
       "      ShellWeight  Rings  \n",
       "0          0.1500     15  \n",
       "1          0.0700      7  \n",
       "2          0.2100      9  \n",
       "3          0.1550     10  \n",
       "4          0.0550      7  \n",
       "...           ...    ...  \n",
       "4172       0.2490     11  \n",
       "4173       0.2605     10  \n",
       "4174       0.3080      9  \n",
       "4175       0.2960     10  \n",
       "4176       0.4950     12  \n",
       "\n",
       "[4177 rows x 9 columns]"
      ]
     },
     "execution_count": 158,
     "metadata": {},
     "output_type": "execute_result"
    }
   ],
   "source": [
    "cnames = ['Sex', 'Length', 'Diameter', 'Height', 'WholeWeight', 'ShuckedWeight', 'VisceraWeight', 'ShellWeight', 'Rings']\n",
    "# dtf = pandas.read_csv('https://archive.ics.uci.edu/ml/machine-learning-databases/abalone/abalone.data', sep=\",\", names=cnames)# REMOTELY\n",
    "dtf = pandas.read_csv('abalone.data', sep=\",\", names=cnames) # LOCALLY\n",
    "dtf"
   ]
  },
  {
   "cell_type": "markdown",
   "metadata": {},
   "source": [
    "The dataset consists of nine attributes, one is categorical and the rest are numerical.\n",
    "\n",
    "Frequent itemset mining operates on transactional data. \n",
    "\n",
    "So, we need to prepare the data in a suitable way, using discretization and binarization to obtain binary attributes, that is, discrete items."
   ]
  },
  {
   "cell_type": "code",
   "execution_count": 159,
   "metadata": {},
   "outputs": [],
   "source": [
    "dcols = [] # to store the data columns corresponding to the new attributes\n",
    "item_nbs = [] # to store the number of new attributes created from each original one (for plotting)\n",
    "item_lbls = [] # to store labels corresponding to the new attributes"
   ]
  },
  {
   "cell_type": "markdown",
   "metadata": {},
   "source": [
    "First, for the categorical attribute *Sex* that comes with three categories, we create one new binary attribute for each category."
   ]
  },
  {
   "cell_type": "code",
   "execution_count": 160,
   "metadata": {},
   "outputs": [
    {
     "data": {
      "text/plain": [
       "[array([0, 0, 0, ..., 0, 0, 0], dtype=int64),\n",
       " array([1, 1, 0, ..., 1, 0, 1], dtype=int64),\n",
       " array([0, 0, 1, ..., 0, 1, 0], dtype=int64)]"
      ]
     },
     "execution_count": 160,
     "metadata": {},
     "output_type": "execute_result"
    }
   ],
   "source": [
    "var_name, var_cats = (\"Sex\", [\"I\", \"M\", \"F\"])\n",
    "cols = pandas.crosstab(dtf.index, [dtf[var_name]])  #? What is this function doing?\n",
    "dcols.extend([cols[nc].values for nc in var_cats])  #? Is this adding the transformed data into the new columns/table?\n",
    "dcols"
   ]
  },
  {
   "cell_type": "markdown",
   "metadata": {},
   "source": [
    "We also create labels for the new attributes, to be able to recover their meaning in the analysis."
   ]
  },
  {
   "cell_type": "code",
   "execution_count": 161,
   "metadata": {},
   "outputs": [
    {
     "data": {
      "text/plain": [
       "['Sex_I', 'Sex_M', 'Sex_F']"
      ]
     },
     "execution_count": 161,
     "metadata": {},
     "output_type": "execute_result"
    }
   ],
   "source": [
    "item_nbs.append(len(var_cats))\n",
    "item_lbls.extend([\"%s_%s\" % (var_name, v) for v in var_cats])\n",
    "item_lbls"
   ]
  },
  {
   "cell_type": "markdown",
   "metadata": {},
   "source": [
    "Second, for the numerical attribute *Length*, we choose a few thresholds across its range to define bins that will each be represented as a new binary attribute. "
   ]
  },
  {
   "cell_type": "code",
   "execution_count": 162,
   "metadata": {},
   "outputs": [
    {
     "data": {
      "text/plain": [
       "[array([0, 1, 0, ..., 0, 0, 0], dtype=int64),\n",
       " array([1, 0, 0, ..., 0, 0, 0], dtype=int64),\n",
       " array([0, 0, 1, ..., 0, 0, 0], dtype=int64),\n",
       " array([0, 0, 0, ..., 1, 1, 0], dtype=int64),\n",
       " array([0, 0, 0, ..., 0, 0, 1], dtype=int64)]"
      ]
     },
     "execution_count": 162,
     "metadata": {},
     "output_type": "execute_result"
    }
   ],
   "source": [
    "var_name, var_bounds = (\"Length\", [0.425, 0.51, 0.575, 0.625])  #? How were these values chosen? Was there an analysis of the data distribution to identify suitable bin values?\n",
    "bins = [dtf[var_name].min()]+var_bounds+[dtf[var_name].max()]\n",
    "bvs = numpy.arange(len(bins)-1)  # Return evenly spaced values within a given interval.\n",
    "cols = pandas.crosstab(dtf.index, [pandas.cut(x=dtf[var_name], bins=bins, labels=bvs, include_lowest=True)])\n",
    "dcols.extend([cols[nc].values for nc in bvs])\n",
    "dcols[3:]  #? Why \"3:\" ?"
   ]
  },
  {
   "cell_type": "markdown",
   "metadata": {},
   "source": [
    "and the corresponding labels:"
   ]
  },
  {
   "cell_type": "code",
   "execution_count": 163,
   "metadata": {},
   "outputs": [
    {
     "data": {
      "text/plain": [
       "['Length_..0.425]',\n",
       " 'Length_(0.425,0.51]',\n",
       " 'Length_(0.51,0.575]',\n",
       " 'Length_(0.575,0.625]',\n",
       " 'Length_(0.625..']"
      ]
     },
     "execution_count": 163,
     "metadata": {},
     "output_type": "execute_result"
    }
   ],
   "source": [
    "item_nbs.append(len(var_bounds)+1)\n",
    "item_lbls.append(\"%s_..%s]\" % (var_name, var_bounds[0]))\n",
    "item_lbls.extend([\"%s_(%s,%s]\" % (var_name, var_bounds[i], var_bounds[i+1]) for i in range(len(var_bounds)-1)])\n",
    "item_lbls.append(\"%s_(%s..\" % (var_name, var_bounds[-1]))\n",
    "item_lbls[3:]"
   ]
  },
  {
   "cell_type": "markdown",
   "metadata": {},
   "source": [
    "And similarly for the other numerical attributes, each with a few chosen thresholds for binning..."
   ]
  },
  {
   "cell_type": "code",
   "execution_count": 164,
   "metadata": {},
   "outputs": [],
   "source": [
    "for var_name, var_bounds in [ \n",
    "    (\"Diameter\", [0.325, 0.395, 0.45, 0.495]),\n",
    "    (\"Height\", [0.105, 0.13, 0.15, 0.175]),\n",
    "    (\"WholeWeight\", [0.366, 0.6445, 0.93, 1.2385]),\n",
    "    (\"ShuckedWeight\", [0.157, 0.2745, 0.4, 0.542]),\n",
    "    (\"VisceraWeight\", [0.0765, 0.1405, 0.201, 0.273]),\n",
    "    (\"ShellWeight\", [0.109, 0.1895, 0.27, 0.351]),\n",
    "    (\"Rings\", [7.0, 9.0, 10.0, 12.0])\n",
    "]:\n",
    "    bins = [dtf[var_name].min()]+var_bounds+[dtf[var_name].max()]\n",
    "    bvs = numpy.arange(len(bins)-1)\n",
    "    cols = pandas.crosstab(dtf.index, [pandas.cut(x=dtf[var_name], bins=bins, labels=bvs, include_lowest=True)])\n",
    "    dcols.extend([cols[nc].values for nc in bvs])\n",
    "    item_lbls.append(\"%s_..%s]\" % (var_name, var_bounds[0]))\n",
    "    item_nbs.append(len(var_bounds)+1)\n",
    "    item_lbls.extend([\"%s_(%s,%s]\" % (var_name, var_bounds[i], var_bounds[i+1]) for i in range(len(var_bounds)-1)])\n",
    "    item_lbls.append(\"%s_(%s..\" % (var_name, var_bounds[-1]))"
   ]
  },
  {
   "cell_type": "markdown",
   "metadata": {},
   "source": [
    "Then, we put the columns together, obtaining a binary matrix..."
   ]
  },
  {
   "cell_type": "code",
   "execution_count": 165,
   "metadata": {},
   "outputs": [
    {
     "data": {
      "text/plain": [
       "array([[0, 1, 0, 0, 1, 0, 0, 0, 0, 1, 0, 0, 0, 1, 0, 0, 0, 0, 0, 1, 0, 0,\n",
       "        0, 0, 1, 0, 0, 0, 0, 1, 0, 0, 0, 0, 1, 0, 0, 0, 0, 0, 0, 0, 1],\n",
       "       [0, 1, 0, 1, 0, 0, 0, 0, 1, 0, 0, 0, 0, 1, 0, 0, 0, 0, 1, 0, 0, 0,\n",
       "        0, 1, 0, 0, 0, 0, 1, 0, 0, 0, 0, 1, 0, 0, 0, 0, 1, 0, 0, 0, 0],\n",
       "       [0, 0, 1, 0, 0, 1, 0, 0, 0, 0, 1, 0, 0, 0, 0, 1, 0, 0, 0, 0, 1, 0,\n",
       "        0, 0, 1, 0, 0, 0, 0, 0, 1, 0, 0, 0, 0, 1, 0, 0, 0, 1, 0, 0, 0],\n",
       "       [0, 1, 0, 0, 1, 0, 0, 0, 0, 1, 0, 0, 0, 0, 1, 0, 0, 0, 0, 1, 0, 0,\n",
       "        0, 0, 1, 0, 0, 0, 0, 1, 0, 0, 0, 0, 1, 0, 0, 0, 0, 0, 1, 0, 0]],\n",
       "      dtype=int64)"
      ]
     },
     "execution_count": 165,
     "metadata": {},
     "output_type": "execute_result"
    }
   ],
   "source": [
    "bin_mat = numpy.vstack(dcols).T  # https://numpy.org/doc/stable/reference/generated/numpy.vstack.html\n",
    "bin_mat[:4]"
   ]
  },
  {
   "cell_type": "markdown",
   "metadata": {},
   "source": [
    "... and turn it into a list of transactions, i.e. sets of items, as expected by our frequent itemset mining algorithm."
   ]
  },
  {
   "cell_type": "code",
   "execution_count": 166,
   "metadata": {},
   "outputs": [
    {
     "data": {
      "text/plain": [
       "[frozenset({1, 4, 9, 13, 19, 24, 29, 34, 42}),\n",
       " frozenset({1, 3, 8, 13, 18, 23, 28, 33, 38}),\n",
       " frozenset({2, 5, 10, 15, 20, 24, 30, 35, 39}),\n",
       " frozenset({1, 4, 9, 14, 19, 24, 29, 34, 40})]"
      ]
     },
     "execution_count": 166,
     "metadata": {},
     "output_type": "execute_result"
    }
   ],
   "source": [
    "# Frozen set is just an immutable version of a Python set object. While elements of a set can be modified at any time, elements of the frozen set remain the same after creation.\n",
    "# numpy.where = Return elements chosen from x or y depending on condition.\n",
    "\n",
    "tracts = [frozenset(numpy.where(r)[0]) for r in bin_mat]  #? Is it using numpy.where just because frozenset requires an iterable? So it goes through the matrix and for every 0, it puts 0?\n",
    "tracts[:4]"
   ]
  },
  {
   "cell_type": "markdown",
   "metadata": {},
   "source": [
    "## Looking at the statistics of the data"
   ]
  },
  {
   "cell_type": "code",
   "execution_count": 167,
   "metadata": {},
   "outputs": [
    {
     "data": {
      "text/plain": [
       "4177"
      ]
     },
     "execution_count": 167,
     "metadata": {},
     "output_type": "execute_result"
    }
   ],
   "source": [
    "len(tracts)"
   ]
  },
  {
   "cell_type": "markdown",
   "metadata": {},
   "source": [
    "In total, we have 4177 transactions in our prepared dataset, each corresponds to one individual abalone.\n",
    "\n",
    "Because each individual came with a value for each of the original attributes and we discretized the attributes using non-overlapping intervals covering the entire range of values, each transaction contains one item for each of the original attributes. As a results, each transactions contains 9 items, i.e. they all have the same size."
   ]
  },
  {
   "cell_type": "code",
   "execution_count": 168,
   "metadata": {},
   "outputs": [
    {
     "data": {
      "text/plain": [
       "{9}"
      ]
     },
     "execution_count": 168,
     "metadata": {},
     "output_type": "execute_result"
    }
   ],
   "source": [
    "set(numpy.sum(bin_mat, axis=1))"
   ]
  },
  {
   "cell_type": "markdown",
   "metadata": {},
   "source": [
    "Next, we make a histogram of the number of occurrences of the different items, grouped by the original attribute to which they correspond."
   ]
  },
  {
   "cell_type": "code",
   "execution_count": 169,
   "metadata": {},
   "outputs": [
    {
     "data": {
      "image/png": "[encoded data removed]",
      "text/plain": [
       "<Figure size 1600x400 with 1 Axes>"
      ]
     },
     "metadata": {},
     "output_type": "display_data"
    }
   ],
   "source": [
    "plt.figure(figsize=(16,4))\n",
    "h = numpy.sum(bin_mat, axis=0)\n",
    "bw = 0.9/numpy.max(item_nbs)\n",
    "bf = 0.95\n",
    "xbs = []\n",
    "for ni, nb in enumerate(item_nbs):\n",
    "    xbs.extend([ni+(n-0.5*(nb-1+bf))*bw for n in range(nb)])\n",
    "plt.bar(xbs, h, width=bf*bw, align='edge', color=(68/255., 119/255., 170/255.))\n",
    "plt.xticks(range(len(cnames)), cnames)\n",
    "plt.xlabel(\"Attributes\")\n",
    "plt.ylabel(\"Nb. of occurrences\")\n",
    "plt.show()"
   ]
  },
  {
   "cell_type": "markdown",
   "metadata": {},
   "source": [
    "Except for the number of rings, where the item corresponding to 7 or 8 rings is more frequent than the other items, the thresholds used to discretize the numerical attributes result in bins of approximately equal heights. As a consequence, the resulting items appear with roughly the same frequency, of about 4177/5 or 20%.\n",
    "\n",
    "The frequencies of the three items generated from the *Sex* attribute correspond to the distribution, in the abalone population covered by the dataset, of infants, males and females, respectively. "
   ]
  },
  {
   "cell_type": "markdown",
   "metadata": {},
   "source": [
    "## Mining itemsets"
   ]
  },
  {
   "cell_type": "markdown",
   "metadata": {},
   "source": [
    "Now, we are ready to run the frequent itemset mining algorithm on the transactional dataset.\n",
    "\n",
    "First, we try with a relatively high support threshold, of 15% (0.15 x 4177 ~ 626)."
   ]
  },
  {
   "cell_type": "code",
   "execution_count": 170,
   "metadata": {},
   "outputs": [
    {
     "name": "stdout",
     "output_type": "stream",
     "text": [
      "Found 190 itemsets in 0:00:00.019000\n"
     ]
    }
   ],
   "source": [
    "nb_tot = len(tracts)\n",
    "tic = datetime.datetime.now()\n",
    "FI = fim(tracts, target='s', supp=15)\n",
    "elps = datetime.datetime.now() - tic\n",
    "print(\"Found %d itemsets in %s\" % (len(FI), elps))"
   ]
  },
  {
   "cell_type": "markdown",
   "metadata": {},
   "source": [
    "Several dozens of frequent itemsets were mined in fractions of a second.\n",
    "\n",
    "Let's have a look at the top ten most frequent."
   ]
  },
  {
   "cell_type": "code",
   "execution_count": 171,
   "metadata": {},
   "outputs": [
    {
     "name": "stdout",
     "output_type": "stream",
     "text": [
      "Sex_M (1,) 1528 0.366\n",
      "Sex_I (0,) 1342 0.321\n",
      "Sex_F (2,) 1307 0.313\n",
      "Rings_(7.0,9.0] (39,) 1257 0.301\n",
      "Height_(0.15,0.175] (16,) 986 0.236\n",
      "Diameter_(0.395,0.45] (10,) 902 0.216\n",
      "Height_..0.105] (13,) 888 0.213\n",
      "Length_(0.51,0.575] (5,) 887 0.212\n",
      "Diameter_..0.325] (8,) 863 0.207\n",
      "Height_(0.13,0.15] (15,) 858 0.205\n"
     ]
    }
   ],
   "source": [
    "for fi in sorted(FI, key=lambda x: -x[1])[:10]:\n",
    "    print(\" \".join([item_lbls[x] for x in fi[0]]), fi[0], fi[1], \"%.3f\" % (fi[1]/nb_tot))"
   ]
  },
  {
   "cell_type": "markdown",
   "metadata": {},
   "source": [
    "Expectedly, the most frequent itemsets are singletons, i.e. they correspond to occurrences of individual physical properties. This is of limited interest, we could already see these frequencies in the histogram.\n",
    "\n",
    "Next, we lower slightly the support threshold, to 500 occurrences."
   ]
  },
  {
   "cell_type": "code",
   "execution_count": 172,
   "metadata": {},
   "outputs": [
    {
     "name": "stdout",
     "output_type": "stream",
     "text": [
      "Found 529 itemsets in 0:00:00.020991\n"
     ]
    }
   ],
   "source": [
    "tic = datetime.datetime.now()\n",
    "FI = fim(tracts, target='s', supp=-500)\n",
    "elps = datetime.datetime.now() - tic\n",
    "print(\"Found %d itemsets in %s\" % (len(FI), elps))"
   ]
  },
  {
   "cell_type": "markdown",
   "metadata": {},
   "source": [
    "More than twice as many itemsets are returned...\n",
    "\n",
    "Lowering the support threshold again, now to 250 occurrences."
   ]
  },
  {
   "cell_type": "code",
   "execution_count": 173,
   "metadata": {},
   "outputs": [
    {
     "name": "stdout",
     "output_type": "stream",
     "text": [
      "Found 1187 itemsets in 0:00:00.026996\n"
     ]
    }
   ],
   "source": [
    "tic = datetime.datetime.now()\n",
    "FI = fim(tracts, target='s', supp=-250)\n",
    "elps = datetime.datetime.now() - tic\n",
    "print(\"Found %d itemsets in %s\" % (len(FI), elps))"
   ]
  },
  {
   "cell_type": "markdown",
   "metadata": {},
   "source": [
    "More than a thousand itemsets are returned...\n",
    "\n",
    "Now keeping the support threshold constant, but mining the closed frequent itemsets (target='c')."
   ]
  },
  {
   "cell_type": "code",
   "execution_count": 174,
   "metadata": {},
   "outputs": [
    {
     "name": "stdout",
     "output_type": "stream",
     "text": [
      "Found 1176 itemsets in 0:00:00.031000\n"
     ]
    }
   ],
   "source": [
    "tic = datetime.datetime.now()\n",
    "FI = fim(tracts, target='c', supp=-250)  # target='c' means we're targeting the closed frequent itemsets\n",
    "elps = datetime.datetime.now() - tic\n",
    "print(\"Found %d itemsets in %s\" % (len(FI), elps))"
   ]
  },
  {
   "cell_type": "markdown",
   "metadata": {},
   "source": [
    "And again, with the same support threshold, but this time mining the maximal frequent itemsets (target='m')."
   ]
  },
  {
   "cell_type": "code",
   "execution_count": 175,
   "metadata": {},
   "outputs": [
    {
     "name": "stdout",
     "output_type": "stream",
     "text": [
      "Found 136 itemsets in 0:00:00.041001\n"
     ]
    }
   ],
   "source": [
    "tic = datetime.datetime.now()\n",
    "FI = fim(tracts, target='m', supp=-250)  # target='m' means we're targeting the maximal frequent itemsets\n",
    "elps = datetime.datetime.now() - tic\n",
    "print(\"Found %d itemsets in %s\" % (len(FI), elps))"
   ]
  },
  {
   "cell_type": "markdown",
   "metadata": {},
   "source": [
    "Finally, we mine closed frequent itemsets with a support threshold of 10%, keeping only itemsets of size three or more (zmin=3)."
   ]
  },
  {
   "cell_type": "code",
   "execution_count": 176,
   "metadata": {},
   "outputs": [
    {
     "name": "stdout",
     "output_type": "stream",
     "text": [
      "Found 561 itemsets in 0:00:00.022018\n"
     ]
    }
   ],
   "source": [
    "tic = datetime.datetime.now()\n",
    "FI = fim(tracts, target='c', supp=10, zmin=3)\n",
    "elps = datetime.datetime.now() - tic\n",
    "print(\"Found %d itemsets in %s\" % (len(FI), elps))"
   ]
  },
  {
   "cell_type": "markdown",
   "metadata": {},
   "source": [
    "Among these hundreds of itemsets, we look at the top ten, where we can find the most common co-occurrences of physical attributes."
   ]
  },
  {
   "cell_type": "code",
   "execution_count": 177,
   "metadata": {},
   "outputs": [
    {
     "name": "stdout",
     "output_type": "stream",
     "text": [
      "WholeWeight_..0.366] Length_..0.425] Diameter_..0.325] (18, 3, 8) 783 0.187\n",
      "ShellWeight_..0.109] Length_..0.425] Diameter_..0.325] (33, 3, 8) 774 0.185\n",
      "ShellWeight_..0.109] WholeWeight_..0.366] Diameter_..0.325] (33, 18, 8) 767 0.184\n",
      "VisceraWeight_..0.0765] Length_..0.425] Diameter_..0.325] (28, 3, 8) 765 0.183\n",
      "ShellWeight_..0.109] WholeWeight_..0.366] Length_..0.425] (33, 18, 3) 764 0.183\n",
      "WholeWeight_..0.366] VisceraWeight_..0.0765] Length_..0.425] (18, 28, 3) 761 0.182\n",
      "WholeWeight_..0.366] VisceraWeight_..0.0765] Diameter_..0.325] (18, 28, 8) 761 0.182\n",
      "ShellWeight_..0.109] WholeWeight_..0.366] Length_..0.425] Diameter_..0.325] (33, 18, 3, 8) 757 0.181\n",
      "WholeWeight_..0.366] VisceraWeight_..0.0765] Length_..0.425] Diameter_..0.325] (18, 28, 3, 8) 756 0.181\n",
      "WholeWeight_..0.366] ShuckedWeight_..0.157] Length_..0.425] (18, 23, 3) 754 0.181\n"
     ]
    }
   ],
   "source": [
    "for fi in sorted(FI, key=lambda x: -x[1])[:10]:\n",
    "    print(\" \".join([item_lbls[x] for x in fi[0]]), fi[0], fi[1], \"%.3f\" % (fi[1]/nb_tot))  #? labels, itemset, abs supp, rel. supp"
   ]
  },
  {
   "cell_type": "markdown",
   "metadata": {},
   "source": [
    "We might be interested to carry this analysis further. For instance, we might look for association rules that relate dimensions of the abalone, its age (nb. of rings) and its sex..."
   ]
  },
  {
   "cell_type": "markdown",
   "metadata": {},
   "source": [
    "## Observations"
   ]
  },
  {
   "cell_type": "markdown",
   "metadata": {},
   "source": [
    "Top occurences of each attribute:\n",
    "- Sex: Male\n",
    "- Length: 0.51-0.575\n",
    "- Diameter: 0.395-0.45\n",
    "- Height: 0.15-0.175\n",
    "- WholeWeight: equivalent\n",
    "- ShuckedWeight: equivalent\n",
    "- VisceraWeight: min - 0.0765\n",
    "- ShellWeight: 0.1895-0.27\n",
    "- Rings: 9-10\n",
    "\n",
    "Most common co-occurences of physical attributes (supp. thresh. of 10%, itemset size > 3):\n",
    "1. WholeWeight, Length, Diameter\n",
    "2. ShellWeight, Length, Diameter\n",
    "3. ShellWeight, WholeWeight, Diameter\n",
    "4. VisceraWeight, Length, Diameter\n",
    "5. ShellWeight, WholeWeight, Length\n",
    "\n",
    "Looking at the top 5, there seems to be an association between weight and size of the anemole. But what about the other attributes, such as sex and rings? Does the number of rings correlate to the weight and size of the anemole, or is it the sex?"
   ]
  },
  {
   "cell_type": "markdown",
   "metadata": {},
   "source": [
    "### Sex and Rings"
   ]
  },
  {
   "cell_type": "markdown",
   "metadata": {},
   "source": [
    "Sex is identified by labels:\n",
    "0 - Infant\n",
    "1 - Male\n",
    "2 - Female\n",
    "\n",
    "And rings are identfied by labels from 38 to 42 (increases number of rings as the label number increases)"
   ]
  },
  {
   "cell_type": "code",
   "execution_count": 178,
   "metadata": {},
   "outputs": [
    {
     "name": "stdout",
     "output_type": "stream",
     "text": [
      "- Sex: ['Sex_I', 'Sex_M', 'Sex_F'] \n",
      "- Rings: ['Rings_..7.0]', 'Rings_(7.0,9.0]', 'Rings_(9.0,10.0]', 'Rings_(10.0,12.0]', 'Rings_(12.0..']\n"
     ]
    }
   ],
   "source": [
    "print(f\"- Sex: {item_lbls[0:3]} \\n- Rings: {item_lbls[38:43]}\")"
   ]
  },
  {
   "cell_type": "markdown",
   "metadata": {},
   "source": [
    "Let's sort the top 10 itemsets to include either of those."
   ]
  },
  {
   "cell_type": "code",
   "execution_count": 179,
   "metadata": {},
   "outputs": [
    {
     "name": "stdout",
     "output_type": "stream",
     "text": [
      "Length_..0.425] Sex_I Diameter_..0.325] (3, 0, 8) 608 0.146\n",
      "ShellWeight_..0.109] Sex_I Diameter_..0.325] (33, 0, 8) 605 0.145\n",
      "ShellWeight_..0.109] Sex_I WholeWeight_..0.366] (33, 0, 18) 601 0.144\n",
      "WholeWeight_..0.366] Sex_I Diameter_..0.325] (18, 0, 8) 601 0.144\n",
      "WholeWeight_..0.366] Sex_I Length_..0.425] (18, 0, 3) 599 0.143\n",
      "ShellWeight_..0.109] Sex_I Length_..0.425] (33, 0, 3) 598 0.143\n",
      "WholeWeight_..0.366] Sex_I VisceraWeight_..0.0765] (18, 0, 28) 596 0.143\n",
      "VisceraWeight_..0.0765] Sex_I Diameter_..0.325] (28, 0, 8) 592 0.142\n",
      "WholeWeight_..0.366] Sex_I Length_..0.425] Diameter_..0.325] (18, 0, 3, 8) 589 0.141\n",
      "ShellWeight_..0.109] Sex_I Length_..0.425] Diameter_..0.325] (33, 0, 3, 8) 588 0.141\n"
     ]
    }
   ],
   "source": [
    "# Generate lists with labels of sex and ring attributes\n",
    "sex_labels = list(range(0, 2))\n",
    "ring_labels = list(range(38, 43))\n",
    "both_labels = sex_labels + ring_labels\n",
    "print_limit = 10\n",
    "i = 0\n",
    "\n",
    "for fi in sorted(FI, key=lambda x: -x[1]):\n",
    "    if any(attr in both_labels for attr in fi[0]):  # Only look at itemset including sex and rings\n",
    "        if i < print_limit:\n",
    "            print(\" \".join([item_lbls[x] for x in fi[0]]), fi[0], fi[1], \"%.3f\" % (fi[1]/nb_tot))\n",
    "            i += 1"
   ]
  },
  {
   "cell_type": "markdown",
   "metadata": {},
   "source": [
    "With both labels, we see that sex infant is the most common. Restricting the results to those that contain rings gives the following:"
   ]
  },
  {
   "cell_type": "code",
   "execution_count": 180,
   "metadata": {},
   "outputs": [
    {
     "name": "stdout",
     "output_type": "stream",
     "text": [
      "Rings_..7.0] Length_..0.425] Diameter_..0.325] (38, 3, 8) 586 0.140\n",
      "ShellWeight_..0.109] Rings_..7.0] Diameter_..0.325] (33, 38, 8) 581 0.139\n",
      "ShellWeight_..0.109] Rings_..7.0] Length_..0.425] (33, 38, 3) 577 0.138\n",
      "ShellWeight_..0.109] Rings_..7.0] WholeWeight_..0.366] (33, 38, 18) 576 0.138\n",
      "WholeWeight_..0.366] Rings_..7.0] Length_..0.425] (18, 38, 3) 575 0.138\n",
      "WholeWeight_..0.366] Rings_..7.0] Diameter_..0.325] (18, 38, 8) 575 0.138\n",
      "ShellWeight_..0.109] Rings_..7.0] Height_..0.105] (33, 38, 13) 569 0.136\n",
      "ShellWeight_..0.109] Rings_..7.0] Length_..0.425] Diameter_..0.325] (33, 38, 3, 8) 569 0.136\n",
      "ShellWeight_..0.109] Rings_..7.0] WholeWeight_..0.366] Diameter_..0.325] (33, 38, 18, 8) 568 0.136\n",
      "Rings_..7.0] VisceraWeight_..0.0765] Length_..0.425] (38, 28, 3) 568 0.136\n"
     ]
    }
   ],
   "source": [
    "i = 0\n",
    "\n",
    "for fi in sorted(FI, key=lambda x: -x[1]):\n",
    "    if any(attr in ring_labels for attr in fi[0]):  # Only look at itemsets including rings\n",
    "        if i < print_limit:\n",
    "            print(\" \".join([item_lbls[x] for x in fi[0]]), fi[0], fi[1], \"%.3f\" % (fi[1]/nb_tot))\n",
    "            i += 1"
   ]
  },
  {
   "cell_type": "markdown",
   "metadata": {},
   "source": [
    "From the resulting itemsets, it can be seen that only abalones of sex infant and with less than 7 rings appear. This means that younger abalones are frequently more similar in physical attributes than older ones. Or, in other words, as abalones grow older, they gain differing characteristics, and thus the itemsets related to those are not so frequent.\n",
    "\n",
    "What about adult abalones?"
   ]
  },
  {
   "cell_type": "code",
   "execution_count": 181,
   "metadata": {},
   "outputs": [
    {
     "name": "stdout",
     "output_type": "stream",
     "text": [
      "Found 2889 itemsets in 0:00:00.022018\n",
      "ShellWeight_(0.1895,0.27] Sex_M Rings_(7.0,9.0] (35, 1, 39) 159 0.038\n",
      "Rings_(10.0,12.0] Length_(0.625.. Sex_M (41, 7, 1) 155 0.037\n",
      "Rings_(10.0,12.0] ShuckedWeight_(0.542.. Sex_M (41, 27, 1) 152 0.036\n",
      "Rings_(10.0,12.0] WholeWeight_(1.2385.. Sex_M (41, 22, 1) 149 0.036\n",
      "Rings_(12.0.. ShellWeight_(0.351.. Sex_M (42, 37, 1) 148 0.035\n",
      "Rings_(10.0,12.0] Diameter_(0.495.. Sex_M (41, 12, 1) 145 0.035\n",
      "Rings_(10.0,12.0] ShellWeight_(0.351.. Sex_M (41, 37, 1) 143 0.034\n",
      "Rings_(10.0,12.0] WholeWeight_(1.2385.. Sex_M ShuckedWeight_(0.542.. (41, 22, 1, 27) 142 0.034\n",
      "Rings_(10.0,12.0] VisceraWeight_(0.273.. Sex_M (41, 32, 1) 142 0.034\n",
      "ShuckedWeight_(0.4,0.542] Rings_(7.0,9.0] Sex_M (26, 39, 1) 141 0.034\n"
     ]
    }
   ],
   "source": [
    "# Lower the support threshold\n",
    "FI = fim(tracts, target='c', supp=-100, zmin=3)\n",
    "print(\"Found %d itemsets in %s\" % (len(FI), elps))\n",
    "\n",
    "sex_labels = list(range(1, 2))\n",
    "ring_labels = list(range(38, 43))\n",
    "i = 0\n",
    "\n",
    "for fi in sorted(FI, key=lambda x: -x[1]):\n",
    "    if any(attr in sex_labels for attr in fi[0]) and any(attr in ring_labels for attr in fi[0]):\n",
    "        if i < print_limit:\n",
    "            print(\" \".join([item_lbls[x] for x in fi[0]]), fi[0], fi[1], \"%.3f\" % (fi[1]/nb_tot))\n",
    "            i += 1"
   ]
  },
  {
   "cell_type": "markdown",
   "metadata": {},
   "source": [
    "With a low support threshold of 100 and minimum itemset size of 3, we're able to find 2889 itemsets that fit the criteria of either being male or female in sex, and containing the number of rings attributes.\n",
    "\n",
    "The most common case is that of a male abanole with 7 to 9 rings and shell weight between 0.1895 and 0.27. As this abanole is younger than the other male abanoles in the ranking, there's an indication that the assumption of younger abanoles resembling eachother is correct. For the other cases, the most common number of rings in male abanoles is a value between 10 and 12."
   ]
  },
  {
   "cell_type": "markdown",
   "metadata": {},
   "source": [
    "# The House dataset"
   ]
  },
  {
   "cell_type": "markdown",
   "metadata": {},
   "source": [
    "The `house` dataset includes votes for each of the U.S. House of Representatives Congressmen on the 16 key votes identified by the CQA. This is a relatively small dataset (435 instances). More information at https://archive.ics.uci.edu/ml/datasets/congressional+voting+records"
   ]
  },
  {
   "cell_type": "markdown",
   "metadata": {},
   "source": [
    "## Pre-processing"
   ]
  },
  {
   "cell_type": "markdown",
   "metadata": {},
   "source": [
    "Let's start by reading the data and displaying an outline."
   ]
  },
  {
   "cell_type": "code",
   "execution_count": 182,
   "metadata": {},
   "outputs": [
    {
     "data": {
      "text/html": [
       "<div>\n",
       "<style scoped>\n",
       "    .dataframe tbody tr th:only-of-type {\n",
       "        vertical-align: middle;\n",
       "    }\n",
       "\n",
       "    .dataframe tbody tr th {\n",
       "        vertical-align: top;\n",
       "    }\n",
       "\n",
       "    .dataframe thead th {\n",
       "        text-align: right;\n",
       "    }\n",
       "</style>\n",
       "<table border=\"1\" class=\"dataframe\">\n",
       "  <thead>\n",
       "    <tr style=\"text-align: right;\">\n",
       "      <th></th>\n",
       "      <th>Class</th>\n",
       "      <th>Handicapped infants</th>\n",
       "      <th>Water project cost sharing</th>\n",
       "      <th>Adoption of the budget resolution</th>\n",
       "      <th>Physician fee freeze</th>\n",
       "      <th>El Salvador aid</th>\n",
       "      <th>Religious groups in schools</th>\n",
       "      <th>Anti-satellite test ban</th>\n",
       "      <th>Aid to Nicaraguan Contras</th>\n",
       "      <th>Mx Missile</th>\n",
       "      <th>Immigration</th>\n",
       "      <th>Synfuels Corporation cutback</th>\n",
       "      <th>Education spending</th>\n",
       "      <th>Superfund right to sue</th>\n",
       "      <th>Crime</th>\n",
       "      <th>Duty free exports</th>\n",
       "      <th>Export administration act South Africa</th>\n",
       "    </tr>\n",
       "  </thead>\n",
       "  <tbody>\n",
       "    <tr>\n",
       "      <th>0</th>\n",
       "      <td>republican</td>\n",
       "      <td>n</td>\n",
       "      <td>y</td>\n",
       "      <td>n</td>\n",
       "      <td>y</td>\n",
       "      <td>y</td>\n",
       "      <td>y</td>\n",
       "      <td>n</td>\n",
       "      <td>n</td>\n",
       "      <td>n</td>\n",
       "      <td>y</td>\n",
       "      <td>?</td>\n",
       "      <td>y</td>\n",
       "      <td>y</td>\n",
       "      <td>y</td>\n",
       "      <td>n</td>\n",
       "      <td>y</td>\n",
       "    </tr>\n",
       "    <tr>\n",
       "      <th>1</th>\n",
       "      <td>republican</td>\n",
       "      <td>n</td>\n",
       "      <td>y</td>\n",
       "      <td>n</td>\n",
       "      <td>y</td>\n",
       "      <td>y</td>\n",
       "      <td>y</td>\n",
       "      <td>n</td>\n",
       "      <td>n</td>\n",
       "      <td>n</td>\n",
       "      <td>n</td>\n",
       "      <td>n</td>\n",
       "      <td>y</td>\n",
       "      <td>y</td>\n",
       "      <td>y</td>\n",
       "      <td>n</td>\n",
       "      <td>?</td>\n",
       "    </tr>\n",
       "    <tr>\n",
       "      <th>2</th>\n",
       "      <td>democrat</td>\n",
       "      <td>?</td>\n",
       "      <td>y</td>\n",
       "      <td>y</td>\n",
       "      <td>?</td>\n",
       "      <td>y</td>\n",
       "      <td>y</td>\n",
       "      <td>n</td>\n",
       "      <td>n</td>\n",
       "      <td>n</td>\n",
       "      <td>n</td>\n",
       "      <td>y</td>\n",
       "      <td>n</td>\n",
       "      <td>y</td>\n",
       "      <td>y</td>\n",
       "      <td>n</td>\n",
       "      <td>n</td>\n",
       "    </tr>\n",
       "    <tr>\n",
       "      <th>3</th>\n",
       "      <td>democrat</td>\n",
       "      <td>n</td>\n",
       "      <td>y</td>\n",
       "      <td>y</td>\n",
       "      <td>n</td>\n",
       "      <td>?</td>\n",
       "      <td>y</td>\n",
       "      <td>n</td>\n",
       "      <td>n</td>\n",
       "      <td>n</td>\n",
       "      <td>n</td>\n",
       "      <td>y</td>\n",
       "      <td>n</td>\n",
       "      <td>y</td>\n",
       "      <td>n</td>\n",
       "      <td>n</td>\n",
       "      <td>y</td>\n",
       "    </tr>\n",
       "    <tr>\n",
       "      <th>4</th>\n",
       "      <td>democrat</td>\n",
       "      <td>y</td>\n",
       "      <td>y</td>\n",
       "      <td>y</td>\n",
       "      <td>n</td>\n",
       "      <td>y</td>\n",
       "      <td>y</td>\n",
       "      <td>n</td>\n",
       "      <td>n</td>\n",
       "      <td>n</td>\n",
       "      <td>n</td>\n",
       "      <td>y</td>\n",
       "      <td>?</td>\n",
       "      <td>y</td>\n",
       "      <td>y</td>\n",
       "      <td>y</td>\n",
       "      <td>y</td>\n",
       "    </tr>\n",
       "    <tr>\n",
       "      <th>...</th>\n",
       "      <td>...</td>\n",
       "      <td>...</td>\n",
       "      <td>...</td>\n",
       "      <td>...</td>\n",
       "      <td>...</td>\n",
       "      <td>...</td>\n",
       "      <td>...</td>\n",
       "      <td>...</td>\n",
       "      <td>...</td>\n",
       "      <td>...</td>\n",
       "      <td>...</td>\n",
       "      <td>...</td>\n",
       "      <td>...</td>\n",
       "      <td>...</td>\n",
       "      <td>...</td>\n",
       "      <td>...</td>\n",
       "      <td>...</td>\n",
       "    </tr>\n",
       "    <tr>\n",
       "      <th>430</th>\n",
       "      <td>republican</td>\n",
       "      <td>n</td>\n",
       "      <td>n</td>\n",
       "      <td>y</td>\n",
       "      <td>y</td>\n",
       "      <td>y</td>\n",
       "      <td>y</td>\n",
       "      <td>n</td>\n",
       "      <td>n</td>\n",
       "      <td>y</td>\n",
       "      <td>y</td>\n",
       "      <td>n</td>\n",
       "      <td>y</td>\n",
       "      <td>y</td>\n",
       "      <td>y</td>\n",
       "      <td>n</td>\n",
       "      <td>y</td>\n",
       "    </tr>\n",
       "    <tr>\n",
       "      <th>431</th>\n",
       "      <td>democrat</td>\n",
       "      <td>n</td>\n",
       "      <td>n</td>\n",
       "      <td>y</td>\n",
       "      <td>n</td>\n",
       "      <td>n</td>\n",
       "      <td>n</td>\n",
       "      <td>y</td>\n",
       "      <td>y</td>\n",
       "      <td>y</td>\n",
       "      <td>y</td>\n",
       "      <td>n</td>\n",
       "      <td>n</td>\n",
       "      <td>n</td>\n",
       "      <td>n</td>\n",
       "      <td>n</td>\n",
       "      <td>y</td>\n",
       "    </tr>\n",
       "    <tr>\n",
       "      <th>432</th>\n",
       "      <td>republican</td>\n",
       "      <td>n</td>\n",
       "      <td>?</td>\n",
       "      <td>n</td>\n",
       "      <td>y</td>\n",
       "      <td>y</td>\n",
       "      <td>y</td>\n",
       "      <td>n</td>\n",
       "      <td>n</td>\n",
       "      <td>n</td>\n",
       "      <td>n</td>\n",
       "      <td>y</td>\n",
       "      <td>y</td>\n",
       "      <td>y</td>\n",
       "      <td>y</td>\n",
       "      <td>n</td>\n",
       "      <td>y</td>\n",
       "    </tr>\n",
       "    <tr>\n",
       "      <th>433</th>\n",
       "      <td>republican</td>\n",
       "      <td>n</td>\n",
       "      <td>n</td>\n",
       "      <td>n</td>\n",
       "      <td>y</td>\n",
       "      <td>y</td>\n",
       "      <td>y</td>\n",
       "      <td>?</td>\n",
       "      <td>?</td>\n",
       "      <td>?</td>\n",
       "      <td>?</td>\n",
       "      <td>n</td>\n",
       "      <td>y</td>\n",
       "      <td>y</td>\n",
       "      <td>y</td>\n",
       "      <td>n</td>\n",
       "      <td>y</td>\n",
       "    </tr>\n",
       "    <tr>\n",
       "      <th>434</th>\n",
       "      <td>republican</td>\n",
       "      <td>n</td>\n",
       "      <td>y</td>\n",
       "      <td>n</td>\n",
       "      <td>y</td>\n",
       "      <td>y</td>\n",
       "      <td>y</td>\n",
       "      <td>n</td>\n",
       "      <td>n</td>\n",
       "      <td>n</td>\n",
       "      <td>y</td>\n",
       "      <td>n</td>\n",
       "      <td>y</td>\n",
       "      <td>y</td>\n",
       "      <td>y</td>\n",
       "      <td>?</td>\n",
       "      <td>n</td>\n",
       "    </tr>\n",
       "  </tbody>\n",
       "</table>\n",
       "<p>435 rows × 17 columns</p>\n",
       "</div>"
      ],
      "text/plain": [
       "          Class Handicapped infants Water project cost sharing  \\\n",
       "0    republican                   n                          y   \n",
       "1    republican                   n                          y   \n",
       "2      democrat                   ?                          y   \n",
       "3      democrat                   n                          y   \n",
       "4      democrat                   y                          y   \n",
       "..          ...                 ...                        ...   \n",
       "430  republican                   n                          n   \n",
       "431    democrat                   n                          n   \n",
       "432  republican                   n                          ?   \n",
       "433  republican                   n                          n   \n",
       "434  republican                   n                          y   \n",
       "\n",
       "    Adoption of the budget resolution Physician fee freeze El Salvador aid  \\\n",
       "0                                   n                    y               y   \n",
       "1                                   n                    y               y   \n",
       "2                                   y                    ?               y   \n",
       "3                                   y                    n               ?   \n",
       "4                                   y                    n               y   \n",
       "..                                ...                  ...             ...   \n",
       "430                                 y                    y               y   \n",
       "431                                 y                    n               n   \n",
       "432                                 n                    y               y   \n",
       "433                                 n                    y               y   \n",
       "434                                 n                    y               y   \n",
       "\n",
       "    Religious groups in schools Anti-satellite test ban  \\\n",
       "0                             y                       n   \n",
       "1                             y                       n   \n",
       "2                             y                       n   \n",
       "3                             y                       n   \n",
       "4                             y                       n   \n",
       "..                          ...                     ...   \n",
       "430                           y                       n   \n",
       "431                           n                       y   \n",
       "432                           y                       n   \n",
       "433                           y                       ?   \n",
       "434                           y                       n   \n",
       "\n",
       "    Aid to Nicaraguan Contras Mx Missile Immigration  \\\n",
       "0                           n          n           y   \n",
       "1                           n          n           n   \n",
       "2                           n          n           n   \n",
       "3                           n          n           n   \n",
       "4                           n          n           n   \n",
       "..                        ...        ...         ...   \n",
       "430                         n          y           y   \n",
       "431                         y          y           y   \n",
       "432                         n          n           n   \n",
       "433                         ?          ?           ?   \n",
       "434                         n          n           y   \n",
       "\n",
       "    Synfuels Corporation cutback Education spending Superfund right to sue  \\\n",
       "0                              ?                  y                      y   \n",
       "1                              n                  y                      y   \n",
       "2                              y                  n                      y   \n",
       "3                              y                  n                      y   \n",
       "4                              y                  ?                      y   \n",
       "..                           ...                ...                    ...   \n",
       "430                            n                  y                      y   \n",
       "431                            n                  n                      n   \n",
       "432                            y                  y                      y   \n",
       "433                            n                  y                      y   \n",
       "434                            n                  y                      y   \n",
       "\n",
       "    Crime Duty free exports Export administration act South Africa  \n",
       "0       y                 n                                      y  \n",
       "1       y                 n                                      ?  \n",
       "2       y                 n                                      n  \n",
       "3       n                 n                                      y  \n",
       "4       y                 y                                      y  \n",
       "..    ...               ...                                    ...  \n",
       "430     y                 n                                      y  \n",
       "431     n                 n                                      y  \n",
       "432     y                 n                                      y  \n",
       "433     y                 n                                      y  \n",
       "434     y                 ?                                      n  \n",
       "\n",
       "[435 rows x 17 columns]"
      ]
     },
     "execution_count": 182,
     "metadata": {},
     "output_type": "execute_result"
    }
   ],
   "source": [
    "cnames = [\n",
    "    'Class', 'Handicapped infants', 'Water project cost sharing', 'Adoption of the budget resolution',\n",
    "    'Physician fee freeze', 'El Salvador aid', 'Religious groups in schools', 'Anti-satellite test ban',\n",
    "    'Aid to Nicaraguan Contras', 'Mx Missile', 'Immigration', 'Synfuels Corporation cutback',\n",
    "    'Education spending', 'Superfund right to sue', 'Crime', 'Duty free exports',\n",
    "    'Export administration act South Africa']\n",
    "dtf = pandas.read_csv('house.data', sep=\",\", names=cnames)\n",
    "dtf"
   ]
  },
  {
   "cell_type": "markdown",
   "metadata": {},
   "source": [
    "The dataset consists of `17 attributes`, all categorical. \n",
    "\n",
    "The `Class` attribute consists of two options: `republican` and `democrat`. The other attributes consist of `y`, `n`, or `?`, representing the chosen vote (y = yes, n = no), or neutrality/undisclosed (`?`).\n",
    "\n",
    "Now, we must prepare the data with binarization to obtain discrete items for Frequent Itemset Mining."
   ]
  },
  {
   "cell_type": "code",
   "execution_count": 183,
   "metadata": {},
   "outputs": [],
   "source": [
    "dcols = [] # to store the data columns corresponding to the new attributes\n",
    "item_nbs = [] # to store the number of new attributes created from each original one (for plotting)\n",
    "item_lbls = [] # to store labels corresponding to the new attributes"
   ]
  },
  {
   "cell_type": "markdown",
   "metadata": {},
   "source": [
    "First, for the `Class` attribute, we have two categories."
   ]
  },
  {
   "cell_type": "code",
   "execution_count": 184,
   "metadata": {},
   "outputs": [],
   "source": [
    " #! This output looks strange. Is this correct?\n",
    "\n",
    "var_name, var_cats = (\"Class\", [\"republican\", \"democrat\"])\n",
    "cols = pandas.crosstab(dtf.index, [dtf[var_name]])  \n",
    "dcols.extend([cols[nc].values for nc in var_cats])"
   ]
  },
  {
   "cell_type": "markdown",
   "metadata": {},
   "source": [
    "And for the labels:"
   ]
  },
  {
   "cell_type": "code",
   "execution_count": 185,
   "metadata": {},
   "outputs": [
    {
     "data": {
      "text/plain": [
       "['[Class - republican]', '[Class - democrat]']"
      ]
     },
     "execution_count": 185,
     "metadata": {},
     "output_type": "execute_result"
    }
   ],
   "source": [
    "item_nbs.append(len(var_cats))\n",
    "item_lbls.extend([\"[%s - %s]\" % (var_name, v) for v in var_cats])\n",
    "item_lbls"
   ]
  },
  {
   "cell_type": "markdown",
   "metadata": {},
   "source": [
    "Now, for the other attributes, we have three categories: `y`, `n`, and `?`."
   ]
  },
  {
   "cell_type": "code",
   "execution_count": 186,
   "metadata": {},
   "outputs": [],
   "source": [
    "for var_name, var_cats in [\n",
    "    (\"Handicapped infants\", ['y', 'n', '?']),\n",
    "    (\"Water project cost sharing\", ['y', 'n', '?']),\n",
    "    (\"Adoption of the budget resolution\", ['y', 'n', '?']),\n",
    "    (\"Physician fee freeze\", ['y', 'n', '?']),\n",
    "    (\"El Salvador aid\", ['y', 'n', '?']),\n",
    "    (\"Religious groups in schools\", ['y', 'n', '?']),\n",
    "    (\"Anti-satellite test ban\", ['y', 'n', '?']),\n",
    "    (\"Aid to Nicaraguan Contras\", ['y', 'n', '?']),\n",
    "    (\"Mx Missile\", ['y', 'n', '?']),\n",
    "    (\"Immigration\", ['y', 'n', '?']),\n",
    "    (\"Synfuels Corporation cutback\", ['y', 'n', '?']),\n",
    "    (\"Education spending\", ['y', 'n', '?']),\n",
    "    (\"Superfund right to sue\", ['y', 'n', '?']),\n",
    "    (\"Crime\", ['y', 'n', '?']),\n",
    "    (\"Duty free exports\", ['y', 'n', '?']),\n",
    "    (\"Export administration act South Africa\", ['y', 'n', '?']),\n",
    "]:\n",
    "    cols = pandas.crosstab(dtf.index, [dtf[var_name]])  \n",
    "    dcols.extend([cols[nc].values for nc in var_cats])\n",
    "    item_nbs.append(len(var_cats))\n",
    "    item_lbls.extend([\"[%s - %s]\" % (var_name, v) for v in var_cats])"
   ]
  },
  {
   "cell_type": "markdown",
   "metadata": {},
   "source": [
    "Putting everything together, we obtain the binary matrix:"
   ]
  },
  {
   "cell_type": "code",
   "execution_count": 187,
   "metadata": {},
   "outputs": [
    {
     "data": {
      "text/plain": [
       "array([1, 0, 0, 1, 0, 1, 0, 0, 0, 1, 0, 1, 0, 0, 1, 0, 0, 1, 0, 0, 0, 1,\n",
       "       0, 0, 1, 0, 0, 1, 0, 1, 0, 0, 0, 1, 0, 1, 0, 0, 1, 0, 0, 1, 0, 0,\n",
       "       0, 0, 1, 0, 1, 0], dtype=int64)"
      ]
     },
     "execution_count": 187,
     "metadata": {},
     "output_type": "execute_result"
    }
   ],
   "source": [
    "bin_mat = numpy.vstack(dcols).T  # https://numpy.org/doc/stable/reference/generated/numpy.vstack.html\n",
    "bin_mat[-1]"
   ]
  },
  {
   "cell_type": "markdown",
   "metadata": {},
   "source": [
    "Turning the binary matrix into a list of transactions (i.e., sets of items), to be used as input for the FIM algorithm:"
   ]
  },
  {
   "cell_type": "code",
   "execution_count": 188,
   "metadata": {},
   "outputs": [
    {
     "data": {
      "text/plain": [
       "frozenset({0, 3, 5, 9, 11, 14, 17, 21, 24, 27, 29, 33, 35, 38, 41, 46, 48})"
      ]
     },
     "execution_count": 188,
     "metadata": {},
     "output_type": "execute_result"
    }
   ],
   "source": [
    "tracts = [frozenset(numpy.where(r)[0]) for r in bin_mat]\n",
    "tracts[-1]"
   ]
  },
  {
   "cell_type": "markdown",
   "metadata": {},
   "source": [
    "## Statistics"
   ]
  },
  {
   "cell_type": "code",
   "execution_count": 189,
   "metadata": {},
   "outputs": [
    {
     "data": {
      "text/plain": [
       "435"
      ]
     },
     "execution_count": 189,
     "metadata": {},
     "output_type": "execute_result"
    }
   ],
   "source": [
    "len(tracts)"
   ]
  },
  {
   "cell_type": "markdown",
   "metadata": {},
   "source": [
    "There are `435 transactions` in total. Each transaction corresponds to one individual voter.\n",
    "\n",
    "Each transaction contains `17 items`:"
   ]
  },
  {
   "cell_type": "code",
   "execution_count": 190,
   "metadata": {},
   "outputs": [
    {
     "data": {
      "text/plain": [
       "{17}"
      ]
     },
     "execution_count": 190,
     "metadata": {},
     "output_type": "execute_result"
    }
   ],
   "source": [
    "set(numpy.sum(bin_mat, axis=1))"
   ]
  },
  {
   "cell_type": "markdown",
   "metadata": {},
   "source": [
    "The histogram of the data shows more clearly the voting distribution accross categories:\n",
    "- for the `Class` attribute, the first bar is `republican`, and the second one is `democrat`;\n",
    "- for other attributes, the first bar is `y`, second is `n`, third is `?`."
   ]
  },
  {
   "cell_type": "code",
   "execution_count": 191,
   "metadata": {},
   "outputs": [
    {
     "data": {
      "image/png": "[encoded data removed]",
      "text/plain": [
       "<Figure size 1600x400 with 1 Axes>"
      ]
     },
     "metadata": {},
     "output_type": "display_data"
    }
   ],
   "source": [
    "plt.figure(figsize=(16,4))\n",
    "h = numpy.sum(bin_mat, axis=0)\n",
    "bw = 0.9/numpy.max(item_nbs)\n",
    "bf = 0.95\n",
    "xbs = []\n",
    "for ni, nb in enumerate(item_nbs):\n",
    "    xbs.extend([ni+(n-0.5*(nb-1+bf))*bw for n in range(nb)])\n",
    "plt.bar(xbs, h, width=bf*bw, align='edge', color=(68/255., 119/255., 170/255.))\n",
    "plt.xticks(range(len(cnames)), cnames, rotation='vertical')\n",
    "plt.xlabel(\"Attributes\")\n",
    "plt.ylabel(\"Nb. of occurrences\")\n",
    "plt.show()"
   ]
  },
  {
   "cell_type": "markdown",
   "metadata": {},
   "source": [
    "According to the dataset information page, we have 267 democrats and 168 republicans, as is evident by the histogram. Some other noticeable points are:\n",
    "- the votes with most uncertainty (`?`) are `Export administration act South Africa`, `Water project cost sharing`, and `Education spending`. Although they have the most amount of `?` votes, `Export administration...` has a majority of `yes`, `Water project...` is almost evenly divided, and `Education spending` is mostly `no`. This might indicate that `?` does not directly correlate to a consensus, or lack there of, of voting, but possibly as a desire to keep the voter opinion secret;\n",
    "- the votes with an even amount of `yes` and `no` are: `Water project cost sharing`, `El Salvador aid`, `Mx Missile`, `Immigration`, and `Superfund right to sue`;\n",
    "- votes with a big majority lead (>25%) on either `yes` or `no` are: `Adoption of the budget resolution` (yes), `Physician fee freeze` (no), `Religious groups in schools` (yes), `Synfuels Corporation cutback` (no), `Crime` (yes), and `Export administration act South Africa` (yes). \n",
    "\n",
    "As such, there is a clear difference in frequency for the items in the `house` dataset: votes with `?` are much less frequent than others (except for the `Export administration...` case), and the `yes` or `no` categories vary with the specific vote.\n"
   ]
  },
  {
   "cell_type": "markdown",
   "metadata": {},
   "source": [
    "## Mining"
   ]
  },
  {
   "cell_type": "markdown",
   "metadata": {},
   "source": [
    "Running the FIM algorithm with a support threshold of 15% (0.15*435 ~ 65), we obtain the following:"
   ]
  },
  {
   "cell_type": "code",
   "execution_count": 192,
   "metadata": {},
   "outputs": [
    {
     "name": "stdout",
     "output_type": "stream",
     "text": [
      "Found 31080 itemsets in 0:00:00.022018\n"
     ]
    }
   ],
   "source": [
    "nb_tot = len(tracts)\n",
    "FI = fim(tracts, target='s', supp=15)\n",
    "print(\"Found %d itemsets in %s\" % (len(FI), elps))"
   ]
  },
  {
   "cell_type": "markdown",
   "metadata": {},
   "source": [
    "The top 10 most frequent are:"
   ]
  },
  {
   "cell_type": "code",
   "execution_count": 193,
   "metadata": {},
   "outputs": [
    {
     "name": "stdout",
     "output_type": "stream",
     "text": [
      "[Religious groups in schools - y] (17,) 272 0.625\n",
      "[Export administration act South Africa - y] (47,) 269 0.618\n",
      "[Class - democrat] (1,) 267 0.614\n",
      "[Synfuels Corporation cutback - n] (33,) 264 0.607\n",
      "[Adoption of the budget resolution - y] (8,) 253 0.582\n",
      "[Crime - y] (41,) 248 0.570\n",
      "[Physician fee freeze - n] (12,) 247 0.568\n",
      "[Physician fee freeze - n] [Class - democrat] (12, 1) 245 0.563\n",
      "[Aid to Nicaraguan Contras - y] (23,) 242 0.556\n",
      "[Anti-satellite test ban - y] (20,) 239 0.549\n"
     ]
    }
   ],
   "source": [
    "for fi in sorted(FI, key=lambda x: -x[1])[:10]:\n",
    "    print(\" \".join([item_lbls[x] for x in fi[0]]), fi[0], fi[1], \"%.3f\" % (fi[1]/nb_tot))"
   ]
  },
  {
   "cell_type": "markdown",
   "metadata": {},
   "source": [
    "Most are singletons. Interestingly, the itemset of `democrats` voting `no` for `Physician fee freeze` appears in the top 10.\n",
    "\n",
    "Restricting the algorithm to itemsets of size 2 gives us the following top 10: "
   ]
  },
  {
   "cell_type": "code",
   "execution_count": 194,
   "metadata": {},
   "outputs": [
    {
     "name": "stdout",
     "output_type": "stream",
     "text": [
      "Found 31046 itemsets in 0:00:00.022018\n",
      "\n",
      "[Physician fee freeze - n] [Class - democrat] (12, 1) 245 0.563\n",
      "[Adoption of the budget resolution - y] [Class - democrat] (8, 1) 231 0.531\n",
      "[Physician fee freeze - n] [Adoption of the budget resolution - y] [Class - democrat] (12, 8, 1) 219 0.503\n",
      "[Physician fee freeze - n] [Adoption of the budget resolution - y] (12, 8) 219 0.503\n",
      "[Aid to Nicaraguan Contras - y] [Class - democrat] (23, 1) 218 0.501\n",
      "[Aid to Nicaraguan Contras - y] [Adoption of the budget resolution - y] (23, 8) 215 0.494\n",
      "[Crime - y] [Religious groups in schools - y] (41, 17) 214 0.492\n",
      "[Education spending - n] [Class - democrat] (36, 1) 213 0.490\n",
      "[Aid to Nicaraguan Contras - y] [Physician fee freeze - n] (23, 12) 211 0.485\n",
      "[Anti-satellite test ban - y] [Aid to Nicaraguan Contras - y] (20, 23) 210 0.483\n"
     ]
    }
   ],
   "source": [
    "FI = fim(tracts, target='s', supp=15, zmin=2)\n",
    "print(\"Found %d itemsets in %s\" % (len(FI), elps))\n",
    "\n",
    "print('')  # Space between prints\n",
    "\n",
    "for fi in sorted(FI, key=lambda x: -x[1])[:10]:\n",
    "    print(\" \".join([item_lbls[x] for x in fi[0]]), fi[0], fi[1], \"%.3f\" % (fi[1]/nb_tot))"
   ]
  },
  {
   "cell_type": "markdown",
   "metadata": {},
   "source": [
    "This results shows us that, under a support threshold of 15%, the most votes were for `Physician fee freeze - n` and `Adoption of the budget resolution - y` by the `democrats`. Not only that, but the third most votes was the union of those two itemsets.\n",
    "\n",
    "Since we have 17 attributes, let's have a look at the most frequent maximal itemsets (15% supp. threshold)."
   ]
  },
  {
   "cell_type": "code",
   "execution_count": 195,
   "metadata": {},
   "outputs": [
    {
     "name": "stdout",
     "output_type": "stream",
     "text": [
      "Found 1021 itemsets in 0:00:00.022018\n",
      "\n",
      "1 [Immigration - y] [Synfuels Corporation cutback - n] [Export administration act South Africa - y] (29, 33, 47) 94 0.216\n",
      "2 [Immigration - y] [Handicapped infants - n] [Export administration act South Africa - y] (29, 3, 47) 85 0.195\n",
      "3 [Handicapped infants - y] [Duty free exports - n] (2, 45) 82 0.189\n",
      "4 [Water project cost sharing - n] [Immigration - n] (6, 30) 80 0.184\n",
      "5 [Immigration - y] [Duty free exports - n] [Export administration act South Africa - y] (29, 45, 47) 80 0.184\n",
      "6 [Duty free exports - n] [Anti-satellite test ban - y] (45, 20) 79 0.182\n",
      "7 [Water project cost sharing - n] [Handicapped infants - n] [Synfuels Corporation cutback - n] (6, 3, 33) 78 0.179\n",
      "8 [Education spending - n] [Duty free exports - n] (36, 45) 78 0.179\n",
      "9 [Adoption of the budget resolution - y] [Religious groups in schools - y] [Export administration act South Africa - y] (8, 17, 47) 78 0.179\n",
      "10 [Religious groups in schools - n] [Crime - n] [Superfund right to sue - n] [Mx Missile - y] [Education spending - n] [Anti-satellite test ban - y] [Adoption of the budget resolution - y] [El Salvador aid - n] [Aid to Nicaraguan Contras - y] [Class - democrat] [Physician fee freeze - n] (18, 42, 39, 26, 36, 20, 8, 15, 23, 1, 12) 77 0.177\n"
     ]
    }
   ],
   "source": [
    "FI = fim(tracts, target='m', supp=15, zmin=2)\n",
    "print(\"Found %d itemsets in %s\\n\" % (len(FI), elps))\n",
    "\n",
    "i = 1\n",
    "for fi in sorted(FI, key=lambda x: -x[1])[:10]:\n",
    "    print(i, \" \".join([item_lbls[x] for x in fi[0]]), fi[0], fi[1], \"%.3f\" % (fi[1]/nb_tot))\n",
    "    i += 1"
   ]
  },
  {
   "cell_type": "markdown",
   "metadata": {},
   "source": [
    "The resulting itemsets shows us votes that are commonly made together. The top one, for example, could indicate an association such as: if the voter is in favor of `Immigration` and `Export administration act South Africa`, then he is against `Synfuels Corporation cutback`. Or, on the second case, the voter would be against `Handicapped infants`. \n",
    "\n",
    "In the top 10 itemsets above, only one of them includes the `Class` attribute. We can see that this frequent itemset states that often `democrats` vote in favor of `Mx Missile`, `Anti-satellite test ban`, `Adoption of the budget resolution`, and `Aid to Nicaraguan Contras`, but against `Religious groups in schools`, `Crime`, `Superfund right to sue`, `Education spending`, `El Salvador aid`, and `Physician fee freeze`.\n",
    "\n",
    "What if we restricted the resulting itemsets to those that contain one of the categories in the `Class` attribute? Let's see the top 10 most common itemsets of votes for `democrats`:"
   ]
  },
  {
   "cell_type": "code",
   "execution_count": 196,
   "metadata": {},
   "outputs": [
    {
     "name": "stdout",
     "output_type": "stream",
     "text": [
      "Found 1021 itemsets in 0:00:00.022018\n",
      "\n",
      "1 [Religious groups in schools - n] [Crime - n] [Superfund right to sue - n] [Mx Missile - y] [Education spending - n] [Anti-satellite test ban - y] [Adoption of the budget resolution - y] [El Salvador aid - n] [Aid to Nicaraguan Contras - y] [Class - democrat] [Physician fee freeze - n] (18, 42, 39, 26, 36, 20, 8, 15, 23, 1, 12) 77 0.177\n",
      "2 [El Salvador aid - n] [Immigration - y] [Adoption of the budget resolution - y] [Anti-satellite test ban - y] [Physician fee freeze - n] [Aid to Nicaraguan Contras - y] [Class - democrat] (15, 29, 8, 20, 12, 23, 1) 77 0.177\n",
      "3 [Synfuels Corporation cutback - y] [Water project cost sharing - y] [Class - democrat] (32, 5, 1) 75 0.172\n",
      "4 [Synfuels Corporation cutback - y] [Religious groups in schools - y] [Class - democrat] (32, 17, 1) 75 0.172\n",
      "5 [Duty free exports - y] [Superfund right to sue - n] [Mx Missile - y] [Education spending - n] [Adoption of the budget resolution - y] [Anti-satellite test ban - y] [El Salvador aid - n] [Aid to Nicaraguan Contras - y] [Class - democrat] [Physician fee freeze - n] (44, 39, 26, 36, 8, 20, 15, 23, 1, 12) 74 0.170\n",
      "6 [Physician fee freeze - n] [Crime - y] [Class - democrat] (12, 41, 1) 74 0.170\n",
      "7 [Crime - y] [Class - democrat] [Religious groups in schools - y] (41, 1, 17) 74 0.170\n",
      "8 [Crime - n] [Duty free exports - y] [Superfund right to sue - n] [Education spending - n] [Anti-satellite test ban - y] [Adoption of the budget resolution - y] [El Salvador aid - n] [Aid to Nicaraguan Contras - y] [Class - democrat] [Physician fee freeze - n] (42, 44, 39, 36, 20, 8, 15, 23, 1, 12) 73 0.168\n",
      "9 [Water project cost sharing - y] [Aid to Nicaraguan Contras - y] [Education spending - n] [Adoption of the budget resolution - y] [Physician fee freeze - n] [Class - democrat] (5, 23, 36, 8, 12, 1) 73 0.168\n",
      "10 [Superfund right to sue - n] [Synfuels Corporation cutback - n] [Mx Missile - y] [Adoption of the budget resolution - y] [El Salvador aid - n] [Anti-satellite test ban - y] [Class - democrat] [Aid to Nicaraguan Contras - y] [Physician fee freeze - n] (39, 33, 26, 8, 15, 20, 1, 23, 12) 73 0.168\n"
     ]
    }
   ],
   "source": [
    "FI = fim(tracts, target='m', supp=15, zmin=2)\n",
    "print(\"Found %d itemsets in %s\\n\" % (len(FI), elps))\n",
    "\n",
    "class_labels = [1]  # democrat\n",
    "print_limit = 10\n",
    "i = 1\n",
    "\n",
    "for fi in sorted(FI, key=lambda x: -x[1]):\n",
    "    if any(attr in class_labels for attr in fi[0]):  # Only look at itemsets including the Class attrb\n",
    "        if i <= print_limit:\n",
    "            print(i, \" \".join([item_lbls[x] for x in fi[0]]), fi[0], fi[1], \"%.3f\" % (fi[1]/nb_tot))\n",
    "            i += 1"
   ]
  },
  {
   "cell_type": "markdown",
   "metadata": {},
   "source": [
    "The top results has 11 attributes (including `Class`), showing that democrats have a tendency of voting similarly. An interesting point is that the top result shows votes against `Religious groups in schools` (support of 77), but the fourth results shows votes in favor for it (75 support). This may indicate two distinct groups inside the `democrats` group.\n",
    "\n",
    "What about republicans?"
   ]
  },
  {
   "cell_type": "code",
   "execution_count": 197,
   "metadata": {},
   "outputs": [
    {
     "name": "stdout",
     "output_type": "stream",
     "text": [
      "Found 1021 itemsets in 0:00:00.022018\n",
      "\n",
      "1 [Class - republican] [Export administration act South Africa - y] [Synfuels Corporation cutback - n] [El Salvador aid - y] [Physician fee freeze - y] [Crime - y] (0, 47, 33, 14, 11, 41) 72 0.166\n",
      "2 [Class - republican] [Anti-satellite test ban - n] [Handicapped infants - n] [Superfund right to sue - y] [Education spending - y] [Duty free exports - n] [Crime - y] [Adoption of the budget resolution - n] [Religious groups in schools - y] [Aid to Nicaraguan Contras - n] [El Salvador aid - y] [Mx Missile - n] [Physician fee freeze - y] (0, 21, 3, 38, 35, 45, 41, 9, 17, 24, 14, 27, 11) 72 0.166\n",
      "3 [Class - republican] [Export administration act South Africa - y] [Superfund right to sue - y] [El Salvador aid - y] [Crime - y] [Physician fee freeze - y] (0, 47, 38, 14, 41, 11) 70 0.161\n",
      "4 [Class - republican] [Immigration - y] [Aid to Nicaraguan Contras - n] [Crime - y] [El Salvador aid - y] [Physician fee freeze - y] (0, 29, 24, 41, 14, 11) 69 0.159\n",
      "5 [Class - republican] [Immigration - y] [Mx Missile - n] [Crime - y] [Religious groups in schools - y] [El Salvador aid - y] [Physician fee freeze - y] (0, 29, 27, 41, 17, 14, 11) 69 0.159\n",
      "6 [Class - republican] [Immigration - y] [Synfuels Corporation cutback - n] [El Salvador aid - y] [Crime - y] [Physician fee freeze - y] (0, 29, 33, 14, 41, 11) 69 0.159\n",
      "7 [Class - republican] [Immigration - y] [Duty free exports - n] [El Salvador aid - y] [Crime - y] [Physician fee freeze - y] (0, 29, 45, 14, 41, 11) 69 0.159\n",
      "8 [Class - republican] [Export administration act South Africa - y] [Aid to Nicaraguan Contras - n] [Crime - y] [Physician fee freeze - y] [El Salvador aid - y] (0, 47, 24, 41, 11, 14) 69 0.159\n",
      "9 [Class - republican] [Export administration act South Africa - y] [Adoption of the budget resolution - n] [El Salvador aid - y] [Crime - y] [Physician fee freeze - y] (0, 47, 9, 14, 41, 11) 69 0.159\n",
      "10 [Class - republican] [Export administration act South Africa - y] [Mx Missile - n] [Religious groups in schools - y] [Crime - y] [Physician fee freeze - y] [El Salvador aid - y] (0, 47, 27, 17, 41, 11, 14) 69 0.159\n"
     ]
    }
   ],
   "source": [
    "FI = fim(tracts, target='m', supp=15, zmin=2)\n",
    "print(\"Found %d itemsets in %s\\n\" % (len(FI), elps))\n",
    "\n",
    "class_labels = [0]  # republican\n",
    "print_limit = 10\n",
    "i = 1\n",
    "\n",
    "for fi in sorted(FI, key=lambda x: -x[1]):\n",
    "    if any(attr in class_labels for attr in fi[0]):  # Only look at itemsets including the Class attrb\n",
    "        if i <= print_limit:\n",
    "            print(i, \" \".join([item_lbls[x] for x in fi[0]]), fi[0], fi[1], \"%.3f\" % (fi[1]/nb_tot))\n",
    "            i += 1"
   ]
  },
  {
   "cell_type": "markdown",
   "metadata": {},
   "source": [
    "The top 2 results have the same support value. Interestingly, the 2nd result contains 13 attributes (including `Class`), which indicates a stronger consensus between `republicans` in comparison with `democrats`.\n",
    "\n",
    "Let's check for a consensus of 5 votes for both `democrats` and `republicans`, only closed frequent itemsets with a support threshold of 30%."
   ]
  },
  {
   "cell_type": "code",
   "execution_count": 198,
   "metadata": {},
   "outputs": [
    {
     "name": "stdout",
     "output_type": "stream",
     "text": [
      "Found 43 itemsets in 0:00:00.022018\n",
      "\n",
      "1 [El Salvador aid - n] [Adoption of the budget resolution - y] [Anti-satellite test ban - y] [Physician fee freeze - n] [Aid to Nicaraguan Contras - y] [Class - democrat] (15, 8, 20, 12, 23, 1) 164 0.377\n",
      "2 [El Salvador aid - n] [Education spending - n] [Adoption of the budget resolution - y] [Physician fee freeze - n] [Aid to Nicaraguan Contras - y] [Class - democrat] (15, 36, 8, 12, 23, 1) 154 0.354\n",
      "3 [Mx Missile - y] [El Salvador aid - n] [Adoption of the budget resolution - y] [Physician fee freeze - n] [Aid to Nicaraguan Contras - y] [Class - democrat] (26, 15, 8, 12, 23, 1) 152 0.349\n",
      "4 [El Salvador aid - n] [Education spending - n] [Anti-satellite test ban - y] [Physician fee freeze - n] [Aid to Nicaraguan Contras - y] [Class - democrat] (15, 36, 20, 12, 23, 1) 151 0.347\n",
      "5 [Mx Missile - y] [El Salvador aid - n] [Anti-satellite test ban - y] [Physician fee freeze - n] [Aid to Nicaraguan Contras - y] [Class - democrat] (26, 15, 20, 12, 23, 1) 150 0.345\n",
      "6 [Education spending - n] [Anti-satellite test ban - y] [Adoption of the budget resolution - y] [Physician fee freeze - n] [Aid to Nicaraguan Contras - y] [Class - democrat] (36, 20, 8, 12, 23, 1) 149 0.343\n",
      "7 [Mx Missile - y] [Adoption of the budget resolution - y] [Anti-satellite test ban - y] [Physician fee freeze - n] [Aid to Nicaraguan Contras - y] [Class - democrat] (26, 8, 20, 12, 23, 1) 148 0.340\n",
      "8 [Superfund right to sue - n] [El Salvador aid - n] [Adoption of the budget resolution - y] [Physician fee freeze - n] [Aid to Nicaraguan Contras - y] [Class - democrat] (39, 15, 8, 12, 23, 1) 144 0.331\n",
      "9 [Mx Missile - y] [Education spending - n] [El Salvador aid - n] [Physician fee freeze - n] [Aid to Nicaraguan Contras - y] [Class - democrat] (26, 36, 15, 12, 23, 1) 144 0.331\n",
      "10 [El Salvador aid - n] [Education spending - n] [Adoption of the budget resolution - y] [Anti-satellite test ban - y] [Physician fee freeze - n] [Class - democrat] (15, 36, 8, 20, 12, 1) 144 0.331\n"
     ]
    }
   ],
   "source": [
    "FI = fim(tracts, target='c', supp=30, zmin=6)\n",
    "print(\"Found %d itemsets in %s\\n\" % (len(FI), elps))\n",
    "\n",
    "class_labels = [0, 1]  # republican, democrat\n",
    "print_limit = 10\n",
    "i = 1\n",
    "\n",
    "for fi in sorted(FI, key=lambda x: -x[1]):\n",
    "    if any(attr in class_labels for attr in fi[0]):  # Only look at itemsets including the Class attrb\n",
    "        if i <= print_limit:\n",
    "            print(i, \" \".join([item_lbls[x] for x in fi[0]]), fi[0], fi[1], \"%.3f\" % (fi[1]/nb_tot))\n",
    "            i += 1"
   ]
  },
  {
   "cell_type": "markdown",
   "metadata": {},
   "source": [
    "Here, all results are for `democrats`, indicating more frequent consensus of votes when considering only 5 votes (size 6 itemsets)."
   ]
  },
  {
   "cell_type": "markdown",
   "metadata": {},
   "source": [
    "# The Adult dataset"
   ]
  },
  {
   "cell_type": "markdown",
   "metadata": {},
   "source": [
    "The `adult` dataset contains a mix of categorical and numerical attributes. The goal stated in its page, http://archive.ics.uci.edu/ml/datasets/Adult, is to predict whether a person makes over 50K a year or not.\n",
    "\n",
    "Continuous attributes: `age`, `fnlwgt` (final weight), `education-num`, `capital-gain`, `capital-loss`, `hours-per-week`.\n",
    "\n",
    "Categorical attributes: `workclass`, `education`, `marital-status`, `occupation`, `relationship`, `race`, `sex`, `native-country`. Furthermore, `yearly-salary` was added, as it is in the data but not specified by the database description.\n",
    "\n",
    "Total of attributes: 15.\n",
    "\n",
    "**Note**: the `fnlwgt` attribute might have been used by the developed classifier mentioned in the website, and as such might not be of interest to our analysis."
   ]
  },
  {
   "cell_type": "markdown",
   "metadata": {},
   "source": [
    "## Pre-processing"
   ]
  },
  {
   "cell_type": "markdown",
   "metadata": {},
   "source": [
    "Let's first read and display the data and its outline."
   ]
  },
  {
   "cell_type": "code",
   "execution_count": 225,
   "metadata": {},
   "outputs": [
    {
     "data": {
      "text/html": [
       "<div>\n",
       "<style scoped>\n",
       "    .dataframe tbody tr th:only-of-type {\n",
       "        vertical-align: middle;\n",
       "    }\n",
       "\n",
       "    .dataframe tbody tr th {\n",
       "        vertical-align: top;\n",
       "    }\n",
       "\n",
       "    .dataframe thead th {\n",
       "        text-align: right;\n",
       "    }\n",
       "</style>\n",
       "<table border=\"1\" class=\"dataframe\">\n",
       "  <thead>\n",
       "    <tr style=\"text-align: right;\">\n",
       "      <th></th>\n",
       "      <th>age</th>\n",
       "      <th>workclass</th>\n",
       "      <th>fnlwgt</th>\n",
       "      <th>education</th>\n",
       "      <th>education-num</th>\n",
       "      <th>marital-status</th>\n",
       "      <th>occupation</th>\n",
       "      <th>relationship</th>\n",
       "      <th>race</th>\n",
       "      <th>sex</th>\n",
       "      <th>capital-gain</th>\n",
       "      <th>capital-loss</th>\n",
       "      <th>hours-per-week</th>\n",
       "      <th>native-country</th>\n",
       "      <th>yearly-salary</th>\n",
       "    </tr>\n",
       "  </thead>\n",
       "  <tbody>\n",
       "    <tr>\n",
       "      <th>0</th>\n",
       "      <td>39</td>\n",
       "      <td>State-gov</td>\n",
       "      <td>77516</td>\n",
       "      <td>Bachelors</td>\n",
       "      <td>13</td>\n",
       "      <td>Never-married</td>\n",
       "      <td>Adm-clerical</td>\n",
       "      <td>Not-in-family</td>\n",
       "      <td>White</td>\n",
       "      <td>Male</td>\n",
       "      <td>2174</td>\n",
       "      <td>0</td>\n",
       "      <td>40</td>\n",
       "      <td>United-States</td>\n",
       "      <td>&lt;=50K</td>\n",
       "    </tr>\n",
       "    <tr>\n",
       "      <th>1</th>\n",
       "      <td>50</td>\n",
       "      <td>Self-emp-not-inc</td>\n",
       "      <td>83311</td>\n",
       "      <td>Bachelors</td>\n",
       "      <td>13</td>\n",
       "      <td>Married-civ-spouse</td>\n",
       "      <td>Exec-managerial</td>\n",
       "      <td>Husband</td>\n",
       "      <td>White</td>\n",
       "      <td>Male</td>\n",
       "      <td>0</td>\n",
       "      <td>0</td>\n",
       "      <td>13</td>\n",
       "      <td>United-States</td>\n",
       "      <td>&lt;=50K</td>\n",
       "    </tr>\n",
       "    <tr>\n",
       "      <th>2</th>\n",
       "      <td>38</td>\n",
       "      <td>Private</td>\n",
       "      <td>215646</td>\n",
       "      <td>HS-grad</td>\n",
       "      <td>9</td>\n",
       "      <td>Divorced</td>\n",
       "      <td>Handlers-cleaners</td>\n",
       "      <td>Not-in-family</td>\n",
       "      <td>White</td>\n",
       "      <td>Male</td>\n",
       "      <td>0</td>\n",
       "      <td>0</td>\n",
       "      <td>40</td>\n",
       "      <td>United-States</td>\n",
       "      <td>&lt;=50K</td>\n",
       "    </tr>\n",
       "    <tr>\n",
       "      <th>3</th>\n",
       "      <td>53</td>\n",
       "      <td>Private</td>\n",
       "      <td>234721</td>\n",
       "      <td>11th</td>\n",
       "      <td>7</td>\n",
       "      <td>Married-civ-spouse</td>\n",
       "      <td>Handlers-cleaners</td>\n",
       "      <td>Husband</td>\n",
       "      <td>Black</td>\n",
       "      <td>Male</td>\n",
       "      <td>0</td>\n",
       "      <td>0</td>\n",
       "      <td>40</td>\n",
       "      <td>United-States</td>\n",
       "      <td>&lt;=50K</td>\n",
       "    </tr>\n",
       "    <tr>\n",
       "      <th>4</th>\n",
       "      <td>28</td>\n",
       "      <td>Private</td>\n",
       "      <td>338409</td>\n",
       "      <td>Bachelors</td>\n",
       "      <td>13</td>\n",
       "      <td>Married-civ-spouse</td>\n",
       "      <td>Prof-specialty</td>\n",
       "      <td>Wife</td>\n",
       "      <td>Black</td>\n",
       "      <td>Female</td>\n",
       "      <td>0</td>\n",
       "      <td>0</td>\n",
       "      <td>40</td>\n",
       "      <td>Cuba</td>\n",
       "      <td>&lt;=50K</td>\n",
       "    </tr>\n",
       "    <tr>\n",
       "      <th>...</th>\n",
       "      <td>...</td>\n",
       "      <td>...</td>\n",
       "      <td>...</td>\n",
       "      <td>...</td>\n",
       "      <td>...</td>\n",
       "      <td>...</td>\n",
       "      <td>...</td>\n",
       "      <td>...</td>\n",
       "      <td>...</td>\n",
       "      <td>...</td>\n",
       "      <td>...</td>\n",
       "      <td>...</td>\n",
       "      <td>...</td>\n",
       "      <td>...</td>\n",
       "      <td>...</td>\n",
       "    </tr>\n",
       "    <tr>\n",
       "      <th>32556</th>\n",
       "      <td>27</td>\n",
       "      <td>Private</td>\n",
       "      <td>257302</td>\n",
       "      <td>Assoc-acdm</td>\n",
       "      <td>12</td>\n",
       "      <td>Married-civ-spouse</td>\n",
       "      <td>Tech-support</td>\n",
       "      <td>Wife</td>\n",
       "      <td>White</td>\n",
       "      <td>Female</td>\n",
       "      <td>0</td>\n",
       "      <td>0</td>\n",
       "      <td>38</td>\n",
       "      <td>United-States</td>\n",
       "      <td>&lt;=50K</td>\n",
       "    </tr>\n",
       "    <tr>\n",
       "      <th>32557</th>\n",
       "      <td>40</td>\n",
       "      <td>Private</td>\n",
       "      <td>154374</td>\n",
       "      <td>HS-grad</td>\n",
       "      <td>9</td>\n",
       "      <td>Married-civ-spouse</td>\n",
       "      <td>Machine-op-inspct</td>\n",
       "      <td>Husband</td>\n",
       "      <td>White</td>\n",
       "      <td>Male</td>\n",
       "      <td>0</td>\n",
       "      <td>0</td>\n",
       "      <td>40</td>\n",
       "      <td>United-States</td>\n",
       "      <td>&gt;50K</td>\n",
       "    </tr>\n",
       "    <tr>\n",
       "      <th>32558</th>\n",
       "      <td>58</td>\n",
       "      <td>Private</td>\n",
       "      <td>151910</td>\n",
       "      <td>HS-grad</td>\n",
       "      <td>9</td>\n",
       "      <td>Widowed</td>\n",
       "      <td>Adm-clerical</td>\n",
       "      <td>Unmarried</td>\n",
       "      <td>White</td>\n",
       "      <td>Female</td>\n",
       "      <td>0</td>\n",
       "      <td>0</td>\n",
       "      <td>40</td>\n",
       "      <td>United-States</td>\n",
       "      <td>&lt;=50K</td>\n",
       "    </tr>\n",
       "    <tr>\n",
       "      <th>32559</th>\n",
       "      <td>22</td>\n",
       "      <td>Private</td>\n",
       "      <td>201490</td>\n",
       "      <td>HS-grad</td>\n",
       "      <td>9</td>\n",
       "      <td>Never-married</td>\n",
       "      <td>Adm-clerical</td>\n",
       "      <td>Own-child</td>\n",
       "      <td>White</td>\n",
       "      <td>Male</td>\n",
       "      <td>0</td>\n",
       "      <td>0</td>\n",
       "      <td>20</td>\n",
       "      <td>United-States</td>\n",
       "      <td>&lt;=50K</td>\n",
       "    </tr>\n",
       "    <tr>\n",
       "      <th>32560</th>\n",
       "      <td>52</td>\n",
       "      <td>Self-emp-inc</td>\n",
       "      <td>287927</td>\n",
       "      <td>HS-grad</td>\n",
       "      <td>9</td>\n",
       "      <td>Married-civ-spouse</td>\n",
       "      <td>Exec-managerial</td>\n",
       "      <td>Wife</td>\n",
       "      <td>White</td>\n",
       "      <td>Female</td>\n",
       "      <td>15024</td>\n",
       "      <td>0</td>\n",
       "      <td>40</td>\n",
       "      <td>United-States</td>\n",
       "      <td>&gt;50K</td>\n",
       "    </tr>\n",
       "  </tbody>\n",
       "</table>\n",
       "<p>32561 rows × 15 columns</p>\n",
       "</div>"
      ],
      "text/plain": [
       "       age         workclass  fnlwgt   education  education-num  \\\n",
       "0       39         State-gov   77516   Bachelors             13   \n",
       "1       50  Self-emp-not-inc   83311   Bachelors             13   \n",
       "2       38           Private  215646     HS-grad              9   \n",
       "3       53           Private  234721        11th              7   \n",
       "4       28           Private  338409   Bachelors             13   \n",
       "...    ...               ...     ...         ...            ...   \n",
       "32556   27           Private  257302  Assoc-acdm             12   \n",
       "32557   40           Private  154374     HS-grad              9   \n",
       "32558   58           Private  151910     HS-grad              9   \n",
       "32559   22           Private  201490     HS-grad              9   \n",
       "32560   52      Self-emp-inc  287927     HS-grad              9   \n",
       "\n",
       "           marital-status         occupation   relationship   race     sex  \\\n",
       "0           Never-married       Adm-clerical  Not-in-family  White    Male   \n",
       "1      Married-civ-spouse    Exec-managerial        Husband  White    Male   \n",
       "2                Divorced  Handlers-cleaners  Not-in-family  White    Male   \n",
       "3      Married-civ-spouse  Handlers-cleaners        Husband  Black    Male   \n",
       "4      Married-civ-spouse     Prof-specialty           Wife  Black  Female   \n",
       "...                   ...                ...            ...    ...     ...   \n",
       "32556  Married-civ-spouse       Tech-support           Wife  White  Female   \n",
       "32557  Married-civ-spouse  Machine-op-inspct        Husband  White    Male   \n",
       "32558             Widowed       Adm-clerical      Unmarried  White  Female   \n",
       "32559       Never-married       Adm-clerical      Own-child  White    Male   \n",
       "32560  Married-civ-spouse    Exec-managerial           Wife  White  Female   \n",
       "\n",
       "       capital-gain  capital-loss  hours-per-week native-country yearly-salary  \n",
       "0              2174             0              40  United-States         <=50K  \n",
       "1                 0             0              13  United-States         <=50K  \n",
       "2                 0             0              40  United-States         <=50K  \n",
       "3                 0             0              40  United-States         <=50K  \n",
       "4                 0             0              40           Cuba         <=50K  \n",
       "...             ...           ...             ...            ...           ...  \n",
       "32556             0             0              38  United-States         <=50K  \n",
       "32557             0             0              40  United-States          >50K  \n",
       "32558             0             0              40  United-States         <=50K  \n",
       "32559             0             0              20  United-States         <=50K  \n",
       "32560         15024             0              40  United-States          >50K  \n",
       "\n",
       "[32561 rows x 15 columns]"
      ]
     },
     "execution_count": 225,
     "metadata": {},
     "output_type": "execute_result"
    }
   ],
   "source": [
    "cnames = [\n",
    "    'age', 'workclass', 'fnlwgt', 'education', 'education-num', 'marital-status',\n",
    "    'occupation', 'relationship', 'race', 'sex', 'capital-gain', 'capital-loss',\n",
    "    'hours-per-week', 'native-country', 'yearly-salary'\n",
    "    ]\n",
    "dtf = pandas.read_csv('adult.data', sep=\",\", names=cnames, skipinitialspace=True)\n",
    "dtf"
   ]
  },
  {
   "cell_type": "markdown",
   "metadata": {},
   "source": [
    "Since this dataset contains both categorical and numerical attributes, we must prepare it for the FIM algorithm."
   ]
  },
  {
   "cell_type": "code",
   "execution_count": 226,
   "metadata": {},
   "outputs": [],
   "source": [
    "dcols = [] # to store the data columns corresponding to the new attributes\n",
    "item_nbs = [] # to store the number of new attributes created from each original one (for plotting)\n",
    "item_lbls = [] # to store labels corresponding to the new attributes"
   ]
  },
  {
   "cell_type": "markdown",
   "metadata": {},
   "source": [
    "Let's first do the categorical attributes:"
   ]
  },
  {
   "cell_type": "code",
   "execution_count": 227,
   "metadata": {},
   "outputs": [
    {
     "data": {
      "text/html": [
       "<div>\n",
       "<style scoped>\n",
       "    .dataframe tbody tr th:only-of-type {\n",
       "        vertical-align: middle;\n",
       "    }\n",
       "\n",
       "    .dataframe tbody tr th {\n",
       "        vertical-align: top;\n",
       "    }\n",
       "\n",
       "    .dataframe thead th {\n",
       "        text-align: right;\n",
       "    }\n",
       "</style>\n",
       "<table border=\"1\" class=\"dataframe\">\n",
       "  <thead>\n",
       "    <tr style=\"text-align: right;\">\n",
       "      <th>native-country</th>\n",
       "      <th>?</th>\n",
       "      <th>Cambodia</th>\n",
       "      <th>Canada</th>\n",
       "      <th>China</th>\n",
       "      <th>Columbia</th>\n",
       "      <th>Cuba</th>\n",
       "      <th>Dominican-Republic</th>\n",
       "      <th>Ecuador</th>\n",
       "      <th>El-Salvador</th>\n",
       "      <th>England</th>\n",
       "      <th>...</th>\n",
       "      <th>Portugal</th>\n",
       "      <th>Puerto-Rico</th>\n",
       "      <th>Scotland</th>\n",
       "      <th>South</th>\n",
       "      <th>Taiwan</th>\n",
       "      <th>Thailand</th>\n",
       "      <th>Trinadad&amp;Tobago</th>\n",
       "      <th>United-States</th>\n",
       "      <th>Vietnam</th>\n",
       "      <th>Yugoslavia</th>\n",
       "    </tr>\n",
       "    <tr>\n",
       "      <th>row_0</th>\n",
       "      <th></th>\n",
       "      <th></th>\n",
       "      <th></th>\n",
       "      <th></th>\n",
       "      <th></th>\n",
       "      <th></th>\n",
       "      <th></th>\n",
       "      <th></th>\n",
       "      <th></th>\n",
       "      <th></th>\n",
       "      <th></th>\n",
       "      <th></th>\n",
       "      <th></th>\n",
       "      <th></th>\n",
       "      <th></th>\n",
       "      <th></th>\n",
       "      <th></th>\n",
       "      <th></th>\n",
       "      <th></th>\n",
       "      <th></th>\n",
       "      <th></th>\n",
       "    </tr>\n",
       "  </thead>\n",
       "  <tbody>\n",
       "    <tr>\n",
       "      <th>0</th>\n",
       "      <td>0</td>\n",
       "      <td>0</td>\n",
       "      <td>0</td>\n",
       "      <td>0</td>\n",
       "      <td>0</td>\n",
       "      <td>0</td>\n",
       "      <td>0</td>\n",
       "      <td>0</td>\n",
       "      <td>0</td>\n",
       "      <td>0</td>\n",
       "      <td>...</td>\n",
       "      <td>0</td>\n",
       "      <td>0</td>\n",
       "      <td>0</td>\n",
       "      <td>0</td>\n",
       "      <td>0</td>\n",
       "      <td>0</td>\n",
       "      <td>0</td>\n",
       "      <td>1</td>\n",
       "      <td>0</td>\n",
       "      <td>0</td>\n",
       "    </tr>\n",
       "    <tr>\n",
       "      <th>1</th>\n",
       "      <td>0</td>\n",
       "      <td>0</td>\n",
       "      <td>0</td>\n",
       "      <td>0</td>\n",
       "      <td>0</td>\n",
       "      <td>0</td>\n",
       "      <td>0</td>\n",
       "      <td>0</td>\n",
       "      <td>0</td>\n",
       "      <td>0</td>\n",
       "      <td>...</td>\n",
       "      <td>0</td>\n",
       "      <td>0</td>\n",
       "      <td>0</td>\n",
       "      <td>0</td>\n",
       "      <td>0</td>\n",
       "      <td>0</td>\n",
       "      <td>0</td>\n",
       "      <td>1</td>\n",
       "      <td>0</td>\n",
       "      <td>0</td>\n",
       "    </tr>\n",
       "    <tr>\n",
       "      <th>2</th>\n",
       "      <td>0</td>\n",
       "      <td>0</td>\n",
       "      <td>0</td>\n",
       "      <td>0</td>\n",
       "      <td>0</td>\n",
       "      <td>0</td>\n",
       "      <td>0</td>\n",
       "      <td>0</td>\n",
       "      <td>0</td>\n",
       "      <td>0</td>\n",
       "      <td>...</td>\n",
       "      <td>0</td>\n",
       "      <td>0</td>\n",
       "      <td>0</td>\n",
       "      <td>0</td>\n",
       "      <td>0</td>\n",
       "      <td>0</td>\n",
       "      <td>0</td>\n",
       "      <td>1</td>\n",
       "      <td>0</td>\n",
       "      <td>0</td>\n",
       "    </tr>\n",
       "    <tr>\n",
       "      <th>3</th>\n",
       "      <td>0</td>\n",
       "      <td>0</td>\n",
       "      <td>0</td>\n",
       "      <td>0</td>\n",
       "      <td>0</td>\n",
       "      <td>0</td>\n",
       "      <td>0</td>\n",
       "      <td>0</td>\n",
       "      <td>0</td>\n",
       "      <td>0</td>\n",
       "      <td>...</td>\n",
       "      <td>0</td>\n",
       "      <td>0</td>\n",
       "      <td>0</td>\n",
       "      <td>0</td>\n",
       "      <td>0</td>\n",
       "      <td>0</td>\n",
       "      <td>0</td>\n",
       "      <td>1</td>\n",
       "      <td>0</td>\n",
       "      <td>0</td>\n",
       "    </tr>\n",
       "    <tr>\n",
       "      <th>4</th>\n",
       "      <td>0</td>\n",
       "      <td>0</td>\n",
       "      <td>0</td>\n",
       "      <td>0</td>\n",
       "      <td>0</td>\n",
       "      <td>1</td>\n",
       "      <td>0</td>\n",
       "      <td>0</td>\n",
       "      <td>0</td>\n",
       "      <td>0</td>\n",
       "      <td>...</td>\n",
       "      <td>0</td>\n",
       "      <td>0</td>\n",
       "      <td>0</td>\n",
       "      <td>0</td>\n",
       "      <td>0</td>\n",
       "      <td>0</td>\n",
       "      <td>0</td>\n",
       "      <td>0</td>\n",
       "      <td>0</td>\n",
       "      <td>0</td>\n",
       "    </tr>\n",
       "    <tr>\n",
       "      <th>...</th>\n",
       "      <td>...</td>\n",
       "      <td>...</td>\n",
       "      <td>...</td>\n",
       "      <td>...</td>\n",
       "      <td>...</td>\n",
       "      <td>...</td>\n",
       "      <td>...</td>\n",
       "      <td>...</td>\n",
       "      <td>...</td>\n",
       "      <td>...</td>\n",
       "      <td>...</td>\n",
       "      <td>...</td>\n",
       "      <td>...</td>\n",
       "      <td>...</td>\n",
       "      <td>...</td>\n",
       "      <td>...</td>\n",
       "      <td>...</td>\n",
       "      <td>...</td>\n",
       "      <td>...</td>\n",
       "      <td>...</td>\n",
       "      <td>...</td>\n",
       "    </tr>\n",
       "    <tr>\n",
       "      <th>32556</th>\n",
       "      <td>0</td>\n",
       "      <td>0</td>\n",
       "      <td>0</td>\n",
       "      <td>0</td>\n",
       "      <td>0</td>\n",
       "      <td>0</td>\n",
       "      <td>0</td>\n",
       "      <td>0</td>\n",
       "      <td>0</td>\n",
       "      <td>0</td>\n",
       "      <td>...</td>\n",
       "      <td>0</td>\n",
       "      <td>0</td>\n",
       "      <td>0</td>\n",
       "      <td>0</td>\n",
       "      <td>0</td>\n",
       "      <td>0</td>\n",
       "      <td>0</td>\n",
       "      <td>1</td>\n",
       "      <td>0</td>\n",
       "      <td>0</td>\n",
       "    </tr>\n",
       "    <tr>\n",
       "      <th>32557</th>\n",
       "      <td>0</td>\n",
       "      <td>0</td>\n",
       "      <td>0</td>\n",
       "      <td>0</td>\n",
       "      <td>0</td>\n",
       "      <td>0</td>\n",
       "      <td>0</td>\n",
       "      <td>0</td>\n",
       "      <td>0</td>\n",
       "      <td>0</td>\n",
       "      <td>...</td>\n",
       "      <td>0</td>\n",
       "      <td>0</td>\n",
       "      <td>0</td>\n",
       "      <td>0</td>\n",
       "      <td>0</td>\n",
       "      <td>0</td>\n",
       "      <td>0</td>\n",
       "      <td>1</td>\n",
       "      <td>0</td>\n",
       "      <td>0</td>\n",
       "    </tr>\n",
       "    <tr>\n",
       "      <th>32558</th>\n",
       "      <td>0</td>\n",
       "      <td>0</td>\n",
       "      <td>0</td>\n",
       "      <td>0</td>\n",
       "      <td>0</td>\n",
       "      <td>0</td>\n",
       "      <td>0</td>\n",
       "      <td>0</td>\n",
       "      <td>0</td>\n",
       "      <td>0</td>\n",
       "      <td>...</td>\n",
       "      <td>0</td>\n",
       "      <td>0</td>\n",
       "      <td>0</td>\n",
       "      <td>0</td>\n",
       "      <td>0</td>\n",
       "      <td>0</td>\n",
       "      <td>0</td>\n",
       "      <td>1</td>\n",
       "      <td>0</td>\n",
       "      <td>0</td>\n",
       "    </tr>\n",
       "    <tr>\n",
       "      <th>32559</th>\n",
       "      <td>0</td>\n",
       "      <td>0</td>\n",
       "      <td>0</td>\n",
       "      <td>0</td>\n",
       "      <td>0</td>\n",
       "      <td>0</td>\n",
       "      <td>0</td>\n",
       "      <td>0</td>\n",
       "      <td>0</td>\n",
       "      <td>0</td>\n",
       "      <td>...</td>\n",
       "      <td>0</td>\n",
       "      <td>0</td>\n",
       "      <td>0</td>\n",
       "      <td>0</td>\n",
       "      <td>0</td>\n",
       "      <td>0</td>\n",
       "      <td>0</td>\n",
       "      <td>1</td>\n",
       "      <td>0</td>\n",
       "      <td>0</td>\n",
       "    </tr>\n",
       "    <tr>\n",
       "      <th>32560</th>\n",
       "      <td>0</td>\n",
       "      <td>0</td>\n",
       "      <td>0</td>\n",
       "      <td>0</td>\n",
       "      <td>0</td>\n",
       "      <td>0</td>\n",
       "      <td>0</td>\n",
       "      <td>0</td>\n",
       "      <td>0</td>\n",
       "      <td>0</td>\n",
       "      <td>...</td>\n",
       "      <td>0</td>\n",
       "      <td>0</td>\n",
       "      <td>0</td>\n",
       "      <td>0</td>\n",
       "      <td>0</td>\n",
       "      <td>0</td>\n",
       "      <td>0</td>\n",
       "      <td>1</td>\n",
       "      <td>0</td>\n",
       "      <td>0</td>\n",
       "    </tr>\n",
       "  </tbody>\n",
       "</table>\n",
       "<p>32561 rows × 42 columns</p>\n",
       "</div>"
      ],
      "text/plain": [
       "native-country  ?  Cambodia  Canada  China  Columbia  Cuba  \\\n",
       "row_0                                                        \n",
       "0               0         0       0      0         0     0   \n",
       "1               0         0       0      0         0     0   \n",
       "2               0         0       0      0         0     0   \n",
       "3               0         0       0      0         0     0   \n",
       "4               0         0       0      0         0     1   \n",
       "...            ..       ...     ...    ...       ...   ...   \n",
       "32556           0         0       0      0         0     0   \n",
       "32557           0         0       0      0         0     0   \n",
       "32558           0         0       0      0         0     0   \n",
       "32559           0         0       0      0         0     0   \n",
       "32560           0         0       0      0         0     0   \n",
       "\n",
       "native-country  Dominican-Republic  Ecuador  El-Salvador  England  ...  \\\n",
       "row_0                                                              ...   \n",
       "0                                0        0            0        0  ...   \n",
       "1                                0        0            0        0  ...   \n",
       "2                                0        0            0        0  ...   \n",
       "3                                0        0            0        0  ...   \n",
       "4                                0        0            0        0  ...   \n",
       "...                            ...      ...          ...      ...  ...   \n",
       "32556                            0        0            0        0  ...   \n",
       "32557                            0        0            0        0  ...   \n",
       "32558                            0        0            0        0  ...   \n",
       "32559                            0        0            0        0  ...   \n",
       "32560                            0        0            0        0  ...   \n",
       "\n",
       "native-country  Portugal  Puerto-Rico  Scotland  South  Taiwan  Thailand  \\\n",
       "row_0                                                                      \n",
       "0                      0            0         0      0       0         0   \n",
       "1                      0            0         0      0       0         0   \n",
       "2                      0            0         0      0       0         0   \n",
       "3                      0            0         0      0       0         0   \n",
       "4                      0            0         0      0       0         0   \n",
       "...                  ...          ...       ...    ...     ...       ...   \n",
       "32556                  0            0         0      0       0         0   \n",
       "32557                  0            0         0      0       0         0   \n",
       "32558                  0            0         0      0       0         0   \n",
       "32559                  0            0         0      0       0         0   \n",
       "32560                  0            0         0      0       0         0   \n",
       "\n",
       "native-country  Trinadad&Tobago  United-States  Vietnam  Yugoslavia  \n",
       "row_0                                                                \n",
       "0                             0              1        0           0  \n",
       "1                             0              1        0           0  \n",
       "2                             0              1        0           0  \n",
       "3                             0              1        0           0  \n",
       "4                             0              0        0           0  \n",
       "...                         ...            ...      ...         ...  \n",
       "32556                         0              1        0           0  \n",
       "32557                         0              1        0           0  \n",
       "32558                         0              1        0           0  \n",
       "32559                         0              1        0           0  \n",
       "32560                         0              1        0           0  \n",
       "\n",
       "[32561 rows x 42 columns]"
      ]
     },
     "execution_count": 227,
     "metadata": {},
     "output_type": "execute_result"
    }
   ],
   "source": [
    "for var_name, var_cats in [\n",
    "    (\"workclass\", ['Private', 'Self-emp-not-inc', 'Self-emp-inc', 'Federal-gov', 'Local-gov', 'State-gov', 'Without-pay', 'Never-worked']),\n",
    "    (\"education\", ['Bachelors', 'Some-college', '11th', 'HS-grad', 'Prof-school', 'Assoc-acdm', 'Assoc-voc', '9th', '7th-8th', '12th', 'Masters', '1st-4th', '10th', 'Doctorate', '5th-6th', 'Preschool']),\n",
    "    (\"marital-status\", ['Married-civ-spouse', 'Divorced', 'Never-married', 'Separated', 'Widowed', 'Married-spouse-absent', 'Married-AF-spouse']),\n",
    "    (\"occupation\", ['Tech-support', 'Craft-repair', 'Other-service', 'Sales', 'Exec-managerial', 'Prof-specialty', 'Handlers-cleaners', 'Machine-op-inspct', 'Adm-clerical', 'Farming-fishing', 'Transport-moving', 'Priv-house-serv', 'Protective-serv', 'Armed-Forces']),\n",
    "    (\"relationship\", ['Wife', 'Own-child', 'Husband', 'Not-in-family', 'Other-relative', 'Unmarried']),\n",
    "    (\"race\", ['White', 'Asian-Pac-Islander', 'Amer-Indian-Eskimo', 'Other', 'Black']),\n",
    "    (\"sex\", ['Female', 'Male']),\n",
    "    (\"native-country\", ['United-States', 'Cambodia', 'England', 'Puerto-Rico', 'Canada', 'Germany', 'Outlying-US(Guam-USVI-etc)', 'India', 'Japan', 'Greece', 'South', 'China', 'Cuba', 'Iran', 'Honduras', 'Philippines', 'Italy', 'Poland', 'Jamaica', 'Vietnam', 'Mexico', 'Portugal', 'Ireland', 'France', 'Dominican-Republic', 'Laos', 'Ecuador', 'Taiwan', 'Haiti', 'Columbia', 'Hungary', 'Guatemala', 'Nicaragua', 'Scotland', 'Thailand', 'Yugoslavia', 'El-Salvador', 'Trinadad&Tobago', 'Peru', 'Hong', 'Holand-Netherlands']),\n",
    "    ('yearly-salary', ['<=50K', '>50K'])\n",
    "]:\n",
    "    cols = pandas.crosstab(dtf.index, [dtf[var_name]])  \n",
    "    dcols.extend([cols[nc].values for nc in var_cats])\n",
    "    item_nbs.append(len(var_cats))\n",
    "    item_lbls.extend([\"[%s - %s]\" % (var_name, v) for v in var_cats])\n",
    "\n",
    "\n",
    "    if var_name == 'native-country':\n",
    "        native_cols = cols\n",
    "\n",
    "native_cols"
   ]
  },
  {
   "cell_type": "markdown",
   "metadata": {},
   "source": [
    "In the table above, `?` appears in the column names for `native-country`. This might be an error in the dataset, or a missing country name.\n",
    "\n",
    "Now, for the numerical attributes, we bin the values. The bin intervals for each attribute are defined as `(max - min)/5`. For `capital-gain`, the bins were chosen manually to avoid errors (empty bin)."
   ]
  },
  {
   "cell_type": "code",
   "execution_count": 228,
   "metadata": {},
   "outputs": [
    {
     "name": "stdout",
     "output_type": "stream",
     "text": [
      "age: min 17 max 90 step 14.6\n",
      "fnlwgt: min 12285 max 1484705 step 294484.0\n",
      "education-num: min 1 max 16 step 3.0\n",
      "capital-gain: min 0 max 99999 step 19999.8\n",
      "capital-loss: min 0 max 4356 step 871.2\n",
      "hours-per-week: min 1 max 99 step 19.6\n"
     ]
    }
   ],
   "source": [
    "numerical_attrb = ['age', 'fnlwgt', 'education-num', 'capital-gain', 'capital-loss', 'hours-per-week']\n",
    "\n",
    "for attrb in numerical_attrb:\n",
    "    min_value = dtf[attrb].min()\n",
    "    max_value = dtf[attrb].max()\n",
    "    step = (max_value-min_value)/5\n",
    "    print(f\"{attrb}: min {min_value} max {max_value} step {step}\")"
   ]
  },
  {
   "cell_type": "code",
   "execution_count": 229,
   "metadata": {},
   "outputs": [],
   "source": [
    "for var_name, var_bounds in [ \n",
    "    (\"age\", [31.6, 46.2, 60.8, 75.4]),\n",
    "    (\"fnlwgt\", [306764, 601253, 895737, 1190221]),\n",
    "    (\"education-num\", [4, 7, 10, 13]),\n",
    "    (\"capital-gain\", [25000, 50000]), #19999.8, 39999.6, 59999.4, 79999.2\n",
    "    (\"capital-loss\", [871.2, 1742.4, 2613.6, 3484.8]),\n",
    "    (\"hours-per-week\", [20.6, 40.2, 59.8, 79.4]),\n",
    "]:\n",
    "    bins = [dtf[var_name].min()]+var_bounds+[dtf[var_name].max()]\n",
    "    bvs = numpy.arange(len(bins)-1)\n",
    "    cols = pandas.crosstab(dtf.index, [pandas.cut(x=dtf[var_name], bins=bins, labels=bvs, include_lowest=True)])\n",
    "    dcols.extend([cols[nc].values for nc in bvs])\n",
    "    item_lbls.append(\"%s_..%s]\" % (var_name, var_bounds[0]))\n",
    "    item_nbs.append(len(var_bounds)+1)\n",
    "    item_lbls.extend([\"%s_(%s,%s]\" % (var_name, var_bounds[i], var_bounds[i+1]) for i in range(len(var_bounds)-1)])\n",
    "    item_lbls.append(\"%s_(%s..\" % (var_name, var_bounds[-1]))"
   ]
  },
  {
   "cell_type": "markdown",
   "metadata": {},
   "source": [
    "We can then obtain the binary matrix:"
   ]
  },
  {
   "cell_type": "code",
   "execution_count": 230,
   "metadata": {},
   "outputs": [
    {
     "data": {
      "text/plain": [
       "array([0, 0, 1, 0, 0, 0, 0, 0, 0, 0, 0, 1, 0, 0, 0, 0, 0, 0, 0, 0, 0, 0,\n",
       "       0, 0, 1, 0, 0, 0, 0, 0, 0, 0, 0, 0, 0, 1, 0, 0, 0, 0, 0, 0, 0, 0,\n",
       "       0, 1, 0, 0, 0, 0, 0, 1, 0, 0, 0, 0, 1, 0, 1, 0, 0, 0, 0, 0, 0, 0,\n",
       "       0, 0, 0, 0, 0, 0, 0, 0, 0, 0, 0, 0, 0, 0, 0, 0, 0, 0, 0, 0, 0, 0,\n",
       "       0, 0, 0, 0, 0, 0, 0, 0, 0, 0, 0, 0, 1, 0, 0, 1, 0, 0, 1, 0, 0, 0,\n",
       "       0, 0, 0, 1, 0, 0, 1, 0, 0, 1, 0, 0, 0, 0, 0, 1, 0, 0, 0],\n",
       "      dtype=int64)"
      ]
     },
     "execution_count": 230,
     "metadata": {},
     "output_type": "execute_result"
    }
   ],
   "source": [
    "bin_mat = numpy.vstack(dcols).T  # https://numpy.org/doc/stable/reference/generated/numpy.vstack.html\n",
    "bin_mat[-1]"
   ]
  },
  {
   "cell_type": "markdown",
   "metadata": {},
   "source": [
    "And turn it into a list of transactions for the FIM algorithm:"
   ]
  },
  {
   "cell_type": "code",
   "execution_count": 231,
   "metadata": {},
   "outputs": [
    {
     "data": {
      "text/plain": [
       "frozenset({2, 11, 24, 35, 45, 51, 56, 58, 100, 103, 106, 113, 116, 119, 125})"
      ]
     },
     "execution_count": 231,
     "metadata": {},
     "output_type": "execute_result"
    }
   ],
   "source": [
    "tracts = [frozenset(numpy.where(r)[0]) for r in bin_mat]\n",
    "tracts[-1]"
   ]
  },
  {
   "cell_type": "markdown",
   "metadata": {},
   "source": [
    "## Statistics"
   ]
  },
  {
   "cell_type": "code",
   "execution_count": 232,
   "metadata": {},
   "outputs": [
    {
     "data": {
      "text/plain": [
       "32561"
      ]
     },
     "execution_count": 232,
     "metadata": {},
     "output_type": "execute_result"
    }
   ],
   "source": [
    "len(tracts)"
   ]
  },
  {
   "cell_type": "markdown",
   "metadata": {},
   "source": [
    "There are `32561 transactions` in total. Each transaction corresponds to one person.\n",
    "\n",
    "Each transaction contains between `12` and `15 items`:"
   ]
  },
  {
   "cell_type": "code",
   "execution_count": 233,
   "metadata": {},
   "outputs": [
    {
     "data": {
      "text/plain": [
       "{12, 13, 14, 15}"
      ]
     },
     "execution_count": 233,
     "metadata": {},
     "output_type": "execute_result"
    }
   ],
   "source": [
    "set(numpy.sum(bin_mat, axis=1))  #? Why does it have 4 elements?"
   ]
  },
  {
   "cell_type": "markdown",
   "metadata": {},
   "source": [
    "The histogram of the data shows the distribution accross categories for each person. The differences in amount inside of each attribute are evident:\n",
    "- for the `age` attribute, the amount of younger people is much higher than older people (up to 31.6 years). A different binning could equalize the different bins, e.g. more bins in-between 18-30 years old;\n",
    "- in the `workclass` attribute, `Federal-Gov` is the most common category;\n",
    "- `Married-civ-spouse` is overwhelmingly higher in amount than other categories in the `marital-status` attribute.  "
   ]
  },
  {
   "cell_type": "code",
   "execution_count": 234,
   "metadata": {},
   "outputs": [
    {
     "data": {
      "image/png": "[encoded data removed]",
      "text/plain": [
       "<Figure size 1600x400 with 1 Axes>"
      ]
     },
     "metadata": {},
     "output_type": "display_data"
    }
   ],
   "source": [
    "plt.figure(figsize=(16,4))\n",
    "h = numpy.sum(bin_mat, axis=0)\n",
    "bw = 3.5/numpy.max(item_nbs)\n",
    "bf = 2\n",
    "xbs = []\n",
    "for ni, nb in enumerate(item_nbs):\n",
    "    xbs.extend([ni+(n-0.5*(nb-1+bf))*bw for n in range(nb)])\n",
    "plt.bar(xbs, h, width=bf*bw, align='edge', color=(68/255., 119/255., 170/255.))\n",
    "plt.xticks(range(len(cnames)), cnames, rotation='vertical')\n",
    "plt.xlabel(\"Attributes\")\n",
    "plt.ylabel(\"Nb. of occurrences\")\n",
    "plt.show()"
   ]
  },
  {
   "cell_type": "markdown",
   "metadata": {},
   "source": [
    "## Mining"
   ]
  },
  {
   "cell_type": "markdown",
   "metadata": {},
   "source": [
    "Running the FIM algorithm with a support threshold of 15% (0.15*435 ~ 65), we obtain the following:"
   ]
  },
  {
   "cell_type": "code",
   "execution_count": 235,
   "metadata": {},
   "outputs": [
    {
     "name": "stdout",
     "output_type": "stream",
     "text": [
      "Found 3998 itemsets in 0:00:00.022018\n"
     ]
    }
   ],
   "source": [
    "nb_tot = len(tracts)\n",
    "FI = fim(tracts, target='s', supp=15)\n",
    "print(\"Found %d itemsets in %s\" % (len(FI), elps))"
   ]
  },
  {
   "cell_type": "markdown",
   "metadata": {},
   "source": [
    "The top 10 most frequent are:"
   ]
  },
  {
   "cell_type": "code",
   "execution_count": 236,
   "metadata": {},
   "outputs": [
    {
     "name": "stdout",
     "output_type": "stream",
     "text": [
      "capital-gain_..25000] (116,) 32346 0.993\n",
      "capital-loss_..871.2] (119,) 31070 0.954\n",
      "capital-loss_..871.2] capital-gain_..25000] (119, 116) 30855 0.948\n",
      "[native-country - United-States] (58,) 29170 0.896\n",
      "[native-country - United-States] capital-gain_..25000] (58, 116) 28977 0.890\n",
      "fnlwgt_..306764] (106,) 28444 0.874\n",
      "fnlwgt_..306764] capital-gain_..25000] (106, 116) 28258 0.868\n",
      "[race - White] (51,) 27816 0.854\n",
      "[native-country - United-States] capital-loss_..871.2] (58, 119) 27816 0.854\n",
      "[race - White] capital-gain_..25000] (51, 116) 27625 0.848\n"
     ]
    }
   ],
   "source": [
    "for fi in sorted(FI, key=lambda x: -x[1])[:10]:\n",
    "    print(\" \".join([item_lbls[x] for x in fi[0]]), fi[0], fi[1], \"%.3f\" % (fi[1]/nb_tot))"
   ]
  },
  {
   "cell_type": "markdown",
   "metadata": {},
   "source": [
    "The most frequent singleton is `capital-gain_..25000`, meaning that the most common characteristic for all people is their low income. An itemset with `native-country - United-States` also appears alongside the low income, showing that most low-income people are from this country (for this dataset). We also notice that most people in the dataset are `race - White`. \n",
    "\n",
    "Restricting the algorithm to itemsets of size 2 gives us the following top 10: "
   ]
  },
  {
   "cell_type": "code",
   "execution_count": 237,
   "metadata": {},
   "outputs": [
    {
     "name": "stdout",
     "output_type": "stream",
     "text": [
      "Found 3973 itemsets in 0:00:00.022018\n",
      "\n",
      "capital-loss_..871.2] capital-gain_..25000] (119, 116) 30855 0.948\n",
      "[native-country - United-States] capital-gain_..25000] (58, 116) 28977 0.890\n",
      "fnlwgt_..306764] capital-gain_..25000] (106, 116) 28258 0.868\n",
      "[native-country - United-States] capital-loss_..871.2] (58, 119) 27816 0.854\n",
      "[race - White] capital-gain_..25000] (51, 116) 27625 0.848\n",
      "[native-country - United-States] capital-loss_..871.2] capital-gain_..25000] (58, 119, 116) 27623 0.848\n",
      "fnlwgt_..306764] capital-loss_..871.2] (106, 119) 27129 0.833\n",
      "fnlwgt_..306764] capital-loss_..871.2] capital-gain_..25000] (106, 119, 116) 26943 0.827\n",
      "[race - White] capital-loss_..871.2] (51, 119) 26492 0.814\n",
      "[race - White] capital-loss_..871.2] capital-gain_..25000] (51, 119, 116) 26301 0.808\n"
     ]
    }
   ],
   "source": [
    "FI = fim(tracts, target='s', supp=15, zmin=2)\n",
    "print(\"Found %d itemsets in %s\" % (len(FI), elps))\n",
    "\n",
    "print('')  # Space between prints\n",
    "\n",
    "for fi in sorted(FI, key=lambda x: -x[1])[:10]:\n",
    "    print(\" \".join([item_lbls[x] for x in fi[0]]), fi[0], fi[1], \"%.3f\" % (fi[1]/nb_tot))"
   ]
  },
  {
   "cell_type": "markdown",
   "metadata": {},
   "source": [
    "The most frequent itemset of size 2 is a combination of `capital-loss_..871.2` with `capital-gain_..25000`. The meaning of capital loss was not clarified in the dataset page, but it is assumed that this combination might mean an association that people of low income also possess capital loss (perhaps debt?). "
   ]
  },
  {
   "cell_type": "markdown",
   "metadata": {},
   "source": [
    "Since we have 15 attributes, let's have a look at the most frequent maximal itemsets (15% supp. threshold)."
   ]
  },
  {
   "cell_type": "code",
   "execution_count": 238,
   "metadata": {},
   "outputs": [
    {
     "name": "stdout",
     "output_type": "stream",
     "text": [
      "Found 186 itemsets in 0:00:00.022018\n",
      "\n",
      "1 [sex - Male] [workclass - Private] [yearly-salary - <=50K] fnlwgt_..306764] [race - White] [native-country - United-States] capital-loss_..871.2] capital-gain_..25000] (57, 0, 99, 106, 51, 58, 119, 116) 7018 0.216\n",
      "2 education-num_(7,10] [sex - Male] [yearly-salary - <=50K] [race - White] fnlwgt_..306764] [native-country - United-States] capital-loss_..871.2] capital-gain_..25000] (113, 57, 99, 51, 106, 58, 119, 116) 6379 0.196\n",
      "3 [sex - Female] [race - White] [yearly-salary - <=50K] fnlwgt_..306764] [native-country - United-States] capital-loss_..871.2] capital-gain_..25000] (56, 51, 99, 106, 58, 119, 116) 6090 0.187\n",
      "4 hours-per-week_(20.6,40.2] [sex - Male] [yearly-salary - <=50K] [race - White] fnlwgt_..306764] [native-country - United-States] capital-loss_..871.2] capital-gain_..25000] (125, 57, 99, 51, 106, 58, 119, 116) 6034 0.185\n",
      "5 [education - HS-grad] [yearly-salary - <=50K] [race - White] fnlwgt_..306764] [native-country - United-States] capital-loss_..871.2] capital-gain_..25000] education-num_(7,10] (11, 99, 51, 106, 58, 119, 116, 113) 5956 0.183\n",
      "6 [relationship - Husband] [workclass - Private] fnlwgt_..306764] [native-country - United-States] capital-loss_..871.2] [race - White] capital-gain_..25000] [marital-status - Married-civ-spouse] [sex - Male] (47, 0, 106, 58, 119, 51, 116, 24, 57) 5901 0.181\n",
      "7 education-num_(7,10] [sex - Male] [workclass - Private] fnlwgt_..306764] [race - White] [native-country - United-States] capital-loss_..871.2] capital-gain_..25000] (113, 57, 0, 106, 51, 58, 119, 116) 5835 0.179\n",
      "8 age_(31.6,46.2] [sex - Male] fnlwgt_..306764] [race - White] [native-country - United-States] capital-loss_..871.2] capital-gain_..25000] (102, 57, 106, 51, 58, 119, 116) 5696 0.175\n",
      "9 hours-per-week_(20.6,40.2] [sex - Male] [workclass - Private] [race - White] fnlwgt_..306764] [native-country - United-States] capital-loss_..871.2] capital-gain_..25000] (125, 57, 0, 51, 106, 58, 119, 116) 5675 0.174\n",
      "10 age_(31.6,46.2] [workclass - Private] [race - White] fnlwgt_..306764] [native-country - United-States] capital-loss_..871.2] capital-gain_..25000] (102, 0, 51, 106, 58, 119, 116) 5528 0.170\n"
     ]
    }
   ],
   "source": [
    "FI = fim(tracts, target='m', supp=15, zmin=2)\n",
    "print(\"Found %d itemsets in %s\\n\" % (len(FI), elps))\n",
    "\n",
    "i = 1\n",
    "for fi in sorted(FI, key=lambda x: -x[1])[:10]:\n",
    "    print(i, \" \".join([item_lbls[x] for x in fi[0]]), fi[0], fi[1], \"%.3f\" % (fi[1]/nb_tot))\n",
    "    i += 1"
   ]
  },
  {
   "cell_type": "markdown",
   "metadata": {},
   "source": [
    "The most common set of attributes a person has is a `white American male working privately with an yearly salary lower than 50K and capital gain lower than 25K, but also with capital loss lower than 871`. This maximal itemset has support count of `7018`, consisting `21.6%` of the maximal itemsets (for threshold 15%).\n",
    "\n",
    "In the third position, we have a `white female American with same capital gain and loss as the male`, on a support count of `6090` (`18.7%` of the maximal itemsets).\n",
    "\n",
    "What if we restrict the itemsets to include `yearly-salary - >50K` and check the profile of a person that receives over 50K a year? Reducing support threshold to 1%, targeting maximal itemsets, and setting the minimum itemset size to 5, we get the following top 10 itemsets:"
   ]
  },
  {
   "cell_type": "code",
   "execution_count": 263,
   "metadata": {},
   "outputs": [
    {
     "name": "stdout",
     "output_type": "stream",
     "text": [
      "Found 7791 itemsets in 0:00:00.022018\n",
      "\n",
      "1 hours-per-week_(40.2,59.8] [yearly-salary - >50K] age_(31.6,46.2] [workclass - Private] [relationship - Husband] capital-loss_..871.2] fnlwgt_..306764] [native-country - United-States] [race - White] capital-gain_..25000] [marital-status - Married-civ-spouse] [sex - Male] (126, 100, 102, 0, 47, 119, 106, 58, 51, 116, 24, 57) 619 0.019\n",
      "2 [yearly-salary - >50K] education-num_(7,10] age_(31.6,46.2] [workclass - Private] [relationship - Husband] fnlwgt_..306764] capital-loss_..871.2] [race - White] [native-country - United-States] capital-gain_..25000] [sex - Male] [marital-status - Married-civ-spouse] (100, 113, 102, 0, 47, 106, 119, 51, 58, 116, 57, 24) 562 0.017\n",
      "3 [yearly-salary - >50K] hours-per-week_(20.6,40.2] age_(31.6,46.2] [workclass - Private] [relationship - Husband] [race - White] fnlwgt_..306764] capital-loss_..871.2] [native-country - United-States] capital-gain_..25000] [sex - Male] [marital-status - Married-civ-spouse] (100, 125, 102, 0, 47, 51, 106, 119, 58, 116, 57, 24) 561 0.017\n",
      "4 [education - Some-college] [yearly-salary - >50K] [workclass - Private] [relationship - Husband] fnlwgt_..306764] capital-loss_..871.2] [race - White] [native-country - United-States] capital-gain_..25000] education-num_(7,10] [sex - Male] [marital-status - Married-civ-spouse] (9, 100, 0, 47, 106, 119, 51, 58, 116, 113, 57, 24) 500 0.015\n",
      "5 hours-per-week_(59.8,79.4] [yearly-salary - >50K] [relationship - Husband] fnlwgt_..306764] capital-loss_..871.2] [native-country - United-States] capital-gain_..25000] [race - White] [marital-status - Married-civ-spouse] [sex - Male] (127, 100, 47, 106, 119, 58, 116, 51, 24, 57) 489 0.015\n",
      "6 fnlwgt_(306764,601253] [yearly-salary - >50K] [relationship - Husband] [race - White] capital-loss_..871.2] [native-country - United-States] capital-gain_..25000] [marital-status - Married-civ-spouse] [sex - Male] (107, 100, 47, 51, 119, 58, 116, 24, 57) 482 0.015\n",
      "7 age_(46.2,60.8] hours-per-week_(40.2,59.8] [yearly-salary - >50K] [relationship - Husband] fnlwgt_..306764] capital-loss_..871.2] [native-country - United-States] [race - White] capital-gain_..25000] [marital-status - Married-civ-spouse] [sex - Male] (103, 126, 100, 47, 106, 119, 58, 51, 116, 24, 57) 480 0.015\n",
      "8 [education - Bachelors] [yearly-salary - >50K] hours-per-week_(20.6,40.2] [relationship - Husband] fnlwgt_..306764] [native-country - United-States] capital-loss_..871.2] [race - White] capital-gain_..25000] education-num_(10,13] [sex - Male] [marital-status - Married-civ-spouse] (8, 100, 125, 47, 106, 58, 119, 51, 116, 114, 57, 24) 468 0.014\n",
      "9 [relationship - Wife] [yearly-salary - >50K] fnlwgt_..306764] [race - White] capital-loss_..871.2] [native-country - United-States] capital-gain_..25000] [marital-status - Married-civ-spouse] [sex - Female] (45, 100, 106, 51, 119, 58, 116, 24, 56) 467 0.014\n",
      "10 [yearly-salary - >50K] [sex - Female] [workclass - Private] [race - White] fnlwgt_..306764] capital-loss_..871.2] [native-country - United-States] capital-gain_..25000] (100, 56, 0, 51, 106, 119, 58, 116) 463 0.014\n"
     ]
    }
   ],
   "source": [
    "FI = fim(tracts, target='m', supp=1, zmin=5)\n",
    "print(\"Found %d itemsets in %s\\n\" % (len(FI), elps))\n",
    "\n",
    "class_labels = [100]  # education - Masters\n",
    "print_limit = 10\n",
    "i = 1\n",
    "\n",
    "for fi in sorted(FI, key=lambda x: -x[1]):\n",
    "    if any(attr in class_labels for attr in fi[0]):  # Only look at itemsets including the Class attrb\n",
    "        if i <= print_limit:\n",
    "            print(i, \" \".join([item_lbls[x] for x in fi[0]]), fi[0], fi[1], \"%.3f\" % (fi[1]/nb_tot))\n",
    "            i += 1"
   ]
  },
  {
   "cell_type": "markdown",
   "metadata": {},
   "source": [
    "The top 2 itemsets are very similar: white American married male. For the top itemset, we see that people are overworked, with a value between `40.2` and `59.8` hours per week, aged between `31.6` and `46.2`.\n",
    "\n",
    "The third most frequent itemset is different from the previous two in the sense that these people work a value between `20.6` and `40.2` hours per week. This may indicate that it is not necessary to overwork yourself with many hours a week to get a decent salary of 50K or more a year, although there seems to be an association with ages between `31.6` and `46.2`."
   ]
  }
 ],
 "metadata": {
  "kernelspec": {
   "display_name": "Python 3.9.1 ('.env': venv)",
   "language": "python",
   "name": "python3"
  },
  "language_info": {
   "codemirror_mode": {
    "name": "ipython",
    "version": 3
   },
   "file_extension": ".py",
   "mimetype": "text/x-python",
   "name": "python",
   "nbconvert_exporter": "python",
   "pygments_lexer": "ipython3",
   "version": "3.9.1"
  },
  "vscode": {
   "interpreter": {
    "hash": "c18f9aa5b4992ecbe91479f0e8f727368a787d891a4a54b43a10bb1b5aa3f0af"
   }
  }
 },
 "nbformat": 4,
 "nbformat_minor": 2
}
