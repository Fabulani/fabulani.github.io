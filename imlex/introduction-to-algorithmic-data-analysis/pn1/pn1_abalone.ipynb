{
 "cells": [
  {
   "cell_type": "markdown",
   "metadata": {},
   "source": [
    "# Mining frequent itemsets from the *Abalone* dataset"
   ]
  },
  {
   "cell_type": "markdown",
   "metadata": {},
   "source": [
    "First, let's import some packages. In particular, we will need `numpy` and `pandas` for processing the data, as well as `pyplot` for making plots."
   ]
  },
  {
   "cell_type": "code",
   "execution_count": 1,
   "metadata": {},
   "outputs": [],
   "source": [
    "%matplotlib inline\n",
    "import numpy\n",
    "import pandas\n",
    "import datetime\n",
    "import matplotlib.pyplot as plt"
   ]
  },
  {
   "cell_type": "markdown",
   "metadata": {},
   "source": [
    "In addition, we will use the Python implementation of a simplified version of the *Eclat/LCM* frequent itemset mining algorithm by C. Borgelt (https://borgelt.net/eclat.html)."
   ]
  },
  {
   "cell_type": "code",
   "execution_count": 2,
   "metadata": {},
   "outputs": [],
   "source": [
    "with open(\"pyfim.py\") as fp:\n",
    "    exec(fp.read())\n",
    "# from pyfim import *  # LOCALLY\n",
    "# import urllib.request  # REMOTELY\n",
    "# a = urllib.request.urlopen(\"https://members.loria.fr/EGalbrun/UEF_LPD/assignment/pyfim.py\")\n",
    "# exec(a.read())"
   ]
  },
  {
   "cell_type": "markdown",
   "metadata": {},
   "source": [
    "## Loading and preparing the data"
   ]
  },
  {
   "cell_type": "markdown",
   "metadata": {},
   "source": [
    "[Abalone](https://archive.ics.uci.edu/ml/datasets/Abalone) is one of the popular datasets from the [UCI Machine Learning Repository](https://archive.ics.uci.edu/ml/index.php).\n",
    "\n",
    "The dataset contains physical measurements of abalones, i.e. marine gastropod molluscs (see https://en.wikipedia.org/wiki/Abalone).\n",
    "\n",
    "In particular, from the [dataset description](https://archive.ics.uci.edu/ml/machine-learning-databases/abalone/abalone.names) we can find the list of attributes:\n",
    "\n",
    "Name | Data Type | Meas. | Description | \n",
    "---- | -----| ---- | ----------- |\n",
    "Sex\t | nominal |   | M, F, and I (infant) |\n",
    "Length | continuous | mm | Longest shell measurement |\n",
    "Diameter | continuous | mm | perpendicular to length\n",
    "Height | continuous | mm | with meat in shell |\n",
    "Whole weight | continuous | grams | whole abalone |\n",
    "Shucked weight | continuous | grams | weight of meat |\n",
    "Viscera weight | continuous | grams | gut weight (after bleeding) |\n",
    "Shell weight | continuous | grams | after being dried |\n",
    "Rings | integer |  | +1.5 gives the age in years |\n",
    "\n",
    "Next, we read the data in and display an outline."
   ]
  },
  {
   "cell_type": "code",
   "execution_count": 3,
   "metadata": {},
   "outputs": [
    {
     "data": {
      "text/html": [
       "<div>\n",
       "<style scoped>\n",
       "    .dataframe tbody tr th:only-of-type {\n",
       "        vertical-align: middle;\n",
       "    }\n",
       "\n",
       "    .dataframe tbody tr th {\n",
       "        vertical-align: top;\n",
       "    }\n",
       "\n",
       "    .dataframe thead th {\n",
       "        text-align: right;\n",
       "    }\n",
       "</style>\n",
       "<table border=\"1\" class=\"dataframe\">\n",
       "  <thead>\n",
       "    <tr style=\"text-align: right;\">\n",
       "      <th></th>\n",
       "      <th>Sex</th>\n",
       "      <th>Length</th>\n",
       "      <th>Diameter</th>\n",
       "      <th>Height</th>\n",
       "      <th>WholeWeight</th>\n",
       "      <th>ShuckedWeight</th>\n",
       "      <th>VisceraWeight</th>\n",
       "      <th>ShellWeight</th>\n",
       "      <th>Rings</th>\n",
       "    </tr>\n",
       "  </thead>\n",
       "  <tbody>\n",
       "    <tr>\n",
       "      <th>0</th>\n",
       "      <td>M</td>\n",
       "      <td>0.455</td>\n",
       "      <td>0.365</td>\n",
       "      <td>0.095</td>\n",
       "      <td>0.5140</td>\n",
       "      <td>0.2245</td>\n",
       "      <td>0.1010</td>\n",
       "      <td>0.1500</td>\n",
       "      <td>15</td>\n",
       "    </tr>\n",
       "    <tr>\n",
       "      <th>1</th>\n",
       "      <td>M</td>\n",
       "      <td>0.350</td>\n",
       "      <td>0.265</td>\n",
       "      <td>0.090</td>\n",
       "      <td>0.2255</td>\n",
       "      <td>0.0995</td>\n",
       "      <td>0.0485</td>\n",
       "      <td>0.0700</td>\n",
       "      <td>7</td>\n",
       "    </tr>\n",
       "    <tr>\n",
       "      <th>2</th>\n",
       "      <td>F</td>\n",
       "      <td>0.530</td>\n",
       "      <td>0.420</td>\n",
       "      <td>0.135</td>\n",
       "      <td>0.6770</td>\n",
       "      <td>0.2565</td>\n",
       "      <td>0.1415</td>\n",
       "      <td>0.2100</td>\n",
       "      <td>9</td>\n",
       "    </tr>\n",
       "    <tr>\n",
       "      <th>3</th>\n",
       "      <td>M</td>\n",
       "      <td>0.440</td>\n",
       "      <td>0.365</td>\n",
       "      <td>0.125</td>\n",
       "      <td>0.5160</td>\n",
       "      <td>0.2155</td>\n",
       "      <td>0.1140</td>\n",
       "      <td>0.1550</td>\n",
       "      <td>10</td>\n",
       "    </tr>\n",
       "    <tr>\n",
       "      <th>4</th>\n",
       "      <td>I</td>\n",
       "      <td>0.330</td>\n",
       "      <td>0.255</td>\n",
       "      <td>0.080</td>\n",
       "      <td>0.2050</td>\n",
       "      <td>0.0895</td>\n",
       "      <td>0.0395</td>\n",
       "      <td>0.0550</td>\n",
       "      <td>7</td>\n",
       "    </tr>\n",
       "    <tr>\n",
       "      <th>...</th>\n",
       "      <td>...</td>\n",
       "      <td>...</td>\n",
       "      <td>...</td>\n",
       "      <td>...</td>\n",
       "      <td>...</td>\n",
       "      <td>...</td>\n",
       "      <td>...</td>\n",
       "      <td>...</td>\n",
       "      <td>...</td>\n",
       "    </tr>\n",
       "    <tr>\n",
       "      <th>4172</th>\n",
       "      <td>F</td>\n",
       "      <td>0.565</td>\n",
       "      <td>0.450</td>\n",
       "      <td>0.165</td>\n",
       "      <td>0.8870</td>\n",
       "      <td>0.3700</td>\n",
       "      <td>0.2390</td>\n",
       "      <td>0.2490</td>\n",
       "      <td>11</td>\n",
       "    </tr>\n",
       "    <tr>\n",
       "      <th>4173</th>\n",
       "      <td>M</td>\n",
       "      <td>0.590</td>\n",
       "      <td>0.440</td>\n",
       "      <td>0.135</td>\n",
       "      <td>0.9660</td>\n",
       "      <td>0.4390</td>\n",
       "      <td>0.2145</td>\n",
       "      <td>0.2605</td>\n",
       "      <td>10</td>\n",
       "    </tr>\n",
       "    <tr>\n",
       "      <th>4174</th>\n",
       "      <td>M</td>\n",
       "      <td>0.600</td>\n",
       "      <td>0.475</td>\n",
       "      <td>0.205</td>\n",
       "      <td>1.1760</td>\n",
       "      <td>0.5255</td>\n",
       "      <td>0.2875</td>\n",
       "      <td>0.3080</td>\n",
       "      <td>9</td>\n",
       "    </tr>\n",
       "    <tr>\n",
       "      <th>4175</th>\n",
       "      <td>F</td>\n",
       "      <td>0.625</td>\n",
       "      <td>0.485</td>\n",
       "      <td>0.150</td>\n",
       "      <td>1.0945</td>\n",
       "      <td>0.5310</td>\n",
       "      <td>0.2610</td>\n",
       "      <td>0.2960</td>\n",
       "      <td>10</td>\n",
       "    </tr>\n",
       "    <tr>\n",
       "      <th>4176</th>\n",
       "      <td>M</td>\n",
       "      <td>0.710</td>\n",
       "      <td>0.555</td>\n",
       "      <td>0.195</td>\n",
       "      <td>1.9485</td>\n",
       "      <td>0.9455</td>\n",
       "      <td>0.3765</td>\n",
       "      <td>0.4950</td>\n",
       "      <td>12</td>\n",
       "    </tr>\n",
       "  </tbody>\n",
       "</table>\n",
       "<p>4177 rows × 9 columns</p>\n",
       "</div>"
      ],
      "text/plain": [
       "     Sex  Length  Diameter  Height  WholeWeight  ShuckedWeight  VisceraWeight  \\\n",
       "0      M   0.455     0.365   0.095       0.5140         0.2245         0.1010   \n",
       "1      M   0.350     0.265   0.090       0.2255         0.0995         0.0485   \n",
       "2      F   0.530     0.420   0.135       0.6770         0.2565         0.1415   \n",
       "3      M   0.440     0.365   0.125       0.5160         0.2155         0.1140   \n",
       "4      I   0.330     0.255   0.080       0.2050         0.0895         0.0395   \n",
       "...   ..     ...       ...     ...          ...            ...            ...   \n",
       "4172   F   0.565     0.450   0.165       0.8870         0.3700         0.2390   \n",
       "4173   M   0.590     0.440   0.135       0.9660         0.4390         0.2145   \n",
       "4174   M   0.600     0.475   0.205       1.1760         0.5255         0.2875   \n",
       "4175   F   0.625     0.485   0.150       1.0945         0.5310         0.2610   \n",
       "4176   M   0.710     0.555   0.195       1.9485         0.9455         0.3765   \n",
       "\n",
       "      ShellWeight  Rings  \n",
       "0          0.1500     15  \n",
       "1          0.0700      7  \n",
       "2          0.2100      9  \n",
       "3          0.1550     10  \n",
       "4          0.0550      7  \n",
       "...           ...    ...  \n",
       "4172       0.2490     11  \n",
       "4173       0.2605     10  \n",
       "4174       0.3080      9  \n",
       "4175       0.2960     10  \n",
       "4176       0.4950     12  \n",
       "\n",
       "[4177 rows x 9 columns]"
      ]
     },
     "execution_count": 3,
     "metadata": {},
     "output_type": "execute_result"
    }
   ],
   "source": [
    "cnames = ['Sex', 'Length', 'Diameter', 'Height', 'WholeWeight', 'ShuckedWeight', 'VisceraWeight', 'ShellWeight', 'Rings']\n",
    "# dtf = pandas.read_csv('https://archive.ics.uci.edu/ml/machine-learning-databases/abalone/abalone.data', sep=\",\", names=cnames)# REMOTELY\n",
    "dtf = pandas.read_csv('abalone.data', sep=\",\", names=cnames) # LOCALLY\n",
    "dtf"
   ]
  },
  {
   "cell_type": "markdown",
   "metadata": {},
   "source": [
    "The dataset consists of nine attributes, one is categorical and the rest are numerical.\n",
    "\n",
    "Frequent itemset mining operates on transactional data. \n",
    "\n",
    "So, we need to prepare the data in a suitable way, using discretization and binarization to obtain binary attributes, that is, discrete items."
   ]
  },
  {
   "cell_type": "code",
   "execution_count": 4,
   "metadata": {},
   "outputs": [],
   "source": [
    "dcols = [] # to store the data columns corresponding to the new attributes\n",
    "item_nbs = [] # to store the number of new attributes created from each original one (for plotting)\n",
    "item_lbls = [] # to store labels corresponding to the new attributes"
   ]
  },
  {
   "cell_type": "markdown",
   "metadata": {},
   "source": [
    "First, for the categorical attribute *Sex* that comes with three categories, we create one new binary attribute for each category."
   ]
  },
  {
   "cell_type": "code",
   "execution_count": 5,
   "metadata": {},
   "outputs": [
    {
     "data": {
      "text/plain": [
       "[array([0, 0, 0, ..., 0, 0, 0], dtype=int64),\n",
       " array([1, 1, 0, ..., 1, 0, 1], dtype=int64),\n",
       " array([0, 0, 1, ..., 0, 1, 0], dtype=int64)]"
      ]
     },
     "execution_count": 5,
     "metadata": {},
     "output_type": "execute_result"
    }
   ],
   "source": [
    "var_name, var_cats = (\"Sex\", [\"I\", \"M\", \"F\"])\n",
    "cols = pandas.crosstab(dtf.index, [dtf[var_name]])  #? What is this function doing?\n",
    "dcols.extend([cols[nc].values for nc in var_cats])  #? Is this adding the transformed data into the new columns/table?\n",
    "dcols"
   ]
  },
  {
   "cell_type": "markdown",
   "metadata": {},
   "source": [
    "We also create labels for the new attributes, to be able to recover their meaning in the analysis."
   ]
  },
  {
   "cell_type": "code",
   "execution_count": 6,
   "metadata": {},
   "outputs": [
    {
     "data": {
      "text/plain": [
       "['Sex_I', 'Sex_M', 'Sex_F']"
      ]
     },
     "execution_count": 6,
     "metadata": {},
     "output_type": "execute_result"
    }
   ],
   "source": [
    "item_nbs.append(len(var_cats))\n",
    "item_lbls.extend([\"%s_%s\" % (var_name, v) for v in var_cats])\n",
    "item_lbls"
   ]
  },
  {
   "cell_type": "markdown",
   "metadata": {},
   "source": [
    "Second, for the numerical attribute *Length*, we choose a few thresholds across its range to define bins that will each be represented as a new binary attribute. "
   ]
  },
  {
   "cell_type": "code",
   "execution_count": 7,
   "metadata": {},
   "outputs": [
    {
     "data": {
      "text/plain": [
       "[array([0, 1, 0, ..., 0, 0, 0], dtype=int64),\n",
       " array([1, 0, 0, ..., 0, 0, 0], dtype=int64),\n",
       " array([0, 0, 1, ..., 0, 0, 0], dtype=int64),\n",
       " array([0, 0, 0, ..., 1, 1, 0], dtype=int64),\n",
       " array([0, 0, 0, ..., 0, 0, 1], dtype=int64)]"
      ]
     },
     "execution_count": 7,
     "metadata": {},
     "output_type": "execute_result"
    }
   ],
   "source": [
    "var_name, var_bounds = (\"Length\", [0.425, 0.51, 0.575, 0.625])  #? How were these values chosen? Was there an analysis of the data distribution to identify suitable bin values?\n",
    "bins = [dtf[var_name].min()]+var_bounds+[dtf[var_name].max()]\n",
    "bvs = numpy.arange(len(bins)-1)  # Return evenly spaced values within a given interval.\n",
    "cols = pandas.crosstab(dtf.index, [pandas.cut(x=dtf[var_name], bins=bins, labels=bvs, include_lowest=True)])\n",
    "dcols.extend([cols[nc].values for nc in bvs])\n",
    "dcols[3:]  #? Why \"3:\" ?"
   ]
  },
  {
   "cell_type": "markdown",
   "metadata": {},
   "source": [
    "and the corresponding labels:"
   ]
  },
  {
   "cell_type": "code",
   "execution_count": 8,
   "metadata": {},
   "outputs": [
    {
     "data": {
      "text/plain": [
       "['Length_..0.425]',\n",
       " 'Length_(0.425,0.51]',\n",
       " 'Length_(0.51,0.575]',\n",
       " 'Length_(0.575,0.625]',\n",
       " 'Length_(0.625..']"
      ]
     },
     "execution_count": 8,
     "metadata": {},
     "output_type": "execute_result"
    }
   ],
   "source": [
    "item_nbs.append(len(var_bounds)+1)\n",
    "item_lbls.append(\"%s_..%s]\" % (var_name, var_bounds[0]))\n",
    "item_lbls.extend([\"%s_(%s,%s]\" % (var_name, var_bounds[i], var_bounds[i+1]) for i in range(len(var_bounds)-1)])\n",
    "item_lbls.append(\"%s_(%s..\" % (var_name, var_bounds[-1]))\n",
    "item_lbls[3:]"
   ]
  },
  {
   "cell_type": "markdown",
   "metadata": {},
   "source": [
    "And similarly for the other numerical attributes, each with a few chosen thresholds for binning..."
   ]
  },
  {
   "cell_type": "code",
   "execution_count": 9,
   "metadata": {},
   "outputs": [],
   "source": [
    "for var_name, var_bounds in [ \n",
    "    (\"Diameter\", [0.325, 0.395, 0.45, 0.495]),\n",
    "    (\"Height\", [0.105, 0.13, 0.15, 0.175]),\n",
    "    (\"WholeWeight\", [0.366, 0.6445, 0.93, 1.2385]),\n",
    "    (\"ShuckedWeight\", [0.157, 0.2745, 0.4, 0.542]),\n",
    "    (\"VisceraWeight\", [0.0765, 0.1405, 0.201, 0.273]),\n",
    "    (\"ShellWeight\", [0.109, 0.1895, 0.27, 0.351]),\n",
    "    (\"Rings\", [7.0, 9.0, 10.0, 12.0])\n",
    "]:\n",
    "    bins = [dtf[var_name].min()]+var_bounds+[dtf[var_name].max()]\n",
    "    bvs = numpy.arange(len(bins)-1)\n",
    "    cols = pandas.crosstab(dtf.index, [pandas.cut(x=dtf[var_name], bins=bins, labels=bvs, include_lowest=True)])\n",
    "    dcols.extend([cols[nc].values for nc in bvs])\n",
    "    item_lbls.append(\"%s_..%s]\" % (var_name, var_bounds[0]))\n",
    "    item_nbs.append(len(var_bounds)+1)\n",
    "    item_lbls.extend([\"%s_(%s,%s]\" % (var_name, var_bounds[i], var_bounds[i+1]) for i in range(len(var_bounds)-1)])\n",
    "    item_lbls.append(\"%s_(%s..\" % (var_name, var_bounds[-1]))"
   ]
  },
  {
   "cell_type": "markdown",
   "metadata": {},
   "source": [
    "Then, we put the columns together, obtaining a binary matrix..."
   ]
  },
  {
   "cell_type": "code",
   "execution_count": 10,
   "metadata": {},
   "outputs": [
    {
     "data": {
      "text/plain": [
       "array([[0, 1, 0, 0, 1, 0, 0, 0, 0, 1, 0, 0, 0, 1, 0, 0, 0, 0, 0, 1, 0, 0,\n",
       "        0, 0, 1, 0, 0, 0, 0, 1, 0, 0, 0, 0, 1, 0, 0, 0, 0, 0, 0, 0, 1],\n",
       "       [0, 1, 0, 1, 0, 0, 0, 0, 1, 0, 0, 0, 0, 1, 0, 0, 0, 0, 1, 0, 0, 0,\n",
       "        0, 1, 0, 0, 0, 0, 1, 0, 0, 0, 0, 1, 0, 0, 0, 0, 1, 0, 0, 0, 0],\n",
       "       [0, 0, 1, 0, 0, 1, 0, 0, 0, 0, 1, 0, 0, 0, 0, 1, 0, 0, 0, 0, 1, 0,\n",
       "        0, 0, 1, 0, 0, 0, 0, 0, 1, 0, 0, 0, 0, 1, 0, 0, 0, 1, 0, 0, 0],\n",
       "       [0, 1, 0, 0, 1, 0, 0, 0, 0, 1, 0, 0, 0, 0, 1, 0, 0, 0, 0, 1, 0, 0,\n",
       "        0, 0, 1, 0, 0, 0, 0, 1, 0, 0, 0, 0, 1, 0, 0, 0, 0, 0, 1, 0, 0]],\n",
       "      dtype=int64)"
      ]
     },
     "execution_count": 10,
     "metadata": {},
     "output_type": "execute_result"
    }
   ],
   "source": [
    "bin_mat = numpy.vstack(dcols).T  # https://numpy.org/doc/stable/reference/generated/numpy.vstack.html\n",
    "bin_mat[:4]"
   ]
  },
  {
   "cell_type": "markdown",
   "metadata": {},
   "source": [
    "... and turn it into a list of transactions, i.e. sets of items, as expected by our frequent itemset mining algorithm."
   ]
  },
  {
   "cell_type": "code",
   "execution_count": 11,
   "metadata": {},
   "outputs": [
    {
     "data": {
      "text/plain": [
       "[frozenset({1, 4, 9, 13, 19, 24, 29, 34, 42}),\n",
       " frozenset({1, 3, 8, 13, 18, 23, 28, 33, 38}),\n",
       " frozenset({2, 5, 10, 15, 20, 24, 30, 35, 39}),\n",
       " frozenset({1, 4, 9, 14, 19, 24, 29, 34, 40})]"
      ]
     },
     "execution_count": 11,
     "metadata": {},
     "output_type": "execute_result"
    }
   ],
   "source": [
    "# Frozen set is just an immutable version of a Python set object. While elements of a set can be modified at any time, elements of the frozen set remain the same after creation.\n",
    "# numpy.where = Return elements chosen from x or y depending on condition.\n",
    "\n",
    "tracts = [frozenset(numpy.where(r)[0]) for r in bin_mat]  #? Is it using numpy.where just because frozenset requires an iterable? So it goes through the matrix and for every 0, it puts 0?\n",
    "tracts[:4]"
   ]
  },
  {
   "cell_type": "markdown",
   "metadata": {},
   "source": [
    "## Looking at the statistics of the data"
   ]
  },
  {
   "cell_type": "code",
   "execution_count": 12,
   "metadata": {},
   "outputs": [
    {
     "data": {
      "text/plain": [
       "4177"
      ]
     },
     "execution_count": 12,
     "metadata": {},
     "output_type": "execute_result"
    }
   ],
   "source": [
    "len(tracts)"
   ]
  },
  {
   "cell_type": "markdown",
   "metadata": {},
   "source": [
    "In total, we have 4177 transactions in our prepared dataset, each corresponds to one individual abalone.\n",
    "\n",
    "Because each individual came with a value for each of the original attributes and we discretized the attributes using non-overlapping intervals covering the entire range of values, each transaction contains one item for each of the original attributes. As a results, each transactions contains 9 items, i.e. they all have the same size."
   ]
  },
  {
   "cell_type": "code",
   "execution_count": 13,
   "metadata": {},
   "outputs": [
    {
     "data": {
      "text/plain": [
       "{9}"
      ]
     },
     "execution_count": 13,
     "metadata": {},
     "output_type": "execute_result"
    }
   ],
   "source": [
    "set(numpy.sum(bin_mat, axis=1))"
   ]
  },
  {
   "cell_type": "markdown",
   "metadata": {},
   "source": [
    "Next, we make a histogram of the number of occurrences of the different items, grouped by the original attribute to which they correspond."
   ]
  },
  {
   "cell_type": "code",
   "execution_count": 14,
   "metadata": {},
   "outputs": [
    {
     "data": {
      "image/png": "[encoded data removed]",
      "text/plain": [
       "<Figure size 1600x400 with 1 Axes>"
      ]
     },
     "metadata": {},
     "output_type": "display_data"
    }
   ],
   "source": [
    "plt.figure(figsize=(16,4))\n",
    "h = numpy.sum(bin_mat, axis=0)\n",
    "bw = 0.9/numpy.max(item_nbs)\n",
    "bf = 0.95\n",
    "xbs = []\n",
    "for ni, nb in enumerate(item_nbs):\n",
    "    xbs.extend([ni+(n-0.5*(nb-1+bf))*bw for n in range(nb)])\n",
    "plt.bar(xbs, h, width=bf*bw, align='edge', color=(68/255., 119/255., 170/255.))\n",
    "plt.xticks(range(len(cnames)), cnames)\n",
    "plt.xlabel(\"Attributes\")\n",
    "plt.ylabel(\"Nb. of occurrences\")\n",
    "plt.show()"
   ]
  },
  {
   "cell_type": "markdown",
   "metadata": {},
   "source": [
    "Except for the number of rings, where the item corresponding to 7 or 8 rings is more frequent than the other items, the thresholds used to discretize the numerical attributes result in bins of approximately equal heights. As a consequence, the resulting items appear with roughly the same frequency, of about 4177/5 or 20%.\n",
    "\n",
    "The frequencies of the three items generated from the *Sex* attribute correspond to the distribution, in the abalone population covered by the dataset, of infants, males and females, respectively. "
   ]
  },
  {
   "cell_type": "markdown",
   "metadata": {},
   "source": [
    "## Mining itemsets"
   ]
  },
  {
   "cell_type": "markdown",
   "metadata": {},
   "source": [
    "Now, we are ready to run the frequent itemset mining algorithm on the transactional dataset.\n",
    "\n",
    "First, we try with a relatively high support threshold, of 15% (0.15 x 4177 ~ 626)."
   ]
  },
  {
   "cell_type": "code",
   "execution_count": 15,
   "metadata": {},
   "outputs": [
    {
     "name": "stdout",
     "output_type": "stream",
     "text": [
      "Found 190 itemsets in 0:00:00.021004\n"
     ]
    }
   ],
   "source": [
    "nb_tot = len(tracts)\n",
    "tic = datetime.datetime.now()\n",
    "FI = fim(tracts, target='s', supp=15)\n",
    "elps = datetime.datetime.now() - tic\n",
    "print(\"Found %d itemsets in %s\" % (len(FI), elps))"
   ]
  },
  {
   "cell_type": "markdown",
   "metadata": {},
   "source": [
    "Several dozens of frequent itemsets were mined in fractions of a second.\n",
    "\n",
    "Let's have a look at the top ten most frequent."
   ]
  },
  {
   "cell_type": "code",
   "execution_count": 16,
   "metadata": {},
   "outputs": [
    {
     "name": "stdout",
     "output_type": "stream",
     "text": [
      "Sex_M (1,) 1528 0.366\n",
      "Sex_I (0,) 1342 0.321\n",
      "Sex_F (2,) 1307 0.313\n",
      "Rings_(7.0,9.0] (39,) 1257 0.301\n",
      "Height_(0.15,0.175] (16,) 986 0.236\n",
      "Diameter_(0.395,0.45] (10,) 902 0.216\n",
      "Height_..0.105] (13,) 888 0.213\n",
      "Length_(0.51,0.575] (5,) 887 0.212\n",
      "Diameter_..0.325] (8,) 863 0.207\n",
      "Height_(0.13,0.15] (15,) 858 0.205\n"
     ]
    }
   ],
   "source": [
    "for fi in sorted(FI, key=lambda x: -x[1])[:10]:\n",
    "    print(\" \".join([item_lbls[x] for x in fi[0]]), fi[0], fi[1], \"%.3f\" % (fi[1]/nb_tot))"
   ]
  },
  {
   "cell_type": "markdown",
   "metadata": {},
   "source": [
    "Expectedly, the most frequent itemsets are singletons, i.e. they correspond to occurrences of individual physical properties. This is of limited interest, we could already see these frequencies in the histogram.\n",
    "\n",
    "Next, we lower slightly the support threshold, to 500 occurrences."
   ]
  },
  {
   "cell_type": "code",
   "execution_count": 17,
   "metadata": {},
   "outputs": [
    {
     "name": "stdout",
     "output_type": "stream",
     "text": [
      "Found 529 itemsets in 0:00:00.020593\n"
     ]
    }
   ],
   "source": [
    "tic = datetime.datetime.now()\n",
    "FI = fim(tracts, target='s', supp=-500)\n",
    "elps = datetime.datetime.now() - tic\n",
    "print(\"Found %d itemsets in %s\" % (len(FI), elps))"
   ]
  },
  {
   "cell_type": "markdown",
   "metadata": {},
   "source": [
    "More than twice as many itemsets are returned...\n",
    "\n",
    "Lowering the support threshold again, now to 250 occurrences."
   ]
  },
  {
   "cell_type": "code",
   "execution_count": 18,
   "metadata": {},
   "outputs": [
    {
     "name": "stdout",
     "output_type": "stream",
     "text": [
      "Found 1187 itemsets in 0:00:00.027987\n"
     ]
    }
   ],
   "source": [
    "tic = datetime.datetime.now()\n",
    "FI = fim(tracts, target='s', supp=-250)\n",
    "elps = datetime.datetime.now() - tic\n",
    "print(\"Found %d itemsets in %s\" % (len(FI), elps))"
   ]
  },
  {
   "cell_type": "markdown",
   "metadata": {},
   "source": [
    "More than a thousand itemsets are returned...\n",
    "\n",
    "Now keeping the support threshold constant, but mining the closed frequent itemsets (target='c')."
   ]
  },
  {
   "cell_type": "code",
   "execution_count": 19,
   "metadata": {},
   "outputs": [
    {
     "name": "stdout",
     "output_type": "stream",
     "text": [
      "Found 1176 itemsets in 0:00:00.028993\n"
     ]
    }
   ],
   "source": [
    "tic = datetime.datetime.now()\n",
    "FI = fim(tracts, target='c', supp=-250)  # target='c' means we're targeting the closed frequent itemsets\n",
    "elps = datetime.datetime.now() - tic\n",
    "print(\"Found %d itemsets in %s\" % (len(FI), elps))"
   ]
  },
  {
   "cell_type": "markdown",
   "metadata": {},
   "source": [
    "And again, with the same support threshold, but this time mining the maximal frequent itemsets (target='m')."
   ]
  },
  {
   "cell_type": "code",
   "execution_count": 20,
   "metadata": {},
   "outputs": [
    {
     "name": "stdout",
     "output_type": "stream",
     "text": [
      "Found 136 itemsets in 0:00:00.042017\n"
     ]
    }
   ],
   "source": [
    "tic = datetime.datetime.now()\n",
    "FI = fim(tracts, target='m', supp=-250)  # target='m' means we're targeting the maximal frequent itemsets\n",
    "elps = datetime.datetime.now() - tic\n",
    "print(\"Found %d itemsets in %s\" % (len(FI), elps))"
   ]
  },
  {
   "cell_type": "markdown",
   "metadata": {},
   "source": [
    "Finally, we mine closed frequent itemsets with a support threshold of 10%, keeping only itemsets of size three or more (zmin=3)."
   ]
  },
  {
   "cell_type": "code",
   "execution_count": 21,
   "metadata": {},
   "outputs": [
    {
     "name": "stdout",
     "output_type": "stream",
     "text": [
      "Found 561 itemsets in 0:00:00.022983\n"
     ]
    }
   ],
   "source": [
    "tic = datetime.datetime.now()\n",
    "FI = fim(tracts, target='c', supp=10, zmin=3)\n",
    "elps = datetime.datetime.now() - tic\n",
    "print(\"Found %d itemsets in %s\" % (len(FI), elps))"
   ]
  },
  {
   "cell_type": "markdown",
   "metadata": {},
   "source": [
    "Among these hundreds of itemsets, we look at the top ten, where we can find the most common co-occurrences of physical attributes."
   ]
  },
  {
   "cell_type": "code",
   "execution_count": 22,
   "metadata": {},
   "outputs": [
    {
     "name": "stdout",
     "output_type": "stream",
     "text": [
      "WholeWeight_..0.366] Length_..0.425] Diameter_..0.325] (18, 3, 8) 783 0.187\n",
      "ShellWeight_..0.109] Length_..0.425] Diameter_..0.325] (33, 3, 8) 774 0.185\n",
      "ShellWeight_..0.109] WholeWeight_..0.366] Diameter_..0.325] (33, 18, 8) 767 0.184\n",
      "VisceraWeight_..0.0765] Length_..0.425] Diameter_..0.325] (28, 3, 8) 765 0.183\n",
      "ShellWeight_..0.109] WholeWeight_..0.366] Length_..0.425] (33, 18, 3) 764 0.183\n",
      "WholeWeight_..0.366] VisceraWeight_..0.0765] Length_..0.425] (18, 28, 3) 761 0.182\n",
      "WholeWeight_..0.366] VisceraWeight_..0.0765] Diameter_..0.325] (18, 28, 8) 761 0.182\n",
      "ShellWeight_..0.109] WholeWeight_..0.366] Length_..0.425] Diameter_..0.325] (33, 18, 3, 8) 757 0.181\n",
      "WholeWeight_..0.366] VisceraWeight_..0.0765] Length_..0.425] Diameter_..0.325] (18, 28, 3, 8) 756 0.181\n",
      "WholeWeight_..0.366] ShuckedWeight_..0.157] Length_..0.425] (18, 23, 3) 754 0.181\n"
     ]
    }
   ],
   "source": [
    "for fi in sorted(FI, key=lambda x: -x[1])[:10]:\n",
    "    print(\" \".join([item_lbls[x] for x in fi[0]]), fi[0], fi[1], \"%.3f\" % (fi[1]/nb_tot))  #? labels, itemset, abs supp, rel. supp"
   ]
  },
  {
   "cell_type": "markdown",
   "metadata": {},
   "source": [
    "We might be interested to carry this analysis further. For instance, we might look for association rules that relate dimensions of the abalone, its age (nb. of rings) and its sex..."
   ]
  },
  {
   "cell_type": "markdown",
   "metadata": {},
   "source": [
    "## Observations"
   ]
  },
  {
   "cell_type": "markdown",
   "metadata": {},
   "source": [
    "Top occurences of each attribute:\n",
    "- Sex: Male\n",
    "- Length: 0.51-0.575\n",
    "- Diameter: 0.395-0.45\n",
    "- Height: 0.15-0.175\n",
    "- WholeWeight: equivalent\n",
    "- ShuckedWeight: equivalent\n",
    "- VisceraWeight: min - 0.0765\n",
    "- ShellWeight: 0.1895-0.27\n",
    "- Rings: 9-10\n",
    "\n",
    "Most common co-occurences of physical attributes (supp. thresh. of 10%, itemset size > 3):\n",
    "1. WholeWeight, Length, Diameter\n",
    "2. ShellWeight, Length, Diameter\n",
    "3. ShellWeight, WholeWeight, Diameter\n",
    "4. VisceraWeight, Length, Diameter\n",
    "5. ShellWeight, WholeWeight, Length\n",
    "\n",
    "Looking at the top 5, there seems to be an association between weight and size of the anemole. But what about the other attributes, such as sex and rings? Does the number of rings correlate to the weight and size of the anemole, or is it the sex?"
   ]
  },
  {
   "cell_type": "markdown",
   "metadata": {},
   "source": [
    "### Sex and Rings"
   ]
  },
  {
   "cell_type": "markdown",
   "metadata": {},
   "source": [
    "Sex is identified by labels:\n",
    "0 - Infant\n",
    "1 - Male\n",
    "2 - Female\n",
    "\n",
    "And rings are identfied by labels from 38 to 42 (increases number of rings as the label number increases)"
   ]
  },
  {
   "cell_type": "code",
   "execution_count": 23,
   "metadata": {},
   "outputs": [
    {
     "name": "stdout",
     "output_type": "stream",
     "text": [
      "- Sex: ['Sex_I', 'Sex_M', 'Sex_F'] \n",
      "- Rings: ['Rings_..7.0]', 'Rings_(7.0,9.0]', 'Rings_(9.0,10.0]', 'Rings_(10.0,12.0]', 'Rings_(12.0..']\n"
     ]
    }
   ],
   "source": [
    "print(f\"- Sex: {item_lbls[0:3]} \\n- Rings: {item_lbls[38:43]}\")"
   ]
  },
  {
   "cell_type": "markdown",
   "metadata": {},
   "source": [
    "Let's sort the top 10 itemsets to include either of those."
   ]
  },
  {
   "cell_type": "code",
   "execution_count": 24,
   "metadata": {},
   "outputs": [
    {
     "name": "stdout",
     "output_type": "stream",
     "text": [
      "Length_..0.425] Sex_I Diameter_..0.325] (3, 0, 8) 608 0.146\n",
      "ShellWeight_..0.109] Sex_I Diameter_..0.325] (33, 0, 8) 605 0.145\n",
      "ShellWeight_..0.109] Sex_I WholeWeight_..0.366] (33, 0, 18) 601 0.144\n",
      "WholeWeight_..0.366] Sex_I Diameter_..0.325] (18, 0, 8) 601 0.144\n",
      "WholeWeight_..0.366] Sex_I Length_..0.425] (18, 0, 3) 599 0.143\n",
      "ShellWeight_..0.109] Sex_I Length_..0.425] (33, 0, 3) 598 0.143\n",
      "WholeWeight_..0.366] Sex_I VisceraWeight_..0.0765] (18, 0, 28) 596 0.143\n",
      "VisceraWeight_..0.0765] Sex_I Diameter_..0.325] (28, 0, 8) 592 0.142\n",
      "WholeWeight_..0.366] Sex_I Length_..0.425] Diameter_..0.325] (18, 0, 3, 8) 589 0.141\n",
      "ShellWeight_..0.109] Sex_I Length_..0.425] Diameter_..0.325] (33, 0, 3, 8) 588 0.141\n"
     ]
    }
   ],
   "source": [
    "# Generate lists with labels of sex and ring attributes\n",
    "sex_labels = list(range(0, 2))\n",
    "ring_labels = list(range(38, 43))\n",
    "both_labels = sex_labels + ring_labels\n",
    "print_limit = 10\n",
    "i = 0\n",
    "\n",
    "for fi in sorted(FI, key=lambda x: -x[1]):\n",
    "    if any(attr in both_labels for attr in fi[0]):  # Only look at itemset including sex and rings\n",
    "        if i < print_limit:\n",
    "            print(\" \".join([item_lbls[x] for x in fi[0]]), fi[0], fi[1], \"%.3f\" % (fi[1]/nb_tot))\n",
    "            i += 1"
   ]
  },
  {
   "cell_type": "markdown",
   "metadata": {},
   "source": [
    "With both labels, we see that sex infant is the most common. Restricting the results to those that contain rings gives the following:"
   ]
  },
  {
   "cell_type": "code",
   "execution_count": 25,
   "metadata": {},
   "outputs": [
    {
     "name": "stdout",
     "output_type": "stream",
     "text": [
      "Rings_..7.0] Length_..0.425] Diameter_..0.325] (38, 3, 8) 586 0.140\n",
      "ShellWeight_..0.109] Rings_..7.0] Diameter_..0.325] (33, 38, 8) 581 0.139\n",
      "ShellWeight_..0.109] Rings_..7.0] Length_..0.425] (33, 38, 3) 577 0.138\n",
      "ShellWeight_..0.109] Rings_..7.0] WholeWeight_..0.366] (33, 38, 18) 576 0.138\n",
      "WholeWeight_..0.366] Rings_..7.0] Length_..0.425] (18, 38, 3) 575 0.138\n",
      "WholeWeight_..0.366] Rings_..7.0] Diameter_..0.325] (18, 38, 8) 575 0.138\n",
      "ShellWeight_..0.109] Rings_..7.0] Height_..0.105] (33, 38, 13) 569 0.136\n",
      "ShellWeight_..0.109] Rings_..7.0] Length_..0.425] Diameter_..0.325] (33, 38, 3, 8) 569 0.136\n",
      "ShellWeight_..0.109] Rings_..7.0] WholeWeight_..0.366] Diameter_..0.325] (33, 38, 18, 8) 568 0.136\n",
      "Rings_..7.0] VisceraWeight_..0.0765] Length_..0.425] (38, 28, 3) 568 0.136\n"
     ]
    }
   ],
   "source": [
    "i = 0\n",
    "\n",
    "for fi in sorted(FI, key=lambda x: -x[1]):\n",
    "    if any(attr in ring_labels for attr in fi[0]):  # Only look at itemsets including rings\n",
    "        if i < print_limit:\n",
    "            print(\" \".join([item_lbls[x] for x in fi[0]]), fi[0], fi[1], \"%.3f\" % (fi[1]/nb_tot))\n",
    "            i += 1"
   ]
  },
  {
   "cell_type": "markdown",
   "metadata": {},
   "source": [
    "From the resulting itemsets, it can be seen that only abalones of sex infant and with less than 7 rings appear. This means that younger abalones are frequently more similar in physical attributes than older ones. Or, in other words, as abalones grow older, they gain differing characteristics, and thus the itemsets related to those are not so frequent.\n",
    "\n",
    "What about adult abalones?"
   ]
  },
  {
   "cell_type": "code",
   "execution_count": 26,
   "metadata": {},
   "outputs": [
    {
     "name": "stdout",
     "output_type": "stream",
     "text": [
      "Found 2889 itemsets in 0:00:00.022983\n",
      "ShellWeight_(0.1895,0.27] Sex_M Rings_(7.0,9.0] (35, 1, 39) 159 0.038\n",
      "Rings_(10.0,12.0] Length_(0.625.. Sex_M (41, 7, 1) 155 0.037\n",
      "Rings_(10.0,12.0] ShuckedWeight_(0.542.. Sex_M (41, 27, 1) 152 0.036\n",
      "Rings_(10.0,12.0] WholeWeight_(1.2385.. Sex_M (41, 22, 1) 149 0.036\n",
      "Rings_(12.0.. ShellWeight_(0.351.. Sex_M (42, 37, 1) 148 0.035\n",
      "Rings_(10.0,12.0] Diameter_(0.495.. Sex_M (41, 12, 1) 145 0.035\n",
      "Rings_(10.0,12.0] ShellWeight_(0.351.. Sex_M (41, 37, 1) 143 0.034\n",
      "Rings_(10.0,12.0] WholeWeight_(1.2385.. Sex_M ShuckedWeight_(0.542.. (41, 22, 1, 27) 142 0.034\n",
      "Rings_(10.0,12.0] VisceraWeight_(0.273.. Sex_M (41, 32, 1) 142 0.034\n",
      "ShuckedWeight_(0.4,0.542] Rings_(7.0,9.0] Sex_M (26, 39, 1) 141 0.034\n"
     ]
    }
   ],
   "source": [
    "# Lower the support threshold\n",
    "FI = fim(tracts, target='c', supp=-100, zmin=3)\n",
    "print(\"Found %d itemsets in %s\" % (len(FI), elps))\n",
    "\n",
    "sex_labels = list(range(1, 2))\n",
    "ring_labels = list(range(38, 43))\n",
    "i = 0\n",
    "\n",
    "for fi in sorted(FI, key=lambda x: -x[1]):\n",
    "    if any(attr in sex_labels for attr in fi[0]) and any(attr in ring_labels for attr in fi[0]):\n",
    "        if i < print_limit:\n",
    "            print(\" \".join([item_lbls[x] for x in fi[0]]), fi[0], fi[1], \"%.3f\" % (fi[1]/nb_tot))\n",
    "            i += 1"
   ]
  },
  {
   "cell_type": "markdown",
   "metadata": {},
   "source": [
    "With a low support threshold of 100 and minimum itemset size of 3, we're able to find 2889 itemsets that fit the criteria of either being male or female in sex, and containing the number of rings attributes.\n",
    "\n",
    "The most common case is that of a male abanole with 7 to 9 rings and shell weight between 0.1895 and 0.27. As this abanole is younger than the other male abanoles in the ranking, there's an indication that the assumption of younger abanoles resembling eachother is correct. For the other cases, the most common number of rings in male abanoles is a value between 10 and 12."
   ]
  }
 ],
 "metadata": {
  "kernelspec": {
   "display_name": "Python 3.9.1 ('.env': venv)",
   "language": "python",
   "name": "python3"
  },
  "language_info": {
   "codemirror_mode": {
    "name": "ipython",
    "version": 3
   },
   "file_extension": ".py",
   "mimetype": "text/x-python",
   "name": "python",
   "nbconvert_exporter": "python",
   "pygments_lexer": "ipython3",
   "version": "3.9.1"
  },
  "vscode": {
   "interpreter": {
    "hash": "c18f9aa5b4992ecbe91479f0e8f727368a787d891a4a54b43a10bb1b5aa3f0af"
   }
  }
 },
 "nbformat": 4,
 "nbformat_minor": 2
}
