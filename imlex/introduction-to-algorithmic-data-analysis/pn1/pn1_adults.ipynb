{
 "cells": [
  {
   "cell_type": "markdown",
   "metadata": {},
   "source": [
    "# Changelog"
   ]
  },
  {
   "cell_type": "markdown",
   "metadata": {},
   "source": [
    "**01.12.22**\n",
    "- Removed remark about every transaction having between 12 and 15 items, as I couldn't explain why (executed `dtf.isnull().values.any()` and the dataframe has no NaN values, this means every person contains all items, although they might be valued zero)\n",
    "- Dropped `fnlwgt` from the dataframe\n",
    "- Tried binning again using `pandas.cut()`, but results in the same binning limits as manually calculated before, so I removed this part\n",
    "- Added analysis of top counts for the numerical variables\n",
    "- Added analysis of `Sex - Female` to the end of the notebook"
   ]
  },
  {
   "cell_type": "markdown",
   "metadata": {},
   "source": [
    "# Imports"
   ]
  },
  {
   "cell_type": "code",
   "execution_count": 156,
   "metadata": {},
   "outputs": [],
   "source": [
    "%matplotlib inline\n",
    "import numpy\n",
    "import pandas\n",
    "import matplotlib.pyplot as plt"
   ]
  },
  {
   "cell_type": "code",
   "execution_count": 157,
   "metadata": {},
   "outputs": [],
   "source": [
    "with open(\"pyfim.py\") as fp:\n",
    "    exec(fp.read())\n",
    "# from pyfim import *  # LOCALLY\n",
    "# import urllib.request  # REMOTELY\n",
    "# a = urllib.request.urlopen(\"https://members.loria.fr/EGalbrun/UEF_LPD/assignment/pyfim.py\")\n",
    "# exec(a.read())"
   ]
  },
  {
   "cell_type": "markdown",
   "metadata": {},
   "source": [
    "# The Adult dataset"
   ]
  },
  {
   "cell_type": "markdown",
   "metadata": {},
   "source": [
    "The `adult` dataset contains a mix of categorical and numerical attributes. The goal stated in its page, http://archive.ics.uci.edu/ml/datasets/Adult, is to predict whether a person makes over 50K a year or not.\n",
    "\n",
    "Continuous attributes: `age`, `fnlwgt` (final weight), `education-num`, `capital-gain`, `capital-loss`, `hours-per-week`.\n",
    "\n",
    "Categorical attributes: `workclass`, `education`, `marital-status`, `occupation`, `relationship`, `race`, `sex`, `native-country`. Furthermore, `yearly-salary` was added, as it is in the data but not specified by the database description.\n",
    "\n",
    "Total of attributes: 15."
   ]
  },
  {
   "cell_type": "markdown",
   "metadata": {},
   "source": [
    "## Pre-processing"
   ]
  },
  {
   "cell_type": "markdown",
   "metadata": {},
   "source": [
    "Let's first read and display the data and its outline."
   ]
  },
  {
   "cell_type": "code",
   "execution_count": 158,
   "metadata": {},
   "outputs": [
    {
     "data": {
      "text/html": [
       "<div>\n",
       "<style scoped>\n",
       "    .dataframe tbody tr th:only-of-type {\n",
       "        vertical-align: middle;\n",
       "    }\n",
       "\n",
       "    .dataframe tbody tr th {\n",
       "        vertical-align: top;\n",
       "    }\n",
       "\n",
       "    .dataframe thead th {\n",
       "        text-align: right;\n",
       "    }\n",
       "</style>\n",
       "<table border=\"1\" class=\"dataframe\">\n",
       "  <thead>\n",
       "    <tr style=\"text-align: right;\">\n",
       "      <th></th>\n",
       "      <th>age</th>\n",
       "      <th>workclass</th>\n",
       "      <th>fnlwgt</th>\n",
       "      <th>education</th>\n",
       "      <th>education-num</th>\n",
       "      <th>marital-status</th>\n",
       "      <th>occupation</th>\n",
       "      <th>relationship</th>\n",
       "      <th>race</th>\n",
       "      <th>sex</th>\n",
       "      <th>capital-gain</th>\n",
       "      <th>capital-loss</th>\n",
       "      <th>hours-per-week</th>\n",
       "      <th>native-country</th>\n",
       "      <th>yearly-salary</th>\n",
       "    </tr>\n",
       "  </thead>\n",
       "  <tbody>\n",
       "    <tr>\n",
       "      <th>0</th>\n",
       "      <td>39</td>\n",
       "      <td>State-gov</td>\n",
       "      <td>77516</td>\n",
       "      <td>Bachelors</td>\n",
       "      <td>13</td>\n",
       "      <td>Never-married</td>\n",
       "      <td>Adm-clerical</td>\n",
       "      <td>Not-in-family</td>\n",
       "      <td>White</td>\n",
       "      <td>Male</td>\n",
       "      <td>2174</td>\n",
       "      <td>0</td>\n",
       "      <td>40</td>\n",
       "      <td>United-States</td>\n",
       "      <td>&lt;=50K</td>\n",
       "    </tr>\n",
       "    <tr>\n",
       "      <th>1</th>\n",
       "      <td>50</td>\n",
       "      <td>Self-emp-not-inc</td>\n",
       "      <td>83311</td>\n",
       "      <td>Bachelors</td>\n",
       "      <td>13</td>\n",
       "      <td>Married-civ-spouse</td>\n",
       "      <td>Exec-managerial</td>\n",
       "      <td>Husband</td>\n",
       "      <td>White</td>\n",
       "      <td>Male</td>\n",
       "      <td>0</td>\n",
       "      <td>0</td>\n",
       "      <td>13</td>\n",
       "      <td>United-States</td>\n",
       "      <td>&lt;=50K</td>\n",
       "    </tr>\n",
       "    <tr>\n",
       "      <th>2</th>\n",
       "      <td>38</td>\n",
       "      <td>Private</td>\n",
       "      <td>215646</td>\n",
       "      <td>HS-grad</td>\n",
       "      <td>9</td>\n",
       "      <td>Divorced</td>\n",
       "      <td>Handlers-cleaners</td>\n",
       "      <td>Not-in-family</td>\n",
       "      <td>White</td>\n",
       "      <td>Male</td>\n",
       "      <td>0</td>\n",
       "      <td>0</td>\n",
       "      <td>40</td>\n",
       "      <td>United-States</td>\n",
       "      <td>&lt;=50K</td>\n",
       "    </tr>\n",
       "    <tr>\n",
       "      <th>3</th>\n",
       "      <td>53</td>\n",
       "      <td>Private</td>\n",
       "      <td>234721</td>\n",
       "      <td>11th</td>\n",
       "      <td>7</td>\n",
       "      <td>Married-civ-spouse</td>\n",
       "      <td>Handlers-cleaners</td>\n",
       "      <td>Husband</td>\n",
       "      <td>Black</td>\n",
       "      <td>Male</td>\n",
       "      <td>0</td>\n",
       "      <td>0</td>\n",
       "      <td>40</td>\n",
       "      <td>United-States</td>\n",
       "      <td>&lt;=50K</td>\n",
       "    </tr>\n",
       "    <tr>\n",
       "      <th>4</th>\n",
       "      <td>28</td>\n",
       "      <td>Private</td>\n",
       "      <td>338409</td>\n",
       "      <td>Bachelors</td>\n",
       "      <td>13</td>\n",
       "      <td>Married-civ-spouse</td>\n",
       "      <td>Prof-specialty</td>\n",
       "      <td>Wife</td>\n",
       "      <td>Black</td>\n",
       "      <td>Female</td>\n",
       "      <td>0</td>\n",
       "      <td>0</td>\n",
       "      <td>40</td>\n",
       "      <td>Cuba</td>\n",
       "      <td>&lt;=50K</td>\n",
       "    </tr>\n",
       "    <tr>\n",
       "      <th>...</th>\n",
       "      <td>...</td>\n",
       "      <td>...</td>\n",
       "      <td>...</td>\n",
       "      <td>...</td>\n",
       "      <td>...</td>\n",
       "      <td>...</td>\n",
       "      <td>...</td>\n",
       "      <td>...</td>\n",
       "      <td>...</td>\n",
       "      <td>...</td>\n",
       "      <td>...</td>\n",
       "      <td>...</td>\n",
       "      <td>...</td>\n",
       "      <td>...</td>\n",
       "      <td>...</td>\n",
       "    </tr>\n",
       "    <tr>\n",
       "      <th>32556</th>\n",
       "      <td>27</td>\n",
       "      <td>Private</td>\n",
       "      <td>257302</td>\n",
       "      <td>Assoc-acdm</td>\n",
       "      <td>12</td>\n",
       "      <td>Married-civ-spouse</td>\n",
       "      <td>Tech-support</td>\n",
       "      <td>Wife</td>\n",
       "      <td>White</td>\n",
       "      <td>Female</td>\n",
       "      <td>0</td>\n",
       "      <td>0</td>\n",
       "      <td>38</td>\n",
       "      <td>United-States</td>\n",
       "      <td>&lt;=50K</td>\n",
       "    </tr>\n",
       "    <tr>\n",
       "      <th>32557</th>\n",
       "      <td>40</td>\n",
       "      <td>Private</td>\n",
       "      <td>154374</td>\n",
       "      <td>HS-grad</td>\n",
       "      <td>9</td>\n",
       "      <td>Married-civ-spouse</td>\n",
       "      <td>Machine-op-inspct</td>\n",
       "      <td>Husband</td>\n",
       "      <td>White</td>\n",
       "      <td>Male</td>\n",
       "      <td>0</td>\n",
       "      <td>0</td>\n",
       "      <td>40</td>\n",
       "      <td>United-States</td>\n",
       "      <td>&gt;50K</td>\n",
       "    </tr>\n",
       "    <tr>\n",
       "      <th>32558</th>\n",
       "      <td>58</td>\n",
       "      <td>Private</td>\n",
       "      <td>151910</td>\n",
       "      <td>HS-grad</td>\n",
       "      <td>9</td>\n",
       "      <td>Widowed</td>\n",
       "      <td>Adm-clerical</td>\n",
       "      <td>Unmarried</td>\n",
       "      <td>White</td>\n",
       "      <td>Female</td>\n",
       "      <td>0</td>\n",
       "      <td>0</td>\n",
       "      <td>40</td>\n",
       "      <td>United-States</td>\n",
       "      <td>&lt;=50K</td>\n",
       "    </tr>\n",
       "    <tr>\n",
       "      <th>32559</th>\n",
       "      <td>22</td>\n",
       "      <td>Private</td>\n",
       "      <td>201490</td>\n",
       "      <td>HS-grad</td>\n",
       "      <td>9</td>\n",
       "      <td>Never-married</td>\n",
       "      <td>Adm-clerical</td>\n",
       "      <td>Own-child</td>\n",
       "      <td>White</td>\n",
       "      <td>Male</td>\n",
       "      <td>0</td>\n",
       "      <td>0</td>\n",
       "      <td>20</td>\n",
       "      <td>United-States</td>\n",
       "      <td>&lt;=50K</td>\n",
       "    </tr>\n",
       "    <tr>\n",
       "      <th>32560</th>\n",
       "      <td>52</td>\n",
       "      <td>Self-emp-inc</td>\n",
       "      <td>287927</td>\n",
       "      <td>HS-grad</td>\n",
       "      <td>9</td>\n",
       "      <td>Married-civ-spouse</td>\n",
       "      <td>Exec-managerial</td>\n",
       "      <td>Wife</td>\n",
       "      <td>White</td>\n",
       "      <td>Female</td>\n",
       "      <td>15024</td>\n",
       "      <td>0</td>\n",
       "      <td>40</td>\n",
       "      <td>United-States</td>\n",
       "      <td>&gt;50K</td>\n",
       "    </tr>\n",
       "  </tbody>\n",
       "</table>\n",
       "<p>32561 rows × 15 columns</p>\n",
       "</div>"
      ],
      "text/plain": [
       "       age         workclass  fnlwgt   education  education-num  \\\n",
       "0       39         State-gov   77516   Bachelors             13   \n",
       "1       50  Self-emp-not-inc   83311   Bachelors             13   \n",
       "2       38           Private  215646     HS-grad              9   \n",
       "3       53           Private  234721        11th              7   \n",
       "4       28           Private  338409   Bachelors             13   \n",
       "...    ...               ...     ...         ...            ...   \n",
       "32556   27           Private  257302  Assoc-acdm             12   \n",
       "32557   40           Private  154374     HS-grad              9   \n",
       "32558   58           Private  151910     HS-grad              9   \n",
       "32559   22           Private  201490     HS-grad              9   \n",
       "32560   52      Self-emp-inc  287927     HS-grad              9   \n",
       "\n",
       "           marital-status         occupation   relationship   race     sex  \\\n",
       "0           Never-married       Adm-clerical  Not-in-family  White    Male   \n",
       "1      Married-civ-spouse    Exec-managerial        Husband  White    Male   \n",
       "2                Divorced  Handlers-cleaners  Not-in-family  White    Male   \n",
       "3      Married-civ-spouse  Handlers-cleaners        Husband  Black    Male   \n",
       "4      Married-civ-spouse     Prof-specialty           Wife  Black  Female   \n",
       "...                   ...                ...            ...    ...     ...   \n",
       "32556  Married-civ-spouse       Tech-support           Wife  White  Female   \n",
       "32557  Married-civ-spouse  Machine-op-inspct        Husband  White    Male   \n",
       "32558             Widowed       Adm-clerical      Unmarried  White  Female   \n",
       "32559       Never-married       Adm-clerical      Own-child  White    Male   \n",
       "32560  Married-civ-spouse    Exec-managerial           Wife  White  Female   \n",
       "\n",
       "       capital-gain  capital-loss  hours-per-week native-country yearly-salary  \n",
       "0              2174             0              40  United-States         <=50K  \n",
       "1                 0             0              13  United-States         <=50K  \n",
       "2                 0             0              40  United-States         <=50K  \n",
       "3                 0             0              40  United-States         <=50K  \n",
       "4                 0             0              40           Cuba         <=50K  \n",
       "...             ...           ...             ...            ...           ...  \n",
       "32556             0             0              38  United-States         <=50K  \n",
       "32557             0             0              40  United-States          >50K  \n",
       "32558             0             0              40  United-States         <=50K  \n",
       "32559             0             0              20  United-States         <=50K  \n",
       "32560         15024             0              40  United-States          >50K  \n",
       "\n",
       "[32561 rows x 15 columns]"
      ]
     },
     "execution_count": 158,
     "metadata": {},
     "output_type": "execute_result"
    }
   ],
   "source": [
    "cnames = [\n",
    "    'age', 'workclass', 'fnlwgt', 'education', 'education-num', 'marital-status',\n",
    "    'occupation', 'relationship', 'race', 'sex', 'capital-gain', 'capital-loss',\n",
    "    'hours-per-week', 'native-country', 'yearly-salary'\n",
    "    ]\n",
    "dtf = pandas.read_csv('adult.data', sep=\",\", names=cnames, skipinitialspace=True)\n",
    "dtf"
   ]
  },
  {
   "cell_type": "markdown",
   "metadata": {},
   "source": [
    "**01.12.22:** the `fnlwgt` attribute might have been used by the developed classifier mentioned in the website, and as such is not of interest to our analysis. Let's drop it from the dataframe."
   ]
  },
  {
   "cell_type": "code",
   "execution_count": 159,
   "metadata": {},
   "outputs": [],
   "source": [
    "dtf.drop(columns=\"fnlwgt\")\n",
    "cnames = [\n",
    "    'age', 'workclass', 'education', 'education-num', 'marital-status',\n",
    "    'occupation', 'relationship', 'race', 'sex', 'capital-gain', 'capital-loss',\n",
    "    'hours-per-week', 'native-country', 'yearly-salary'\n",
    "    ]"
   ]
  },
  {
   "cell_type": "markdown",
   "metadata": {},
   "source": [
    "A quick check for NaN values tells us there are none:"
   ]
  },
  {
   "cell_type": "code",
   "execution_count": 160,
   "metadata": {},
   "outputs": [
    {
     "data": {
      "text/plain": [
       "False"
      ]
     },
     "execution_count": 160,
     "metadata": {},
     "output_type": "execute_result"
    }
   ],
   "source": [
    "dtf.isnull().values.any()"
   ]
  },
  {
   "cell_type": "markdown",
   "metadata": {},
   "source": [
    "Since this dataset contains both categorical and numerical attributes, we must prepare it for the FIM algorithm."
   ]
  },
  {
   "cell_type": "code",
   "execution_count": 161,
   "metadata": {},
   "outputs": [],
   "source": [
    "dcols = [] # to store the data columns corresponding to the new attributes\n",
    "item_nbs = [] # to store the number of new attributes created from each original one (for plotting)\n",
    "item_lbls = [] # to store labels corresponding to the new attributes"
   ]
  },
  {
   "cell_type": "markdown",
   "metadata": {},
   "source": [
    "Let's first do the categorical attributes:"
   ]
  },
  {
   "cell_type": "code",
   "execution_count": 162,
   "metadata": {},
   "outputs": [
    {
     "data": {
      "text/html": [
       "<div>\n",
       "<style scoped>\n",
       "    .dataframe tbody tr th:only-of-type {\n",
       "        vertical-align: middle;\n",
       "    }\n",
       "\n",
       "    .dataframe tbody tr th {\n",
       "        vertical-align: top;\n",
       "    }\n",
       "\n",
       "    .dataframe thead th {\n",
       "        text-align: right;\n",
       "    }\n",
       "</style>\n",
       "<table border=\"1\" class=\"dataframe\">\n",
       "  <thead>\n",
       "    <tr style=\"text-align: right;\">\n",
       "      <th>native-country</th>\n",
       "      <th>?</th>\n",
       "      <th>Cambodia</th>\n",
       "      <th>Canada</th>\n",
       "      <th>China</th>\n",
       "      <th>Columbia</th>\n",
       "      <th>Cuba</th>\n",
       "      <th>Dominican-Republic</th>\n",
       "      <th>Ecuador</th>\n",
       "      <th>El-Salvador</th>\n",
       "      <th>England</th>\n",
       "      <th>...</th>\n",
       "      <th>Portugal</th>\n",
       "      <th>Puerto-Rico</th>\n",
       "      <th>Scotland</th>\n",
       "      <th>South</th>\n",
       "      <th>Taiwan</th>\n",
       "      <th>Thailand</th>\n",
       "      <th>Trinadad&amp;Tobago</th>\n",
       "      <th>United-States</th>\n",
       "      <th>Vietnam</th>\n",
       "      <th>Yugoslavia</th>\n",
       "    </tr>\n",
       "    <tr>\n",
       "      <th>row_0</th>\n",
       "      <th></th>\n",
       "      <th></th>\n",
       "      <th></th>\n",
       "      <th></th>\n",
       "      <th></th>\n",
       "      <th></th>\n",
       "      <th></th>\n",
       "      <th></th>\n",
       "      <th></th>\n",
       "      <th></th>\n",
       "      <th></th>\n",
       "      <th></th>\n",
       "      <th></th>\n",
       "      <th></th>\n",
       "      <th></th>\n",
       "      <th></th>\n",
       "      <th></th>\n",
       "      <th></th>\n",
       "      <th></th>\n",
       "      <th></th>\n",
       "      <th></th>\n",
       "    </tr>\n",
       "  </thead>\n",
       "  <tbody>\n",
       "    <tr>\n",
       "      <th>0</th>\n",
       "      <td>0</td>\n",
       "      <td>0</td>\n",
       "      <td>0</td>\n",
       "      <td>0</td>\n",
       "      <td>0</td>\n",
       "      <td>0</td>\n",
       "      <td>0</td>\n",
       "      <td>0</td>\n",
       "      <td>0</td>\n",
       "      <td>0</td>\n",
       "      <td>...</td>\n",
       "      <td>0</td>\n",
       "      <td>0</td>\n",
       "      <td>0</td>\n",
       "      <td>0</td>\n",
       "      <td>0</td>\n",
       "      <td>0</td>\n",
       "      <td>0</td>\n",
       "      <td>1</td>\n",
       "      <td>0</td>\n",
       "      <td>0</td>\n",
       "    </tr>\n",
       "    <tr>\n",
       "      <th>1</th>\n",
       "      <td>0</td>\n",
       "      <td>0</td>\n",
       "      <td>0</td>\n",
       "      <td>0</td>\n",
       "      <td>0</td>\n",
       "      <td>0</td>\n",
       "      <td>0</td>\n",
       "      <td>0</td>\n",
       "      <td>0</td>\n",
       "      <td>0</td>\n",
       "      <td>...</td>\n",
       "      <td>0</td>\n",
       "      <td>0</td>\n",
       "      <td>0</td>\n",
       "      <td>0</td>\n",
       "      <td>0</td>\n",
       "      <td>0</td>\n",
       "      <td>0</td>\n",
       "      <td>1</td>\n",
       "      <td>0</td>\n",
       "      <td>0</td>\n",
       "    </tr>\n",
       "    <tr>\n",
       "      <th>2</th>\n",
       "      <td>0</td>\n",
       "      <td>0</td>\n",
       "      <td>0</td>\n",
       "      <td>0</td>\n",
       "      <td>0</td>\n",
       "      <td>0</td>\n",
       "      <td>0</td>\n",
       "      <td>0</td>\n",
       "      <td>0</td>\n",
       "      <td>0</td>\n",
       "      <td>...</td>\n",
       "      <td>0</td>\n",
       "      <td>0</td>\n",
       "      <td>0</td>\n",
       "      <td>0</td>\n",
       "      <td>0</td>\n",
       "      <td>0</td>\n",
       "      <td>0</td>\n",
       "      <td>1</td>\n",
       "      <td>0</td>\n",
       "      <td>0</td>\n",
       "    </tr>\n",
       "    <tr>\n",
       "      <th>3</th>\n",
       "      <td>0</td>\n",
       "      <td>0</td>\n",
       "      <td>0</td>\n",
       "      <td>0</td>\n",
       "      <td>0</td>\n",
       "      <td>0</td>\n",
       "      <td>0</td>\n",
       "      <td>0</td>\n",
       "      <td>0</td>\n",
       "      <td>0</td>\n",
       "      <td>...</td>\n",
       "      <td>0</td>\n",
       "      <td>0</td>\n",
       "      <td>0</td>\n",
       "      <td>0</td>\n",
       "      <td>0</td>\n",
       "      <td>0</td>\n",
       "      <td>0</td>\n",
       "      <td>1</td>\n",
       "      <td>0</td>\n",
       "      <td>0</td>\n",
       "    </tr>\n",
       "    <tr>\n",
       "      <th>4</th>\n",
       "      <td>0</td>\n",
       "      <td>0</td>\n",
       "      <td>0</td>\n",
       "      <td>0</td>\n",
       "      <td>0</td>\n",
       "      <td>1</td>\n",
       "      <td>0</td>\n",
       "      <td>0</td>\n",
       "      <td>0</td>\n",
       "      <td>0</td>\n",
       "      <td>...</td>\n",
       "      <td>0</td>\n",
       "      <td>0</td>\n",
       "      <td>0</td>\n",
       "      <td>0</td>\n",
       "      <td>0</td>\n",
       "      <td>0</td>\n",
       "      <td>0</td>\n",
       "      <td>0</td>\n",
       "      <td>0</td>\n",
       "      <td>0</td>\n",
       "    </tr>\n",
       "    <tr>\n",
       "      <th>...</th>\n",
       "      <td>...</td>\n",
       "      <td>...</td>\n",
       "      <td>...</td>\n",
       "      <td>...</td>\n",
       "      <td>...</td>\n",
       "      <td>...</td>\n",
       "      <td>...</td>\n",
       "      <td>...</td>\n",
       "      <td>...</td>\n",
       "      <td>...</td>\n",
       "      <td>...</td>\n",
       "      <td>...</td>\n",
       "      <td>...</td>\n",
       "      <td>...</td>\n",
       "      <td>...</td>\n",
       "      <td>...</td>\n",
       "      <td>...</td>\n",
       "      <td>...</td>\n",
       "      <td>...</td>\n",
       "      <td>...</td>\n",
       "      <td>...</td>\n",
       "    </tr>\n",
       "    <tr>\n",
       "      <th>32556</th>\n",
       "      <td>0</td>\n",
       "      <td>0</td>\n",
       "      <td>0</td>\n",
       "      <td>0</td>\n",
       "      <td>0</td>\n",
       "      <td>0</td>\n",
       "      <td>0</td>\n",
       "      <td>0</td>\n",
       "      <td>0</td>\n",
       "      <td>0</td>\n",
       "      <td>...</td>\n",
       "      <td>0</td>\n",
       "      <td>0</td>\n",
       "      <td>0</td>\n",
       "      <td>0</td>\n",
       "      <td>0</td>\n",
       "      <td>0</td>\n",
       "      <td>0</td>\n",
       "      <td>1</td>\n",
       "      <td>0</td>\n",
       "      <td>0</td>\n",
       "    </tr>\n",
       "    <tr>\n",
       "      <th>32557</th>\n",
       "      <td>0</td>\n",
       "      <td>0</td>\n",
       "      <td>0</td>\n",
       "      <td>0</td>\n",
       "      <td>0</td>\n",
       "      <td>0</td>\n",
       "      <td>0</td>\n",
       "      <td>0</td>\n",
       "      <td>0</td>\n",
       "      <td>0</td>\n",
       "      <td>...</td>\n",
       "      <td>0</td>\n",
       "      <td>0</td>\n",
       "      <td>0</td>\n",
       "      <td>0</td>\n",
       "      <td>0</td>\n",
       "      <td>0</td>\n",
       "      <td>0</td>\n",
       "      <td>1</td>\n",
       "      <td>0</td>\n",
       "      <td>0</td>\n",
       "    </tr>\n",
       "    <tr>\n",
       "      <th>32558</th>\n",
       "      <td>0</td>\n",
       "      <td>0</td>\n",
       "      <td>0</td>\n",
       "      <td>0</td>\n",
       "      <td>0</td>\n",
       "      <td>0</td>\n",
       "      <td>0</td>\n",
       "      <td>0</td>\n",
       "      <td>0</td>\n",
       "      <td>0</td>\n",
       "      <td>...</td>\n",
       "      <td>0</td>\n",
       "      <td>0</td>\n",
       "      <td>0</td>\n",
       "      <td>0</td>\n",
       "      <td>0</td>\n",
       "      <td>0</td>\n",
       "      <td>0</td>\n",
       "      <td>1</td>\n",
       "      <td>0</td>\n",
       "      <td>0</td>\n",
       "    </tr>\n",
       "    <tr>\n",
       "      <th>32559</th>\n",
       "      <td>0</td>\n",
       "      <td>0</td>\n",
       "      <td>0</td>\n",
       "      <td>0</td>\n",
       "      <td>0</td>\n",
       "      <td>0</td>\n",
       "      <td>0</td>\n",
       "      <td>0</td>\n",
       "      <td>0</td>\n",
       "      <td>0</td>\n",
       "      <td>...</td>\n",
       "      <td>0</td>\n",
       "      <td>0</td>\n",
       "      <td>0</td>\n",
       "      <td>0</td>\n",
       "      <td>0</td>\n",
       "      <td>0</td>\n",
       "      <td>0</td>\n",
       "      <td>1</td>\n",
       "      <td>0</td>\n",
       "      <td>0</td>\n",
       "    </tr>\n",
       "    <tr>\n",
       "      <th>32560</th>\n",
       "      <td>0</td>\n",
       "      <td>0</td>\n",
       "      <td>0</td>\n",
       "      <td>0</td>\n",
       "      <td>0</td>\n",
       "      <td>0</td>\n",
       "      <td>0</td>\n",
       "      <td>0</td>\n",
       "      <td>0</td>\n",
       "      <td>0</td>\n",
       "      <td>...</td>\n",
       "      <td>0</td>\n",
       "      <td>0</td>\n",
       "      <td>0</td>\n",
       "      <td>0</td>\n",
       "      <td>0</td>\n",
       "      <td>0</td>\n",
       "      <td>0</td>\n",
       "      <td>1</td>\n",
       "      <td>0</td>\n",
       "      <td>0</td>\n",
       "    </tr>\n",
       "  </tbody>\n",
       "</table>\n",
       "<p>32561 rows × 42 columns</p>\n",
       "</div>"
      ],
      "text/plain": [
       "native-country  ?  Cambodia  Canada  China  Columbia  Cuba  \\\n",
       "row_0                                                        \n",
       "0               0         0       0      0         0     0   \n",
       "1               0         0       0      0         0     0   \n",
       "2               0         0       0      0         0     0   \n",
       "3               0         0       0      0         0     0   \n",
       "4               0         0       0      0         0     1   \n",
       "...            ..       ...     ...    ...       ...   ...   \n",
       "32556           0         0       0      0         0     0   \n",
       "32557           0         0       0      0         0     0   \n",
       "32558           0         0       0      0         0     0   \n",
       "32559           0         0       0      0         0     0   \n",
       "32560           0         0       0      0         0     0   \n",
       "\n",
       "native-country  Dominican-Republic  Ecuador  El-Salvador  England  ...  \\\n",
       "row_0                                                              ...   \n",
       "0                                0        0            0        0  ...   \n",
       "1                                0        0            0        0  ...   \n",
       "2                                0        0            0        0  ...   \n",
       "3                                0        0            0        0  ...   \n",
       "4                                0        0            0        0  ...   \n",
       "...                            ...      ...          ...      ...  ...   \n",
       "32556                            0        0            0        0  ...   \n",
       "32557                            0        0            0        0  ...   \n",
       "32558                            0        0            0        0  ...   \n",
       "32559                            0        0            0        0  ...   \n",
       "32560                            0        0            0        0  ...   \n",
       "\n",
       "native-country  Portugal  Puerto-Rico  Scotland  South  Taiwan  Thailand  \\\n",
       "row_0                                                                      \n",
       "0                      0            0         0      0       0         0   \n",
       "1                      0            0         0      0       0         0   \n",
       "2                      0            0         0      0       0         0   \n",
       "3                      0            0         0      0       0         0   \n",
       "4                      0            0         0      0       0         0   \n",
       "...                  ...          ...       ...    ...     ...       ...   \n",
       "32556                  0            0         0      0       0         0   \n",
       "32557                  0            0         0      0       0         0   \n",
       "32558                  0            0         0      0       0         0   \n",
       "32559                  0            0         0      0       0         0   \n",
       "32560                  0            0         0      0       0         0   \n",
       "\n",
       "native-country  Trinadad&Tobago  United-States  Vietnam  Yugoslavia  \n",
       "row_0                                                                \n",
       "0                             0              1        0           0  \n",
       "1                             0              1        0           0  \n",
       "2                             0              1        0           0  \n",
       "3                             0              1        0           0  \n",
       "4                             0              0        0           0  \n",
       "...                         ...            ...      ...         ...  \n",
       "32556                         0              1        0           0  \n",
       "32557                         0              1        0           0  \n",
       "32558                         0              1        0           0  \n",
       "32559                         0              1        0           0  \n",
       "32560                         0              1        0           0  \n",
       "\n",
       "[32561 rows x 42 columns]"
      ]
     },
     "execution_count": 162,
     "metadata": {},
     "output_type": "execute_result"
    }
   ],
   "source": [
    "for var_name, var_cats in [\n",
    "    (\"workclass\", ['Private', 'Self-emp-not-inc', 'Self-emp-inc', 'Federal-gov', 'Local-gov', 'State-gov', 'Without-pay', 'Never-worked']),\n",
    "    (\"education\", ['Bachelors', 'Some-college', '11th', 'HS-grad', 'Prof-school', 'Assoc-acdm', 'Assoc-voc', '9th', '7th-8th', '12th', 'Masters', '1st-4th', '10th', 'Doctorate', '5th-6th', 'Preschool']),\n",
    "    (\"marital-status\", ['Married-civ-spouse', 'Divorced', 'Never-married', 'Separated', 'Widowed', 'Married-spouse-absent', 'Married-AF-spouse']),\n",
    "    (\"occupation\", ['Tech-support', 'Craft-repair', 'Other-service', 'Sales', 'Exec-managerial', 'Prof-specialty', 'Handlers-cleaners', 'Machine-op-inspct', 'Adm-clerical', 'Farming-fishing', 'Transport-moving', 'Priv-house-serv', 'Protective-serv', 'Armed-Forces']),\n",
    "    (\"relationship\", ['Wife', 'Own-child', 'Husband', 'Not-in-family', 'Other-relative', 'Unmarried']),\n",
    "    (\"race\", ['White', 'Asian-Pac-Islander', 'Amer-Indian-Eskimo', 'Other', 'Black']),\n",
    "    (\"sex\", ['Female', 'Male']),\n",
    "    (\"native-country\", ['United-States', 'Cambodia', 'England', 'Puerto-Rico', 'Canada', 'Germany', 'Outlying-US(Guam-USVI-etc)', 'India', 'Japan', 'Greece', 'South', 'China', 'Cuba', 'Iran', 'Honduras', 'Philippines', 'Italy', 'Poland', 'Jamaica', 'Vietnam', 'Mexico', 'Portugal', 'Ireland', 'France', 'Dominican-Republic', 'Laos', 'Ecuador', 'Taiwan', 'Haiti', 'Columbia', 'Hungary', 'Guatemala', 'Nicaragua', 'Scotland', 'Thailand', 'Yugoslavia', 'El-Salvador', 'Trinadad&Tobago', 'Peru', 'Hong', 'Holand-Netherlands']),\n",
    "    ('yearly-salary', ['<=50K', '>50K'])\n",
    "]:\n",
    "    cols = pandas.crosstab(dtf.index, [dtf[var_name]])  \n",
    "    dcols.extend([cols[nc].values for nc in var_cats])\n",
    "    item_nbs.append(len(var_cats))\n",
    "    item_lbls.extend([\"[%s - %s]\" % (var_name, v) for v in var_cats])\n",
    "\n",
    "\n",
    "    if var_name == 'native-country':\n",
    "        native_cols = cols\n",
    "\n",
    "native_cols"
   ]
  },
  {
   "cell_type": "markdown",
   "metadata": {},
   "source": [
    "In the table above, `?` appears in the column names for `native-country`. This might be an error in the dataset, or a missing country name.\n",
    "\n",
    "Now, for the numerical attributes, we bin the values. The bin intervals for each attribute are defined as `(max - min)/5`. For `capital-gain`, the bins were chosen manually to avoid errors (empty bin)."
   ]
  },
  {
   "cell_type": "code",
   "execution_count": 163,
   "metadata": {},
   "outputs": [
    {
     "name": "stdout",
     "output_type": "stream",
     "text": [
      "age: min 17 max 90 step 14.6\n",
      "education-num: min 1 max 16 step 3.0\n",
      "capital-gain: min 0 max 99999 step 19999.8\n",
      "capital-loss: min 0 max 4356 step 871.2\n",
      "hours-per-week: min 1 max 99 step 19.6\n"
     ]
    }
   ],
   "source": [
    "numerical_attrb = ['age', 'education-num', 'capital-gain', 'capital-loss', 'hours-per-week']\n",
    "\n",
    "for attrb in numerical_attrb:\n",
    "    min_value = dtf[attrb].min()\n",
    "    max_value = dtf[attrb].max()\n",
    "    step = (max_value-min_value)/5\n",
    "    print(f\"{attrb}: min {min_value} max {max_value} step {step}\")"
   ]
  },
  {
   "cell_type": "code",
   "execution_count": 164,
   "metadata": {},
   "outputs": [],
   "source": [
    "for var_name, var_bounds in [ \n",
    "    (\"age\", [31.6, 46.2, 60.8, 75.4]),\n",
    "    (\"education-num\", [4, 7, 10, 13]),\n",
    "    (\"capital-gain\", [25000, 50000]), #19999.8, 39999.6, 59999.4, 79999.2\n",
    "    (\"capital-loss\", [871.2, 1742.4, 2613.6, 3484.8]),\n",
    "    (\"hours-per-week\", [20.6, 40.2, 59.8, 79.4]),\n",
    "]:\n",
    "    bins = [dtf[var_name].min()]+var_bounds+[dtf[var_name].max()]\n",
    "    bvs = numpy.arange(len(bins)-1)\n",
    "    cols = pandas.crosstab(dtf.index, [pandas.cut(x=dtf[var_name], bins=bins, labels=bvs, include_lowest=True)])\n",
    "    dcols.extend([cols[nc].values for nc in bvs])\n",
    "    item_lbls.append(\"%s_..%s]\" % (var_name, var_bounds[0]))\n",
    "    item_nbs.append(len(var_bounds)+1)\n",
    "    item_lbls.extend([\"%s_(%s,%s]\" % (var_name, var_bounds[i], var_bounds[i+1]) for i in range(len(var_bounds)-1)])\n",
    "    item_lbls.append(\"%s_(%s..\" % (var_name, var_bounds[-1]))"
   ]
  },
  {
   "cell_type": "markdown",
   "metadata": {},
   "source": [
    "We can then obtain the binary matrix:"
   ]
  },
  {
   "cell_type": "code",
   "execution_count": 165,
   "metadata": {},
   "outputs": [
    {
     "data": {
      "text/plain": [
       "array([0, 0, 1, 0, 0, 0, 0, 0, 0, 0, 0, 1, 0, 0, 0, 0, 0, 0, 0, 0, 0, 0,\n",
       "       0, 0, 1, 0, 0, 0, 0, 0, 0, 0, 0, 0, 0, 1, 0, 0, 0, 0, 0, 0, 0, 0,\n",
       "       0, 1, 0, 0, 0, 0, 0, 1, 0, 0, 0, 0, 1, 0, 1, 0, 0, 0, 0, 0, 0, 0,\n",
       "       0, 0, 0, 0, 0, 0, 0, 0, 0, 0, 0, 0, 0, 0, 0, 0, 0, 0, 0, 0, 0, 0,\n",
       "       0, 0, 0, 0, 0, 0, 0, 0, 0, 0, 0, 0, 1, 0, 0, 1, 0, 0, 0, 0, 1, 0,\n",
       "       0, 1, 0, 0, 1, 0, 0, 0, 0, 0, 1, 0, 0, 0], dtype=int64)"
      ]
     },
     "execution_count": 165,
     "metadata": {},
     "output_type": "execute_result"
    }
   ],
   "source": [
    "bin_mat = numpy.vstack(dcols).T  # https://numpy.org/doc/stable/reference/generated/numpy.vstack.html\n",
    "bin_mat[-1]"
   ]
  },
  {
   "cell_type": "markdown",
   "metadata": {},
   "source": [
    "And turn it into a list of transactions for the FIM algorithm:"
   ]
  },
  {
   "cell_type": "code",
   "execution_count": 166,
   "metadata": {},
   "outputs": [
    {
     "data": {
      "text/plain": [
       "frozenset({2, 11, 24, 35, 45, 51, 56, 58, 100, 103, 108, 111, 114, 120})"
      ]
     },
     "execution_count": 166,
     "metadata": {},
     "output_type": "execute_result"
    }
   ],
   "source": [
    "tracts = [frozenset(numpy.where(r)[0]) for r in bin_mat]\n",
    "tracts[-1]"
   ]
  },
  {
   "cell_type": "markdown",
   "metadata": {},
   "source": [
    "## Statistics"
   ]
  },
  {
   "cell_type": "code",
   "execution_count": 167,
   "metadata": {},
   "outputs": [
    {
     "data": {
      "text/plain": [
       "32561"
      ]
     },
     "execution_count": 167,
     "metadata": {},
     "output_type": "execute_result"
    }
   ],
   "source": [
    "len(tracts)"
   ]
  },
  {
   "cell_type": "markdown",
   "metadata": {},
   "source": [
    "There are `32561 transactions` in total. Each transaction corresponds to one person."
   ]
  },
  {
   "cell_type": "markdown",
   "metadata": {},
   "source": [
    "The histogram of the data shows the distribution accross categories for each person. The differences in amount inside of each attribute are evident:\n",
    "- for the `age` attribute, the amount of younger people is much higher than older people (up to 31.6 years). A different binning could equalize the different bins, e.g. more bins in-between 18-30 years old;\n",
    "- in the `workclass` attribute, `Federal-Gov` is the most common category;\n",
    "- `Married-civ-spouse` is overwhelmingly higher in amount than other categories in the `marital-status` attribute.  "
   ]
  },
  {
   "cell_type": "code",
   "execution_count": 168,
   "metadata": {},
   "outputs": [
    {
     "data": {
      "image/png": "[encoded data removed]",
      "text/plain": [
       "<Figure size 1600x400 with 1 Axes>"
      ]
     },
     "metadata": {},
     "output_type": "display_data"
    }
   ],
   "source": [
    "plt.figure(figsize=(16,4))\n",
    "h = numpy.sum(bin_mat, axis=0)\n",
    "bw = 3.5/numpy.max(item_nbs)\n",
    "bf = 2\n",
    "xbs = []\n",
    "for ni, nb in enumerate(item_nbs):\n",
    "    xbs.extend([ni+(n-0.5*(nb-1+bf))*bw for n in range(nb)])\n",
    "plt.bar(xbs, h, width=bf*bw, align='edge', color=(68/255., 119/255., 170/255.))\n",
    "plt.xticks(range(len(cnames)), cnames, rotation='vertical')\n",
    "plt.xlabel(\"Attributes\")\n",
    "plt.ylabel(\"Nb. of occurrences\")\n",
    "plt.show()"
   ]
  },
  {
   "cell_type": "markdown",
   "metadata": {},
   "source": [
    "**01.12.23:** Let's look into the counts in more detail."
   ]
  },
  {
   "cell_type": "code",
   "execution_count": 169,
   "metadata": {},
   "outputs": [
    {
     "data": {
      "text/plain": [
       "5060         1\n",
       "7978         1\n",
       "2387         1\n",
       "1639         1\n",
       "1455         1\n",
       "         ...  \n",
       "99999      159\n",
       "7298       246\n",
       "7688       284\n",
       "15024      347\n",
       "0        29849\n",
       "Name: capital-gain, Length: 119, dtype: int64"
      ]
     },
     "execution_count": 169,
     "metadata": {},
     "output_type": "execute_result"
    }
   ],
   "source": [
    "var_counts = []\n",
    "\n",
    "for var_name in [ \n",
    "    \"age\",\n",
    "    \"education-num\",\n",
    "    \"capital-gain\",\n",
    "    \"capital-loss\",\n",
    "    \"hours-per-week\",\n",
    "]:\n",
    "    var_counts.append(dtf[var_name].value_counts().sort_values())\n",
    "var_counts[2]"
   ]
  },
  {
   "cell_type": "markdown",
   "metadata": {},
   "source": [
    "**01.12.23:** Checking every numerical variable, we get the following counts:\n",
    "\n",
    "- `age`: in the top 5 most frequent, we have mostly 31-36 y.o. people.\n",
    "- `education-num`: education number `9`, `10` and `13` are the most frequent by a lot, with `9` being ahead by approx. 3k, and `13` being ahead by aprox. 3600. \n",
    "- `capital-gain`: a capital gain of `0` is the most frequent, with 29849 people. The second most frequent is `15024` with 347 people.\n",
    "- `capital-loss`: same as with capital loss, `0` is the most frequent, with 31042. Second most frequent is `1902` with 202 people.\n",
    "- `hours-per-week`: vast majority of people work `40 hours per week` (15217 people), with second place going to `50 hours per week` with 2819 people. There is one person who reported working `94 hours per week`."
   ]
  },
  {
   "cell_type": "markdown",
   "metadata": {},
   "source": [
    "## Mining"
   ]
  },
  {
   "cell_type": "markdown",
   "metadata": {},
   "source": [
    "Running the FIM algorithm with a support threshold of 15% (0.15*435 ~ 65), we obtain the following:"
   ]
  },
  {
   "cell_type": "code",
   "execution_count": 170,
   "metadata": {},
   "outputs": [
    {
     "name": "stdout",
     "output_type": "stream",
     "text": [
      "Found 2258 itemsets\n"
     ]
    }
   ],
   "source": [
    "nb_tot = len(tracts)\n",
    "FI = fim(tracts, target='s', supp=15)\n",
    "print(\"Found %d itemsets\" % (len(FI)))"
   ]
  },
  {
   "cell_type": "markdown",
   "metadata": {},
   "source": [
    "The top 10 most frequent are:"
   ]
  },
  {
   "cell_type": "code",
   "execution_count": 171,
   "metadata": {},
   "outputs": [
    {
     "name": "stdout",
     "output_type": "stream",
     "text": [
      "capital-gain_..25000] (111,) 32346 0.993\n",
      "capital-loss_..871.2] (114,) 31070 0.954\n",
      "capital-loss_..871.2] capital-gain_..25000] (114, 111) 30855 0.948\n",
      "[native-country - United-States] (58,) 29170 0.896\n",
      "[native-country - United-States] capital-gain_..25000] (58, 111) 28977 0.890\n",
      "[race - White] (51,) 27816 0.854\n",
      "[native-country - United-States] capital-loss_..871.2] (58, 114) 27816 0.854\n",
      "[race - White] capital-gain_..25000] (51, 111) 27625 0.848\n",
      "[native-country - United-States] capital-loss_..871.2] capital-gain_..25000] (58, 114, 111) 27623 0.848\n",
      "[race - White] capital-loss_..871.2] (51, 114) 26492 0.814\n"
     ]
    }
   ],
   "source": [
    "for fi in sorted(FI, key=lambda x: -x[1])[:10]:\n",
    "    print(\" \".join([item_lbls[x] for x in fi[0]]), fi[0], fi[1], \"%.3f\" % (fi[1]/nb_tot))"
   ]
  },
  {
   "cell_type": "markdown",
   "metadata": {},
   "source": [
    "The most frequent singleton is `capital-gain_..25000`, meaning that the most common characteristic for all people is their low income. An itemset with `native-country - United-States` also appears alongside the low income, showing that most low-income people are from this country (for this dataset). We also notice that most people in the dataset are `race - White`. \n",
    "\n",
    "Restricting the algorithm to itemsets of size 2 gives us the following top 10: "
   ]
  },
  {
   "cell_type": "code",
   "execution_count": 172,
   "metadata": {},
   "outputs": [
    {
     "name": "stdout",
     "output_type": "stream",
     "text": [
      "Found 2234 itemsets\n",
      "\n",
      "\n",
      "capital-loss_..871.2] capital-gain_..25000] (114, 111) 30855 0.948\n",
      "[native-country - United-States] capital-gain_..25000] (58, 111) 28977 0.890\n",
      "[native-country - United-States] capital-loss_..871.2] (58, 114) 27816 0.854\n",
      "[race - White] capital-gain_..25000] (51, 111) 27625 0.848\n",
      "[native-country - United-States] capital-loss_..871.2] capital-gain_..25000] (58, 114, 111) 27623 0.848\n",
      "[race - White] capital-loss_..871.2] (51, 114) 26492 0.814\n",
      "[race - White] capital-loss_..871.2] capital-gain_..25000] (51, 114, 111) 26301 0.808\n",
      "[race - White] [native-country - United-States] (51, 58) 25621 0.787\n",
      "[race - White] [native-country - United-States] capital-gain_..25000] (51, 58, 111) 25440 0.781\n",
      "[yearly-salary - <=50K] capital-gain_..25000] (99, 111) 24713 0.759\n"
     ]
    }
   ],
   "source": [
    "FI = fim(tracts, target='s', supp=15, zmin=2)\n",
    "print(\"Found %d itemsets\\n\" % (len(FI)))\n",
    "\n",
    "print('')  # Space between prints\n",
    "\n",
    "for fi in sorted(FI, key=lambda x: -x[1])[:10]:\n",
    "    print(\" \".join([item_lbls[x] for x in fi[0]]), fi[0], fi[1], \"%.3f\" % (fi[1]/nb_tot))"
   ]
  },
  {
   "cell_type": "markdown",
   "metadata": {},
   "source": [
    "The most frequent itemset of size 2 is a combination of `capital-loss_..871.2` with `capital-gain_..25000`. The meaning of capital loss was not clarified in the dataset page, but it is assumed that this combination might mean an association that people of low income also possess capital loss (perhaps debt?). "
   ]
  },
  {
   "cell_type": "markdown",
   "metadata": {},
   "source": [
    "Let's have a look at the most frequent maximal itemsets (15% supp. threshold)."
   ]
  },
  {
   "cell_type": "code",
   "execution_count": 173,
   "metadata": {},
   "outputs": [
    {
     "name": "stdout",
     "output_type": "stream",
     "text": [
      "Found 120 itemsets\n",
      "1 [relationship - Husband] [workclass - Private] [native-country - United-States] [race - White] capital-loss_..871.2] capital-gain_..25000] [marital-status - Married-civ-spouse] [sex - Male] (47, 0, 58, 51, 114, 111, 24, 57) 6587 0.202\n",
      "2 age_(31.6,46.2] [sex - Male] [race - White] [native-country - United-States] capital-loss_..871.2] capital-gain_..25000] (102, 57, 51, 58, 114, 111) 6442 0.198\n",
      "3 age_..31.6] [workclass - Private] [race - White] [native-country - United-States] [yearly-salary - <=50K] capital-loss_..871.2] capital-gain_..25000] (101, 0, 51, 58, 99, 114, 111) 6280 0.193\n",
      "4 age_(31.6,46.2] [workclass - Private] [race - White] [native-country - United-States] capital-loss_..871.2] capital-gain_..25000] (102, 0, 51, 58, 114, 111) 6223 0.191\n",
      "5 age_(31.6,46.2] [yearly-salary - <=50K] [race - White] [native-country - United-States] capital-loss_..871.2] capital-gain_..25000] (102, 99, 51, 58, 114, 111) 5996 0.184\n",
      "6 education-num_(10,13] [race - White] [native-country - United-States] capital-loss_..871.2] capital-gain_..25000] (109, 51, 58, 114, 111) 5950 0.183\n",
      "7 [sex - Female] hours-per-week_(20.6,40.2] [native-country - United-States] [yearly-salary - <=50K] capital-loss_..871.2] capital-gain_..25000] (56, 120, 58, 99, 114, 111) 5900 0.181\n",
      "8 [marital-status - Never-married] hours-per-week_(20.6,40.2] [native-country - United-States] [yearly-salary - <=50K] capital-loss_..871.2] capital-gain_..25000] (26, 120, 58, 99, 114, 111) 5842 0.179\n",
      "9 [marital-status - Never-married] [workclass - Private] [race - White] [native-country - United-States] [yearly-salary - <=50K] capital-loss_..871.2] capital-gain_..25000] (26, 0, 51, 58, 99, 114, 111) 5761 0.177\n",
      "10 age_(31.6,46.2] education-num_(7,10] [native-country - United-States] capital-loss_..871.2] capital-gain_..25000] (102, 108, 58, 114, 111) 5728 0.176\n"
     ]
    }
   ],
   "source": [
    "FI = fim(tracts, target='m', supp=15, zmin=2)\n",
    "print(\"Found %d itemsets\" % (len(FI)))\n",
    "\n",
    "i = 1\n",
    "for fi in sorted(FI, key=lambda x: -x[1])[:10]:\n",
    "    print(i, \" \".join([item_lbls[x] for x in fi[0]]), fi[0], fi[1], \"%.3f\" % (fi[1]/nb_tot))\n",
    "    i += 1"
   ]
  },
  {
   "cell_type": "markdown",
   "metadata": {},
   "source": [
    "The most common set of attributes a person has is a `white American male working privately with an yearly salary lower than 50K and capital gain lower than 25K, but also with capital loss lower than 871`. This maximal itemset has support count of `7018`, consisting `21.6%` of the maximal itemsets (for threshold 15%).\n",
    "\n",
    "In the third position, we have a `white female American with same capital gain and loss as the male`, on a support count of `6090` (`18.7%` of the maximal itemsets).\n",
    "\n",
    "What if we restrict the itemsets to include `yearly-salary - >50K` and check the profile of a person that receives over 50K a year? Reducing support threshold to 1%, targeting maximal itemsets, and setting the minimum itemset size to 5, we get the following top 10 itemsets:"
   ]
  },
  {
   "cell_type": "code",
   "execution_count": 174,
   "metadata": {},
   "outputs": [
    {
     "name": "stdout",
     "output_type": "stream",
     "text": [
      "Found 4270 itemsets\n",
      "\n",
      "1 hours-per-week_(40.2,59.8] [yearly-salary - >50K] age_(31.6,46.2] [workclass - Private] [relationship - Husband] capital-loss_..871.2] [native-country - United-States] [race - White] capital-gain_..25000] [marital-status - Married-civ-spouse] [sex - Male] (121, 100, 102, 0, 47, 114, 58, 51, 111, 24, 57) 677 0.021\n",
      "2 [yearly-salary - >50K] hours-per-week_(20.6,40.2] age_(31.6,46.2] [workclass - Private] [relationship - Husband] [race - White] capital-loss_..871.2] [native-country - United-States] capital-gain_..25000] [sex - Male] [marital-status - Married-civ-spouse] (100, 120, 102, 0, 47, 51, 114, 58, 111, 57, 24) 632 0.019\n",
      "3 [education - Some-college] [yearly-salary - >50K] [workclass - Private] [relationship - Husband] [race - White] capital-loss_..871.2] [native-country - United-States] capital-gain_..25000] education-num_(7,10] [sex - Male] [marital-status - Married-civ-spouse] (9, 100, 0, 47, 51, 114, 58, 111, 108, 57, 24) 566 0.017\n",
      "4 hours-per-week_(59.8,79.4] [yearly-salary - >50K] [relationship - Husband] capital-loss_..871.2] [native-country - United-States] capital-gain_..25000] [race - White] [marital-status - Married-civ-spouse] [sex - Male] (122, 100, 47, 114, 58, 111, 51, 24, 57) 557 0.017\n",
      "5 [occupation - Prof-specialty] [relationship - Husband] [workclass - Private] [yearly-salary - >50K] [native-country - United-States] capital-loss_..871.2] capital-gain_..25000] [race - White] [sex - Male] [marital-status - Married-civ-spouse] (36, 47, 0, 100, 58, 114, 111, 51, 57, 24) 511 0.016\n",
      "6 capital-loss_(1742.4,2613.6] [relationship - Husband] [yearly-salary - >50K] [native-country - United-States] [race - White] capital-gain_..25000] [marital-status - Married-civ-spouse] [sex - Male] (116, 47, 100, 58, 51, 111, 24, 57) 505 0.016\n",
      "7 [education - Masters] [relationship - Husband] [yearly-salary - >50K] capital-loss_..871.2] [native-country - United-States] [race - White] capital-gain_..25000] education-num_(13.. [marital-status - Married-civ-spouse] [sex - Male] (18, 47, 100, 114, 58, 51, 111, 110, 24, 57) 490 0.015\n",
      "8 [education - Bachelors] [yearly-salary - >50K] age_(31.6,46.2] [workclass - Private] [relationship - Husband] capital-loss_..871.2] [native-country - United-States] [race - White] capital-gain_..25000] education-num_(10,13] [marital-status - Married-civ-spouse] [sex - Male] (8, 100, 102, 0, 47, 114, 58, 51, 111, 109, 24, 57) 489 0.015\n",
      "9 [occupation - Prof-specialty] [relationship - Husband] age_(31.6,46.2] [yearly-salary - >50K] capital-loss_..871.2] [native-country - United-States] [race - White] capital-gain_..25000] [marital-status - Married-civ-spouse] [sex - Male] (36, 47, 102, 100, 114, 58, 51, 111, 24, 57) 488 0.015\n",
      "10 age_(46.2,60.8] [yearly-salary - >50K] education-num_(7,10] [workclass - Private] [relationship - Husband] capital-loss_..871.2] [race - White] [native-country - United-States] capital-gain_..25000] [sex - Male] [marital-status - Married-civ-spouse] (103, 100, 108, 0, 47, 114, 51, 58, 111, 57, 24) 484 0.015\n"
     ]
    }
   ],
   "source": [
    "FI = fim(tracts, target='m', supp=1, zmin=5)\n",
    "print(\"Found %d itemsets\\n\" % (len(FI)))\n",
    "\n",
    "class_labels = [100]\n",
    "print_limit = 10\n",
    "i = 1\n",
    "\n",
    "for fi in sorted(FI, key=lambda x: -x[1]):\n",
    "    if any(attr in class_labels for attr in fi[0]):  # Only look at itemsets including the Class attrb\n",
    "        if i <= print_limit:\n",
    "            print(i, \" \".join([item_lbls[x] for x in fi[0]]), fi[0], fi[1], \"%.3f\" % (fi[1]/nb_tot))\n",
    "            i += 1"
   ]
  },
  {
   "cell_type": "markdown",
   "metadata": {},
   "source": [
    "The top 2 itemsets are very similar: white American married male. For the top itemset, we see that people are overworked, with a value between `40.2` and `59.8` hours per week, aged between `31.6` and `46.2`.\n",
    "\n",
    "The third most frequent itemset is different from the previous two in the sense that these people work a value between `20.6` and `40.2` hours per week. This may indicate that it is not necessary to overwork yourself with many hours a week to get a decent salary of 50K or more a year, although there seems to be an association with ages between `31.6` and `46.2`.\n",
    "\n",
    "**01.12.23:** It's also worth noting that none of the top 10 include the attribute `sex - Female`. What about the top 100?"
   ]
  },
  {
   "cell_type": "code",
   "execution_count": 175,
   "metadata": {},
   "outputs": [
    {
     "name": "stdout",
     "output_type": "stream",
     "text": [
      "Found 4270 itemsets\n",
      "\n",
      "1 hours-per-week_(40.2,59.8] [yearly-salary - >50K] age_(31.6,46.2] [workclass - Private] [relationship - Husband] capital-loss_..871.2] [native-country - United-States] [race - White] capital-gain_..25000] [marital-status - Married-civ-spouse] [sex - Male] (121, 100, 102, 0, 47, 114, 58, 51, 111, 24, 57) 677 0.021\n",
      "2 [yearly-salary - >50K] hours-per-week_(20.6,40.2] age_(31.6,46.2] [workclass - Private] [relationship - Husband] [race - White] capital-loss_..871.2] [native-country - United-States] capital-gain_..25000] [sex - Male] [marital-status - Married-civ-spouse] (100, 120, 102, 0, 47, 51, 114, 58, 111, 57, 24) 632 0.019\n",
      "3 [education - Some-college] [yearly-salary - >50K] [workclass - Private] [relationship - Husband] [race - White] capital-loss_..871.2] [native-country - United-States] capital-gain_..25000] education-num_(7,10] [sex - Male] [marital-status - Married-civ-spouse] (9, 100, 0, 47, 51, 114, 58, 111, 108, 57, 24) 566 0.017\n",
      "4 hours-per-week_(59.8,79.4] [yearly-salary - >50K] [relationship - Husband] capital-loss_..871.2] [native-country - United-States] capital-gain_..25000] [race - White] [marital-status - Married-civ-spouse] [sex - Male] (122, 100, 47, 114, 58, 111, 51, 24, 57) 557 0.017\n",
      "5 [occupation - Prof-specialty] [relationship - Husband] [workclass - Private] [yearly-salary - >50K] [native-country - United-States] capital-loss_..871.2] capital-gain_..25000] [race - White] [sex - Male] [marital-status - Married-civ-spouse] (36, 47, 0, 100, 58, 114, 111, 51, 57, 24) 511 0.016\n",
      "6 capital-loss_(1742.4,2613.6] [relationship - Husband] [yearly-salary - >50K] [native-country - United-States] [race - White] capital-gain_..25000] [marital-status - Married-civ-spouse] [sex - Male] (116, 47, 100, 58, 51, 111, 24, 57) 505 0.016\n",
      "7 [education - Masters] [relationship - Husband] [yearly-salary - >50K] capital-loss_..871.2] [native-country - United-States] [race - White] capital-gain_..25000] education-num_(13.. [marital-status - Married-civ-spouse] [sex - Male] (18, 47, 100, 114, 58, 51, 111, 110, 24, 57) 490 0.015\n",
      "8 [education - Bachelors] [yearly-salary - >50K] age_(31.6,46.2] [workclass - Private] [relationship - Husband] capital-loss_..871.2] [native-country - United-States] [race - White] capital-gain_..25000] education-num_(10,13] [marital-status - Married-civ-spouse] [sex - Male] (8, 100, 102, 0, 47, 114, 58, 51, 111, 109, 24, 57) 489 0.015\n",
      "9 [occupation - Prof-specialty] [relationship - Husband] age_(31.6,46.2] [yearly-salary - >50K] capital-loss_..871.2] [native-country - United-States] [race - White] capital-gain_..25000] [marital-status - Married-civ-spouse] [sex - Male] (36, 47, 102, 100, 114, 58, 51, 111, 24, 57) 488 0.015\n",
      "10 age_(46.2,60.8] [yearly-salary - >50K] education-num_(7,10] [workclass - Private] [relationship - Husband] capital-loss_..871.2] [race - White] [native-country - United-States] capital-gain_..25000] [sex - Male] [marital-status - Married-civ-spouse] (103, 100, 108, 0, 47, 114, 51, 58, 111, 57, 24) 484 0.015\n",
      "11 hours-per-week_(40.2,59.8] [yearly-salary - >50K] education-num_(7,10] [workclass - Private] [relationship - Husband] capital-loss_..871.2] [native-country - United-States] [race - White] capital-gain_..25000] [marital-status - Married-civ-spouse] [sex - Male] (121, 100, 108, 0, 47, 114, 58, 51, 111, 24, 57) 478 0.015\n",
      "12 age_(46.2,60.8] [yearly-salary - >50K] hours-per-week_(20.6,40.2] [workclass - Private] [relationship - Husband] [race - White] capital-loss_..871.2] [native-country - United-States] capital-gain_..25000] [sex - Male] [marital-status - Married-civ-spouse] (103, 100, 120, 0, 47, 51, 114, 58, 111, 57, 24) 471 0.014\n",
      "13 education-num_(13.. [relationship - Husband] [occupation - Prof-specialty] [yearly-salary - >50K] capital-loss_..871.2] [native-country - United-States] capital-gain_..25000] [race - White] [marital-status - Married-civ-spouse] [sex - Male] (110, 47, 36, 100, 114, 58, 111, 51, 24, 57) 465 0.014\n",
      "14 [occupation - Exec-managerial] [education - Bachelors] [relationship - Husband] [yearly-salary - >50K] capital-loss_..871.2] [native-country - United-States] [race - White] capital-gain_..25000] education-num_(10,13] [marital-status - Married-civ-spouse] [sex - Male] (35, 8, 47, 100, 114, 58, 51, 111, 109, 24, 57) 453 0.014\n",
      "15 age_(46.2,60.8] [education - HS-grad] [yearly-salary - >50K] [relationship - Husband] capital-loss_..871.2] [race - White] [native-country - United-States] capital-gain_..25000] education-num_(7,10] [sex - Male] [marital-status - Married-civ-spouse] (103, 11, 100, 47, 114, 51, 58, 111, 108, 57, 24) 440 0.014\n",
      "16 [yearly-salary - >50K] [sex - Female] age_(31.6,46.2] [race - White] capital-loss_..871.2] [native-country - United-States] capital-gain_..25000] (100, 56, 102, 51, 114, 58, 111) 437 0.013\n",
      "17 [occupation - Sales] [yearly-salary - >50K] [workclass - Private] [relationship - Husband] capital-loss_..871.2] [race - White] [native-country - United-States] capital-gain_..25000] [marital-status - Married-civ-spouse] [sex - Male] (34, 100, 0, 47, 114, 51, 58, 111, 24, 57) 435 0.013\n",
      "18 [occupation - Exec-managerial] hours-per-week_(20.6,40.2] [yearly-salary - >50K] [relationship - Husband] [race - White] capital-loss_..871.2] [native-country - United-States] capital-gain_..25000] [sex - Male] [marital-status - Married-civ-spouse] (35, 120, 100, 47, 51, 114, 58, 111, 57, 24) 428 0.013\n",
      "19 [occupation - Exec-managerial] age_(31.6,46.2] [yearly-salary - >50K] [workclass - Private] [relationship - Husband] capital-loss_..871.2] [native-country - United-States] [race - White] capital-gain_..25000] [sex - Male] [marital-status - Married-civ-spouse] (35, 102, 100, 0, 47, 114, 58, 51, 111, 57, 24) 425 0.013\n",
      "20 [occupation - Prof-specialty] [relationship - Husband] hours-per-week_(20.6,40.2] [yearly-salary - >50K] [native-country - United-States] capital-loss_..871.2] [race - White] capital-gain_..25000] [sex - Male] [marital-status - Married-civ-spouse] (36, 47, 120, 100, 58, 114, 51, 111, 57, 24) 420 0.013\n",
      "21 [education - Some-college] [yearly-salary - >50K] age_(31.6,46.2] [relationship - Husband] [race - White] capital-loss_..871.2] [native-country - United-States] capital-gain_..25000] education-num_(7,10] [sex - Male] [marital-status - Married-civ-spouse] (9, 100, 102, 47, 51, 114, 58, 111, 108, 57, 24) 420 0.013\n",
      "22 [yearly-salary - >50K] [relationship - Not-in-family] [workclass - Private] [race - White] capital-loss_..871.2] [native-country - United-States] capital-gain_..25000] (100, 48, 0, 51, 114, 58, 111) 418 0.013\n",
      "23 education-num_(13.. [workclass - Private] [relationship - Husband] [yearly-salary - >50K] [native-country - United-States] capital-loss_..871.2] capital-gain_..25000] [race - White] [marital-status - Married-civ-spouse] [sex - Male] (110, 0, 47, 100, 58, 114, 111, 51, 24, 57) 411 0.013\n",
      "24 [education - Some-college] [yearly-salary - >50K] hours-per-week_(20.6,40.2] [relationship - Husband] [race - White] capital-loss_..871.2] [native-country - United-States] capital-gain_..25000] education-num_(7,10] [sex - Male] [marital-status - Married-civ-spouse] (9, 100, 120, 47, 51, 114, 58, 111, 108, 57, 24) 411 0.013\n",
      "25 [yearly-salary - >50K] [relationship - Not-in-family] [sex - Male] [race - White] capital-loss_..871.2] capital-gain_..25000] [native-country - United-States] (100, 48, 57, 51, 114, 111, 58) 411 0.013\n",
      "26 education-num_(13.. age_(31.6,46.2] [relationship - Husband] [yearly-salary - >50K] capital-loss_..871.2] [native-country - United-States] capital-gain_..25000] [race - White] [marital-status - Married-civ-spouse] [sex - Male] (110, 102, 47, 100, 114, 58, 111, 51, 24, 57) 410 0.013\n",
      "27 [yearly-salary - >50K] age_..31.6] [relationship - Husband] capital-loss_..871.2] [native-country - United-States] [race - White] capital-gain_..25000] [marital-status - Married-civ-spouse] [sex - Male] (100, 101, 47, 114, 58, 51, 111, 24, 57) 409 0.013\n",
      "28 age_(46.2,60.8] [yearly-salary - >50K] education-num_(7,10] hours-per-week_(20.6,40.2] [relationship - Husband] [race - White] capital-loss_..871.2] [native-country - United-States] capital-gain_..25000] [sex - Male] [marital-status - Married-civ-spouse] (103, 100, 108, 120, 47, 51, 114, 58, 111, 57, 24) 405 0.012\n",
      "29 [workclass - Self-emp-not-inc] [yearly-salary - >50K] [relationship - Husband] capital-loss_..871.2] [native-country - United-States] capital-gain_..25000] [race - White] [marital-status - Married-civ-spouse] [sex - Male] (1, 100, 47, 114, 58, 111, 51, 24, 57) 402 0.012\n",
      "30 [occupation - Exec-managerial] age_(46.2,60.8] [yearly-salary - >50K] [relationship - Husband] capital-loss_..871.2] [native-country - United-States] [race - White] capital-gain_..25000] [marital-status - Married-civ-spouse] [sex - Male] (35, 103, 100, 47, 114, 58, 51, 111, 24, 57) 401 0.012\n",
      "31 [yearly-salary - >50K] education-num_(7,10] age_(31.6,46.2] hours-per-week_(20.6,40.2] [relationship - Husband] [race - White] capital-loss_..871.2] [native-country - United-States] capital-gain_..25000] [sex - Male] [marital-status - Married-civ-spouse] (100, 108, 102, 120, 47, 51, 114, 58, 111, 57, 24) 396 0.012\n",
      "32 [education - Bachelors] hours-per-week_(40.2,59.8] [relationship - Husband] [workclass - Private] [yearly-salary - >50K] capital-loss_..871.2] [native-country - United-States] [race - White] capital-gain_..25000] education-num_(10,13] [sex - Male] [marital-status - Married-civ-spouse] (8, 121, 47, 0, 100, 114, 58, 51, 111, 109, 57, 24) 395 0.012\n",
      "33 hours-per-week_(40.2,59.8] education-num_(10,13] age_(31.6,46.2] [yearly-salary - >50K] [relationship - Husband] capital-loss_..871.2] [native-country - United-States] [race - White] capital-gain_..25000] [marital-status - Married-civ-spouse] [sex - Male] (121, 109, 102, 100, 47, 114, 58, 51, 111, 24, 57) 391 0.012\n",
      "34 [occupation - Prof-specialty] age_(46.2,60.8] [yearly-salary - >50K] capital-loss_..871.2] [native-country - United-States] capital-gain_..25000] [race - White] (36, 103, 100, 114, 58, 111, 51) 389 0.012\n",
      "35 [workclass - Local-gov] [yearly-salary - >50K] [marital-status - Married-civ-spouse] [race - White] capital-loss_..871.2] [native-country - United-States] capital-gain_..25000] (4, 100, 24, 51, 114, 58, 111) 388 0.012\n",
      "36 [workclass - Self-emp-inc] [yearly-salary - >50K] [relationship - Husband] capital-loss_..871.2] [native-country - United-States] capital-gain_..25000] [race - White] [marital-status - Married-civ-spouse] [sex - Male] (2, 100, 47, 114, 58, 111, 51, 24, 57) 387 0.012\n",
      "37 [yearly-salary - >50K] age_..31.6] [workclass - Private] [marital-status - Married-civ-spouse] [native-country - United-States] capital-loss_..871.2] [race - White] capital-gain_..25000] (100, 101, 0, 24, 58, 114, 51, 111) 386 0.012\n",
      "38 [yearly-salary - >50K] [education - HS-grad] hours-per-week_(20.6,40.2] [workclass - Private] [relationship - Husband] [race - White] capital-loss_..871.2] [native-country - United-States] capital-gain_..25000] [marital-status - Married-civ-spouse] education-num_(7,10] [sex - Male] (100, 11, 120, 0, 47, 51, 114, 58, 111, 24, 108, 57) 385 0.012\n",
      "39 [education - Masters] [workclass - Private] [yearly-salary - >50K] capital-loss_..871.2] [native-country - United-States] capital-gain_..25000] [race - White] education-num_(13.. (18, 0, 100, 114, 58, 111, 51, 110) 380 0.012\n",
      "40 [yearly-salary - >50K] age_..31.6] [workclass - Private] [sex - Male] [native-country - United-States] capital-loss_..871.2] [race - White] capital-gain_..25000] (100, 101, 0, 57, 58, 114, 51, 111) 380 0.012\n",
      "41 [occupation - Craft-repair] [yearly-salary - >50K] education-num_(7,10] [workclass - Private] [relationship - Husband] capital-loss_..871.2] [race - White] [native-country - United-States] capital-gain_..25000] [marital-status - Married-civ-spouse] [sex - Male] (32, 100, 108, 0, 47, 114, 51, 58, 111, 24, 57) 376 0.012\n",
      "42 [education - Masters] [workclass - Private] [yearly-salary - >50K] [sex - Male] [native-country - United-States] [race - White] capital-gain_..25000] education-num_(13.. (18, 0, 100, 57, 58, 51, 111, 110) 373 0.011\n",
      "43 [occupation - Exec-managerial] education-num_(10,13] [relationship - Husband] [workclass - Private] [yearly-salary - >50K] capital-loss_..871.2] [native-country - United-States] [race - White] capital-gain_..25000] [marital-status - Married-civ-spouse] [sex - Male] (35, 109, 47, 0, 100, 114, 58, 51, 111, 24, 57) 373 0.011\n",
      "44 education-num_(10,13] [yearly-salary - >50K] hours-per-week_(20.6,40.2] age_(31.6,46.2] [relationship - Husband] [race - White] capital-loss_..871.2] [native-country - United-States] capital-gain_..25000] [sex - Male] [marital-status - Married-civ-spouse] (109, 100, 120, 102, 47, 51, 114, 58, 111, 57, 24) 372 0.011\n",
      "45 [education - Masters] hours-per-week_(20.6,40.2] [yearly-salary - >50K] capital-loss_..871.2] capital-gain_..25000] education-num_(13.. (18, 120, 100, 114, 111, 110) 371 0.011\n",
      "46 education-num_(13.. [occupation - Exec-managerial] [yearly-salary - >50K] [native-country - United-States] [race - White] capital-gain_..25000] (110, 35, 100, 58, 51, 111) 370 0.011\n",
      "47 [occupation - Craft-repair] [yearly-salary - >50K] hours-per-week_(20.6,40.2] [race - White] [relationship - Husband] capital-loss_..871.2] [native-country - United-States] capital-gain_..25000] [marital-status - Married-civ-spouse] [sex - Male] (32, 100, 120, 51, 47, 114, 58, 111, 24, 57) 368 0.011\n",
      "48 education-num_(13.. hours-per-week_(20.6,40.2] [yearly-salary - >50K] [occupation - Prof-specialty] capital-loss_..871.2] capital-gain_..25000] (110, 120, 100, 36, 114, 111) 367 0.011\n",
      "49 education-num_(10,13] [sex - Female] [yearly-salary - >50K] [native-country - United-States] capital-loss_..871.2] capital-gain_..25000] (109, 56, 100, 58, 114, 111) 367 0.011\n",
      "50 [occupation - Exec-managerial] hours-per-week_(40.2,59.8] [yearly-salary - >50K] [workclass - Private] [relationship - Husband] capital-loss_..871.2] [native-country - United-States] capital-gain_..25000] [race - White] [marital-status - Married-civ-spouse] [sex - Male] (35, 121, 100, 0, 47, 114, 58, 111, 51, 24, 57) 366 0.011\n",
      "51 [occupation - Exec-managerial] hours-per-week_(20.6,40.2] [yearly-salary - >50K] [workclass - Private] [race - White] capital-loss_..871.2] [native-country - United-States] capital-gain_..25000] (35, 120, 100, 0, 51, 114, 58, 111) 366 0.011\n",
      "52 education-num_(13.. hours-per-week_(20.6,40.2] [yearly-salary - >50K] [marital-status - Married-civ-spouse] [native-country - United-States] capital-loss_..871.2] [race - White] capital-gain_..25000] (110, 120, 100, 24, 58, 114, 51, 111) 365 0.011\n",
      "53 [occupation - Exec-managerial] education-num_(7,10] [yearly-salary - >50K] [relationship - Husband] capital-loss_..871.2] [race - White] [native-country - United-States] capital-gain_..25000] [sex - Male] [marital-status - Married-civ-spouse] (35, 108, 100, 47, 114, 51, 58, 111, 57, 24) 365 0.011\n",
      "54 [relationship - Wife] age_(31.6,46.2] [yearly-salary - >50K] capital-loss_..871.2] capital-gain_..25000] [marital-status - Married-civ-spouse] [sex - Female] (45, 102, 100, 114, 111, 24, 56) 364 0.011\n",
      "55 [occupation - Exec-managerial] [education - Bachelors] [relationship - Husband] [workclass - Private] [yearly-salary - >50K] [native-country - United-States] [race - White] capital-gain_..25000] education-num_(10,13] [marital-status - Married-civ-spouse] [sex - Male] (35, 8, 47, 0, 100, 58, 51, 111, 109, 24, 57) 362 0.011\n",
      "56 [occupation - Exec-managerial] [education - Bachelors] [yearly-salary - >50K] [workclass - Private] [sex - Male] capital-loss_..871.2] [native-country - United-States] [race - White] capital-gain_..25000] education-num_(10,13] (35, 8, 100, 0, 57, 114, 58, 51, 111, 109) 362 0.011\n",
      "57 [education - Bachelors] [yearly-salary - >50K] hours-per-week_(20.6,40.2] age_(31.6,46.2] [race - White] capital-loss_..871.2] [native-country - United-States] capital-gain_..25000] education-num_(10,13] (8, 100, 120, 102, 51, 114, 58, 111, 109) 362 0.011\n",
      "58 [yearly-salary - >50K] education-num_(7,10] age_(31.6,46.2] hours-per-week_(20.6,40.2] [workclass - Private] [race - White] [marital-status - Married-civ-spouse] capital-loss_..871.2] [native-country - United-States] capital-gain_..25000] (100, 108, 102, 120, 0, 51, 24, 114, 58, 111) 362 0.011\n",
      "59 education-num_(13.. hours-per-week_(20.6,40.2] [yearly-salary - >50K] [sex - Male] [native-country - United-States] capital-loss_..871.2] [race - White] capital-gain_..25000] (110, 120, 100, 57, 58, 114, 51, 111) 361 0.011\n",
      "60 education-num_(10,13] [sex - Female] [yearly-salary - >50K] [race - White] [native-country - United-States] capital-gain_..25000] (109, 56, 100, 51, 58, 111) 361 0.011\n",
      "61 [occupation - Prof-specialty] age_(46.2,60.8] [yearly-salary - >50K] [sex - Male] [native-country - United-States] capital-gain_..25000] [race - White] (36, 103, 100, 57, 58, 111, 51) 360 0.011\n",
      "62 [occupation - Prof-specialty] age_(46.2,60.8] [yearly-salary - >50K] [marital-status - Married-civ-spouse] [native-country - United-States] capital-gain_..25000] [race - White] (36, 103, 100, 24, 58, 111, 51) 360 0.011\n",
      "63 [education - Bachelors] hours-per-week_(40.2,59.8] age_(31.6,46.2] [relationship - Husband] [yearly-salary - >50K] [native-country - United-States] [race - White] capital-gain_..25000] [marital-status - Married-civ-spouse] education-num_(10,13] [sex - Male] (8, 121, 102, 47, 100, 58, 51, 111, 24, 109, 57) 360 0.011\n",
      "64 age_(46.2,60.8] [education - Some-college] [yearly-salary - >50K] capital-loss_..871.2] [race - White] [native-country - United-States] capital-gain_..25000] education-num_(7,10] (103, 9, 100, 114, 51, 58, 111, 108) 360 0.011\n",
      "65 [education - Bachelors] [yearly-salary - >50K] hours-per-week_(20.6,40.2] age_(31.6,46.2] [workclass - Private] capital-gain_..25000] education-num_(10,13] (8, 100, 120, 102, 0, 111, 109) 358 0.011\n",
      "66 [occupation - Exec-managerial] hours-per-week_(40.2,59.8] age_(31.6,46.2] [yearly-salary - >50K] capital-loss_..871.2] [native-country - United-States] [race - White] capital-gain_..25000] (35, 121, 102, 100, 114, 58, 51, 111) 357 0.011\n",
      "67 [occupation - Prof-specialty] education-num_(10,13] [yearly-salary - >50K] age_(31.6,46.2] capital-loss_..871.2] capital-gain_..25000] (36, 109, 100, 102, 114, 111) 357 0.011\n",
      "68 education-num_(10,13] [yearly-salary - >50K] hours-per-week_(20.6,40.2] age_(31.6,46.2] [workclass - Private] [race - White] capital-loss_..871.2] [native-country - United-States] capital-gain_..25000] (109, 100, 120, 102, 0, 51, 114, 58, 111) 357 0.011\n",
      "69 [yearly-salary - >50K] [sex - Female] age_(31.6,46.2] [workclass - Private] capital-loss_..871.2] capital-gain_..25000] (100, 56, 102, 0, 114, 111) 357 0.011\n",
      "70 [relationship - Wife] [yearly-salary - >50K] [workclass - Private] [race - White] [native-country - United-States] capital-gain_..25000] [marital-status - Married-civ-spouse] [sex - Female] (45, 100, 0, 51, 58, 111, 24, 56) 356 0.011\n",
      "71 [relationship - Wife] [yearly-salary - >50K] hours-per-week_(20.6,40.2] [race - White] capital-loss_..871.2] [native-country - United-States] capital-gain_..25000] [marital-status - Married-civ-spouse] [sex - Female] (45, 100, 120, 51, 114, 58, 111, 24, 56) 356 0.011\n",
      "72 education-num_(13.. hours-per-week_(20.6,40.2] [relationship - Husband] [yearly-salary - >50K] [native-country - United-States] [race - White] capital-gain_..25000] [marital-status - Married-civ-spouse] [sex - Male] (110, 120, 47, 100, 58, 51, 111, 24, 57) 356 0.011\n",
      "73 [occupation - Prof-specialty] [education - Bachelors] [yearly-salary - >50K] [marital-status - Married-civ-spouse] capital-loss_..871.2] [native-country - United-States] [race - White] capital-gain_..25000] education-num_(10,13] (36, 8, 100, 24, 114, 58, 51, 111, 109) 356 0.011\n",
      "74 [education - Bachelors] [yearly-salary - >50K] hours-per-week_(20.6,40.2] age_(31.6,46.2] [race - White] [marital-status - Married-civ-spouse] [native-country - United-States] capital-gain_..25000] education-num_(10,13] (8, 100, 120, 102, 51, 24, 58, 111, 109) 356 0.011\n",
      "75 [education - Bachelors] hours-per-week_(40.2,59.8] age_(31.6,46.2] [yearly-salary - >50K] [sex - Male] capital-loss_..871.2] [native-country - United-States] [race - White] capital-gain_..25000] education-num_(10,13] (8, 121, 102, 100, 57, 114, 58, 51, 111, 109) 355 0.011\n",
      "76 [yearly-salary - >50K] [relationship - Not-in-family] [workclass - Private] [sex - Male] capital-gain_..25000] (100, 48, 0, 57, 111) 355 0.011\n",
      "77 education-num_(13.. hours-per-week_(20.6,40.2] [yearly-salary - >50K] [occupation - Prof-specialty] [race - White] capital-gain_..25000] (110, 120, 100, 36, 51, 111) 354 0.011\n",
      "78 education-num_(13.. [workclass - Private] [occupation - Prof-specialty] [yearly-salary - >50K] capital-loss_..871.2] capital-gain_..25000] (110, 0, 36, 100, 114, 111) 354 0.011\n",
      "79 age_(60.8,75.4] [yearly-salary - >50K] [relationship - Husband] [native-country - United-States] [race - White] capital-gain_..25000] [marital-status - Married-civ-spouse] [sex - Male] (104, 100, 47, 58, 51, 111, 24, 57) 353 0.011\n",
      "80 hours-per-week_(59.8,79.4] [yearly-salary - >50K] [workclass - Private] capital-loss_..871.2] [native-country - United-States] [sex - Male] capital-gain_..25000] [race - White] (122, 100, 0, 114, 58, 57, 111, 51) 353 0.011\n",
      "81 education-num_(13.. age_(46.2,60.8] [relationship - Husband] [yearly-salary - >50K] [native-country - United-States] capital-gain_..25000] [race - White] [marital-status - Married-civ-spouse] [sex - Male] (110, 103, 47, 100, 58, 111, 51, 24, 57) 353 0.011\n",
      "82 hours-per-week_(40.2,59.8] [education - HS-grad] [yearly-salary - >50K] [relationship - Husband] capital-loss_..871.2] [native-country - United-States] [race - White] capital-gain_..25000] education-num_(7,10] [marital-status - Married-civ-spouse] [sex - Male] (121, 11, 100, 47, 114, 58, 51, 111, 108, 24, 57) 353 0.011\n",
      "83 [education - Some-college] [yearly-salary - >50K] age_(31.6,46.2] [workclass - Private] [sex - Male] capital-loss_..871.2] [native-country - United-States] capital-gain_..25000] education-num_(7,10] (9, 100, 102, 0, 57, 114, 58, 111, 108) 353 0.011\n",
      "84 [relationship - Wife] [yearly-salary - >50K] [workclass - Private] [native-country - United-States] capital-loss_..871.2] capital-gain_..25000] [marital-status - Married-civ-spouse] [sex - Female] (45, 100, 0, 58, 114, 111, 24, 56) 352 0.011\n",
      "85 hours-per-week_(59.8,79.4] [yearly-salary - >50K] [workclass - Private] [relationship - Husband] [native-country - United-States] capital-gain_..25000] [race - White] [marital-status - Married-civ-spouse] [sex - Male] (122, 100, 0, 47, 58, 111, 51, 24, 57) 352 0.011\n",
      "86 [yearly-salary - >50K] age_..31.6] hours-per-week_(20.6,40.2] [marital-status - Married-civ-spouse] capital-gain_..25000] (100, 101, 120, 24, 111) 352 0.011\n",
      "87 [occupation - Sales] [yearly-salary - >50K] hours-per-week_(40.2,59.8] [sex - Male] [native-country - United-States] [race - White] capital-gain_..25000] (34, 100, 121, 57, 58, 51, 111) 351 0.011\n",
      "88 [occupation - Craft-repair] [yearly-salary - >50K] age_(31.6,46.2] [relationship - Husband] [race - White] [native-country - United-States] capital-gain_..25000] [marital-status - Married-civ-spouse] [sex - Male] (32, 100, 102, 47, 51, 58, 111, 24, 57) 351 0.011\n",
      "89 [occupation - Prof-specialty] education-num_(10,13] [yearly-salary - >50K] hours-per-week_(20.6,40.2] capital-gain_..25000] (36, 109, 100, 120, 111) 351 0.011\n",
      "90 [yearly-salary - >50K] [sex - Female] age_(31.6,46.2] [workclass - Private] [native-country - United-States] capital-gain_..25000] (100, 56, 102, 0, 58, 111) 351 0.011\n",
      "91 [education - Masters] [workclass - Private] [marital-status - Married-civ-spouse] [yearly-salary - >50K] [native-country - United-States] [race - White] capital-gain_..25000] education-num_(13.. (18, 0, 24, 100, 58, 51, 111, 110) 350 0.011\n",
      "92 [workclass - Local-gov] [yearly-salary - >50K] [relationship - Husband] capital-loss_..871.2] [native-country - United-States] capital-gain_..25000] [sex - Male] [marital-status - Married-civ-spouse] (4, 100, 47, 114, 58, 111, 57, 24) 350 0.011\n",
      "93 education-num_(13.. age_(31.6,46.2] [workclass - Private] [marital-status - Married-civ-spouse] [yearly-salary - >50K] capital-gain_..25000] (110, 102, 0, 24, 100, 111) 350 0.011\n",
      "94 education-num_(13.. age_(31.6,46.2] [occupation - Prof-specialty] [yearly-salary - >50K] capital-loss_..871.2] [native-country - United-States] capital-gain_..25000] [race - White] (110, 102, 36, 100, 114, 58, 111, 51) 350 0.011\n",
      "95 [occupation - Exec-managerial] [education - Bachelors] age_(31.6,46.2] [yearly-salary - >50K] [race - White] [native-country - United-States] capital-gain_..25000] education-num_(10,13] (35, 8, 102, 100, 51, 58, 111, 109) 350 0.011\n",
      "96 [occupation - Craft-repair] [yearly-salary - >50K] age_(31.6,46.2] [workclass - Private] [sex - Male] capital-gain_..25000] (32, 100, 102, 0, 57, 111) 350 0.011\n",
      "97 [occupation - Craft-repair] [yearly-salary - >50K] hours-per-week_(20.6,40.2] [workclass - Private] [relationship - Husband] capital-loss_..871.2] capital-gain_..25000] [marital-status - Married-civ-spouse] [sex - Male] (32, 100, 120, 0, 47, 114, 111, 24, 57) 350 0.011\n",
      "98 [education - Some-college] [yearly-salary - >50K] age_(31.6,46.2] [workclass - Private] [relationship - Husband] [native-country - United-States] capital-gain_..25000] education-num_(7,10] [sex - Male] [marital-status - Married-civ-spouse] (9, 100, 102, 0, 47, 58, 111, 108, 57, 24) 350 0.011\n",
      "99 education-num_(10,13] [yearly-salary - >50K] hours-per-week_(20.6,40.2] age_(31.6,46.2] [workclass - Private] [relationship - Husband] capital-gain_..25000] [sex - Male] [marital-status - Married-civ-spouse] (109, 100, 120, 102, 0, 47, 111, 57, 24) 350 0.011\n",
      "100 education-num_(10,13] [yearly-salary - >50K] hours-per-week_(20.6,40.2] age_(31.6,46.2] [workclass - Private] [sex - Male] capital-loss_..871.2] capital-gain_..25000] (109, 100, 120, 102, 0, 57, 114, 111) 350 0.011\n"
     ]
    }
   ],
   "source": [
    "FI = fim(tracts, target='m', supp=1, zmin=5)\n",
    "print(\"Found %d itemsets\\n\" % (len(FI)))\n",
    "\n",
    "class_labels = [100]\n",
    "print_limit = 100\n",
    "i = 1\n",
    "\n",
    "for fi in sorted(FI, key=lambda x: -x[1]):\n",
    "    if any(attr in class_labels for attr in fi[0]):  # Only look at itemsets including the Class attrb\n",
    "        if i <= print_limit:\n",
    "            print(i, \" \".join([item_lbls[x] for x in fi[0]]), fi[0], fi[1], \"%.3f\" % (fi[1]/nb_tot))\n",
    "            i += 1"
   ]
  },
  {
   "cell_type": "markdown",
   "metadata": {},
   "source": [
    "**01.12.23:** Looking through the full output, we find two instances of `Sex - Female`:\n",
    "\n",
    "- 12 [relationship - Wife] [yearly-salary - >50K] capital-gain_..5000] [race - White] capital-loss_..871.2] [native-country - United-States] [marital-status - Married-civ-spouse] [sex - Female] capital-gain_..25000] capital-loss_..871.2] (45, 100, 134, 51, 114, 58, 24, 56, 111, 137) 440 0.014\n",
    "- 20 [yearly-salary - >50K] [sex - Female] [workclass - Private] capital-gain_..5000] [race - White] capital-loss_..871.2] [native-country - United-States] capital-gain_..25000] capital-loss_..871.2] (100, 56, 0, 134, 51, 114, 58, 111, 137) 420 0.013\n",
    "\n",
    "Summing to a mere total of `860 females` in the top 100 most frequent itemsets with `yearly-salary - >50K`. This might indicate a disparity between the salary of males and females. Let's check the male vs female distribution:"
   ]
  },
  {
   "cell_type": "code",
   "execution_count": 179,
   "metadata": {},
   "outputs": [
    {
     "data": {
      "text/plain": [
       "Female    10771\n",
       "Male      21790\n",
       "Name: sex, dtype: int64"
      ]
     },
     "execution_count": 179,
     "metadata": {},
     "output_type": "execute_result"
    }
   ],
   "source": [
    "dtf['sex'].value_counts().sort_values()"
   ]
  },
  {
   "cell_type": "markdown",
   "metadata": {},
   "source": [
    "**01.12.23:** Our dataset contains `67% male` and `33% female`. Although the distribution is strongly inclined towards the male size (much higher count of males in the dataset), it is still unusual that only 2 of the 100 most frequent itemsets containing `yearly-salary - >50K` include `Sex - Female`. It could also be the case that the itemsets are simply different, i.e. many of the males in the 67% are repeated accross the top 100 itemsets. The analysis would be more qualitative if sorted by uniqueness."
   ]
  }
 ],
 "metadata": {
  "kernelspec": {
   "display_name": "Python 3.9.1 64-bit",
   "language": "python",
   "name": "python3"
  },
  "language_info": {
   "codemirror_mode": {
    "name": "ipython",
    "version": 3
   },
   "file_extension": ".py",
   "mimetype": "text/x-python",
   "name": "python",
   "nbconvert_exporter": "python",
   "pygments_lexer": "ipython3",
   "version": "3.9.1"
  },
  "vscode": {
   "interpreter": {
    "hash": "11938c6bc6919ae2720b4d5011047913343b08a43b18698fd82dedb0d4417594"
   }
  }
 },
 "nbformat": 4,
 "nbformat_minor": 2
}
