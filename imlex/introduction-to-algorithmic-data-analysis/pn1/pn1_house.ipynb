{
 "cells": [
  {
   "cell_type": "markdown",
   "metadata": {},
   "source": [
    "# Imports"
   ]
  },
  {
   "cell_type": "code",
   "execution_count": 56,
   "metadata": {},
   "outputs": [],
   "source": [
    "%matplotlib inline\n",
    "import numpy\n",
    "import pandas\n",
    "import datetime\n",
    "import matplotlib.pyplot as plt"
   ]
  },
  {
   "cell_type": "code",
   "execution_count": 57,
   "metadata": {},
   "outputs": [],
   "source": [
    "with open(\"pyfim.py\") as fp:\n",
    "    exec(fp.read())\n",
    "# from pyfim import *  # LOCALLY\n",
    "# import urllib.request  # REMOTELY\n",
    "# a = urllib.request.urlopen(\"https://members.loria.fr/EGalbrun/UEF_LPD/assignment/pyfim.py\")\n",
    "# exec(a.read())"
   ]
  },
  {
   "cell_type": "markdown",
   "metadata": {},
   "source": [
    "# The House dataset"
   ]
  },
  {
   "cell_type": "markdown",
   "metadata": {},
   "source": [
    "The `house` dataset includes votes for each of the U.S. House of Representatives Congressmen on the 16 key votes identified by the CQA. This is a relatively small dataset (435 instances). More information at https://archive.ics.uci.edu/ml/datasets/congressional+voting+records"
   ]
  },
  {
   "cell_type": "markdown",
   "metadata": {},
   "source": [
    "## Pre-processing"
   ]
  },
  {
   "cell_type": "markdown",
   "metadata": {},
   "source": [
    "Let's start by reading the data and displaying an outline."
   ]
  },
  {
   "cell_type": "code",
   "execution_count": 58,
   "metadata": {},
   "outputs": [
    {
     "data": {
      "text/html": [
       "<div>\n",
       "<style scoped>\n",
       "    .dataframe tbody tr th:only-of-type {\n",
       "        vertical-align: middle;\n",
       "    }\n",
       "\n",
       "    .dataframe tbody tr th {\n",
       "        vertical-align: top;\n",
       "    }\n",
       "\n",
       "    .dataframe thead th {\n",
       "        text-align: right;\n",
       "    }\n",
       "</style>\n",
       "<table border=\"1\" class=\"dataframe\">\n",
       "  <thead>\n",
       "    <tr style=\"text-align: right;\">\n",
       "      <th></th>\n",
       "      <th>Class</th>\n",
       "      <th>Handicapped infants</th>\n",
       "      <th>Water project cost sharing</th>\n",
       "      <th>Adoption of the budget resolution</th>\n",
       "      <th>Physician fee freeze</th>\n",
       "      <th>El Salvador aid</th>\n",
       "      <th>Religious groups in schools</th>\n",
       "      <th>Anti-satellite test ban</th>\n",
       "      <th>Aid to Nicaraguan Contras</th>\n",
       "      <th>Mx Missile</th>\n",
       "      <th>Immigration</th>\n",
       "      <th>Synfuels Corporation cutback</th>\n",
       "      <th>Education spending</th>\n",
       "      <th>Superfund right to sue</th>\n",
       "      <th>Crime</th>\n",
       "      <th>Duty free exports</th>\n",
       "      <th>Export administration act South Africa</th>\n",
       "    </tr>\n",
       "  </thead>\n",
       "  <tbody>\n",
       "    <tr>\n",
       "      <th>0</th>\n",
       "      <td>republican</td>\n",
       "      <td>n</td>\n",
       "      <td>y</td>\n",
       "      <td>n</td>\n",
       "      <td>y</td>\n",
       "      <td>y</td>\n",
       "      <td>y</td>\n",
       "      <td>n</td>\n",
       "      <td>n</td>\n",
       "      <td>n</td>\n",
       "      <td>y</td>\n",
       "      <td>?</td>\n",
       "      <td>y</td>\n",
       "      <td>y</td>\n",
       "      <td>y</td>\n",
       "      <td>n</td>\n",
       "      <td>y</td>\n",
       "    </tr>\n",
       "    <tr>\n",
       "      <th>1</th>\n",
       "      <td>republican</td>\n",
       "      <td>n</td>\n",
       "      <td>y</td>\n",
       "      <td>n</td>\n",
       "      <td>y</td>\n",
       "      <td>y</td>\n",
       "      <td>y</td>\n",
       "      <td>n</td>\n",
       "      <td>n</td>\n",
       "      <td>n</td>\n",
       "      <td>n</td>\n",
       "      <td>n</td>\n",
       "      <td>y</td>\n",
       "      <td>y</td>\n",
       "      <td>y</td>\n",
       "      <td>n</td>\n",
       "      <td>?</td>\n",
       "    </tr>\n",
       "    <tr>\n",
       "      <th>2</th>\n",
       "      <td>democrat</td>\n",
       "      <td>?</td>\n",
       "      <td>y</td>\n",
       "      <td>y</td>\n",
       "      <td>?</td>\n",
       "      <td>y</td>\n",
       "      <td>y</td>\n",
       "      <td>n</td>\n",
       "      <td>n</td>\n",
       "      <td>n</td>\n",
       "      <td>n</td>\n",
       "      <td>y</td>\n",
       "      <td>n</td>\n",
       "      <td>y</td>\n",
       "      <td>y</td>\n",
       "      <td>n</td>\n",
       "      <td>n</td>\n",
       "    </tr>\n",
       "    <tr>\n",
       "      <th>3</th>\n",
       "      <td>democrat</td>\n",
       "      <td>n</td>\n",
       "      <td>y</td>\n",
       "      <td>y</td>\n",
       "      <td>n</td>\n",
       "      <td>?</td>\n",
       "      <td>y</td>\n",
       "      <td>n</td>\n",
       "      <td>n</td>\n",
       "      <td>n</td>\n",
       "      <td>n</td>\n",
       "      <td>y</td>\n",
       "      <td>n</td>\n",
       "      <td>y</td>\n",
       "      <td>n</td>\n",
       "      <td>n</td>\n",
       "      <td>y</td>\n",
       "    </tr>\n",
       "    <tr>\n",
       "      <th>4</th>\n",
       "      <td>democrat</td>\n",
       "      <td>y</td>\n",
       "      <td>y</td>\n",
       "      <td>y</td>\n",
       "      <td>n</td>\n",
       "      <td>y</td>\n",
       "      <td>y</td>\n",
       "      <td>n</td>\n",
       "      <td>n</td>\n",
       "      <td>n</td>\n",
       "      <td>n</td>\n",
       "      <td>y</td>\n",
       "      <td>?</td>\n",
       "      <td>y</td>\n",
       "      <td>y</td>\n",
       "      <td>y</td>\n",
       "      <td>y</td>\n",
       "    </tr>\n",
       "    <tr>\n",
       "      <th>...</th>\n",
       "      <td>...</td>\n",
       "      <td>...</td>\n",
       "      <td>...</td>\n",
       "      <td>...</td>\n",
       "      <td>...</td>\n",
       "      <td>...</td>\n",
       "      <td>...</td>\n",
       "      <td>...</td>\n",
       "      <td>...</td>\n",
       "      <td>...</td>\n",
       "      <td>...</td>\n",
       "      <td>...</td>\n",
       "      <td>...</td>\n",
       "      <td>...</td>\n",
       "      <td>...</td>\n",
       "      <td>...</td>\n",
       "      <td>...</td>\n",
       "    </tr>\n",
       "    <tr>\n",
       "      <th>430</th>\n",
       "      <td>republican</td>\n",
       "      <td>n</td>\n",
       "      <td>n</td>\n",
       "      <td>y</td>\n",
       "      <td>y</td>\n",
       "      <td>y</td>\n",
       "      <td>y</td>\n",
       "      <td>n</td>\n",
       "      <td>n</td>\n",
       "      <td>y</td>\n",
       "      <td>y</td>\n",
       "      <td>n</td>\n",
       "      <td>y</td>\n",
       "      <td>y</td>\n",
       "      <td>y</td>\n",
       "      <td>n</td>\n",
       "      <td>y</td>\n",
       "    </tr>\n",
       "    <tr>\n",
       "      <th>431</th>\n",
       "      <td>democrat</td>\n",
       "      <td>n</td>\n",
       "      <td>n</td>\n",
       "      <td>y</td>\n",
       "      <td>n</td>\n",
       "      <td>n</td>\n",
       "      <td>n</td>\n",
       "      <td>y</td>\n",
       "      <td>y</td>\n",
       "      <td>y</td>\n",
       "      <td>y</td>\n",
       "      <td>n</td>\n",
       "      <td>n</td>\n",
       "      <td>n</td>\n",
       "      <td>n</td>\n",
       "      <td>n</td>\n",
       "      <td>y</td>\n",
       "    </tr>\n",
       "    <tr>\n",
       "      <th>432</th>\n",
       "      <td>republican</td>\n",
       "      <td>n</td>\n",
       "      <td>?</td>\n",
       "      <td>n</td>\n",
       "      <td>y</td>\n",
       "      <td>y</td>\n",
       "      <td>y</td>\n",
       "      <td>n</td>\n",
       "      <td>n</td>\n",
       "      <td>n</td>\n",
       "      <td>n</td>\n",
       "      <td>y</td>\n",
       "      <td>y</td>\n",
       "      <td>y</td>\n",
       "      <td>y</td>\n",
       "      <td>n</td>\n",
       "      <td>y</td>\n",
       "    </tr>\n",
       "    <tr>\n",
       "      <th>433</th>\n",
       "      <td>republican</td>\n",
       "      <td>n</td>\n",
       "      <td>n</td>\n",
       "      <td>n</td>\n",
       "      <td>y</td>\n",
       "      <td>y</td>\n",
       "      <td>y</td>\n",
       "      <td>?</td>\n",
       "      <td>?</td>\n",
       "      <td>?</td>\n",
       "      <td>?</td>\n",
       "      <td>n</td>\n",
       "      <td>y</td>\n",
       "      <td>y</td>\n",
       "      <td>y</td>\n",
       "      <td>n</td>\n",
       "      <td>y</td>\n",
       "    </tr>\n",
       "    <tr>\n",
       "      <th>434</th>\n",
       "      <td>republican</td>\n",
       "      <td>n</td>\n",
       "      <td>y</td>\n",
       "      <td>n</td>\n",
       "      <td>y</td>\n",
       "      <td>y</td>\n",
       "      <td>y</td>\n",
       "      <td>n</td>\n",
       "      <td>n</td>\n",
       "      <td>n</td>\n",
       "      <td>y</td>\n",
       "      <td>n</td>\n",
       "      <td>y</td>\n",
       "      <td>y</td>\n",
       "      <td>y</td>\n",
       "      <td>?</td>\n",
       "      <td>n</td>\n",
       "    </tr>\n",
       "  </tbody>\n",
       "</table>\n",
       "<p>435 rows × 17 columns</p>\n",
       "</div>"
      ],
      "text/plain": [
       "          Class Handicapped infants Water project cost sharing  \\\n",
       "0    republican                   n                          y   \n",
       "1    republican                   n                          y   \n",
       "2      democrat                   ?                          y   \n",
       "3      democrat                   n                          y   \n",
       "4      democrat                   y                          y   \n",
       "..          ...                 ...                        ...   \n",
       "430  republican                   n                          n   \n",
       "431    democrat                   n                          n   \n",
       "432  republican                   n                          ?   \n",
       "433  republican                   n                          n   \n",
       "434  republican                   n                          y   \n",
       "\n",
       "    Adoption of the budget resolution Physician fee freeze El Salvador aid  \\\n",
       "0                                   n                    y               y   \n",
       "1                                   n                    y               y   \n",
       "2                                   y                    ?               y   \n",
       "3                                   y                    n               ?   \n",
       "4                                   y                    n               y   \n",
       "..                                ...                  ...             ...   \n",
       "430                                 y                    y               y   \n",
       "431                                 y                    n               n   \n",
       "432                                 n                    y               y   \n",
       "433                                 n                    y               y   \n",
       "434                                 n                    y               y   \n",
       "\n",
       "    Religious groups in schools Anti-satellite test ban  \\\n",
       "0                             y                       n   \n",
       "1                             y                       n   \n",
       "2                             y                       n   \n",
       "3                             y                       n   \n",
       "4                             y                       n   \n",
       "..                          ...                     ...   \n",
       "430                           y                       n   \n",
       "431                           n                       y   \n",
       "432                           y                       n   \n",
       "433                           y                       ?   \n",
       "434                           y                       n   \n",
       "\n",
       "    Aid to Nicaraguan Contras Mx Missile Immigration  \\\n",
       "0                           n          n           y   \n",
       "1                           n          n           n   \n",
       "2                           n          n           n   \n",
       "3                           n          n           n   \n",
       "4                           n          n           n   \n",
       "..                        ...        ...         ...   \n",
       "430                         n          y           y   \n",
       "431                         y          y           y   \n",
       "432                         n          n           n   \n",
       "433                         ?          ?           ?   \n",
       "434                         n          n           y   \n",
       "\n",
       "    Synfuels Corporation cutback Education spending Superfund right to sue  \\\n",
       "0                              ?                  y                      y   \n",
       "1                              n                  y                      y   \n",
       "2                              y                  n                      y   \n",
       "3                              y                  n                      y   \n",
       "4                              y                  ?                      y   \n",
       "..                           ...                ...                    ...   \n",
       "430                            n                  y                      y   \n",
       "431                            n                  n                      n   \n",
       "432                            y                  y                      y   \n",
       "433                            n                  y                      y   \n",
       "434                            n                  y                      y   \n",
       "\n",
       "    Crime Duty free exports Export administration act South Africa  \n",
       "0       y                 n                                      y  \n",
       "1       y                 n                                      ?  \n",
       "2       y                 n                                      n  \n",
       "3       n                 n                                      y  \n",
       "4       y                 y                                      y  \n",
       "..    ...               ...                                    ...  \n",
       "430     y                 n                                      y  \n",
       "431     n                 n                                      y  \n",
       "432     y                 n                                      y  \n",
       "433     y                 n                                      y  \n",
       "434     y                 ?                                      n  \n",
       "\n",
       "[435 rows x 17 columns]"
      ]
     },
     "execution_count": 58,
     "metadata": {},
     "output_type": "execute_result"
    }
   ],
   "source": [
    "cnames = [\n",
    "    'Class', 'Handicapped infants', 'Water project cost sharing', 'Adoption of the budget resolution',\n",
    "    'Physician fee freeze', 'El Salvador aid', 'Religious groups in schools', 'Anti-satellite test ban',\n",
    "    'Aid to Nicaraguan Contras', 'Mx Missile', 'Immigration', 'Synfuels Corporation cutback',\n",
    "    'Education spending', 'Superfund right to sue', 'Crime', 'Duty free exports',\n",
    "    'Export administration act South Africa']\n",
    "dtf = pandas.read_csv('house.data', sep=\",\", names=cnames)\n",
    "dtf"
   ]
  },
  {
   "cell_type": "markdown",
   "metadata": {},
   "source": [
    "The dataset consists of `17 attributes`, all categorical. \n",
    "\n",
    "The `Class` attribute consists of two options: `republican` and `democrat`. The other attributes consist of `y`, `n`, or `?`, representing the chosen vote (y = yes, n = no), or neutrality/undisclosed (`?`).\n",
    "\n",
    "Now, we must prepare the data with binarization to obtain discrete items for Frequent Itemset Mining."
   ]
  },
  {
   "cell_type": "code",
   "execution_count": 59,
   "metadata": {},
   "outputs": [],
   "source": [
    "dcols = [] # to store the data columns corresponding to the new attributes\n",
    "item_nbs = [] # to store the number of new attributes created from each original one (for plotting)\n",
    "item_lbls = [] # to store labels corresponding to the new attributes"
   ]
  },
  {
   "cell_type": "markdown",
   "metadata": {},
   "source": [
    "First, for the `Class` attribute, we have two categories."
   ]
  },
  {
   "cell_type": "code",
   "execution_count": 60,
   "metadata": {},
   "outputs": [],
   "source": [
    " #! This output looks strange. Is this correct?\n",
    "\n",
    "var_name, var_cats = (\"Class\", [\"republican\", \"democrat\"])\n",
    "cols = pandas.crosstab(dtf.index, [dtf[var_name]])  \n",
    "dcols.extend([cols[nc].values for nc in var_cats])"
   ]
  },
  {
   "cell_type": "markdown",
   "metadata": {},
   "source": [
    "And for the labels:"
   ]
  },
  {
   "cell_type": "code",
   "execution_count": 61,
   "metadata": {},
   "outputs": [
    {
     "data": {
      "text/plain": [
       "['[Class - republican]', '[Class - democrat]']"
      ]
     },
     "execution_count": 61,
     "metadata": {},
     "output_type": "execute_result"
    }
   ],
   "source": [
    "item_nbs.append(len(var_cats))\n",
    "item_lbls.extend([\"[%s - %s]\" % (var_name, v) for v in var_cats])\n",
    "item_lbls"
   ]
  },
  {
   "cell_type": "markdown",
   "metadata": {},
   "source": [
    "Now, for the other attributes, we have three categories: `y`, `n`, and `?`."
   ]
  },
  {
   "cell_type": "code",
   "execution_count": 62,
   "metadata": {},
   "outputs": [],
   "source": [
    "for var_name, var_cats in [\n",
    "    (\"Handicapped infants\", ['y', 'n', '?']),\n",
    "    (\"Water project cost sharing\", ['y', 'n', '?']),\n",
    "    (\"Adoption of the budget resolution\", ['y', 'n', '?']),\n",
    "    (\"Physician fee freeze\", ['y', 'n', '?']),\n",
    "    (\"El Salvador aid\", ['y', 'n', '?']),\n",
    "    (\"Religious groups in schools\", ['y', 'n', '?']),\n",
    "    (\"Anti-satellite test ban\", ['y', 'n', '?']),\n",
    "    (\"Aid to Nicaraguan Contras\", ['y', 'n', '?']),\n",
    "    (\"Mx Missile\", ['y', 'n', '?']),\n",
    "    (\"Immigration\", ['y', 'n', '?']),\n",
    "    (\"Synfuels Corporation cutback\", ['y', 'n', '?']),\n",
    "    (\"Education spending\", ['y', 'n', '?']),\n",
    "    (\"Superfund right to sue\", ['y', 'n', '?']),\n",
    "    (\"Crime\", ['y', 'n', '?']),\n",
    "    (\"Duty free exports\", ['y', 'n', '?']),\n",
    "    (\"Export administration act South Africa\", ['y', 'n', '?']),\n",
    "]:\n",
    "    cols = pandas.crosstab(dtf.index, [dtf[var_name]])  \n",
    "    dcols.extend([cols[nc].values for nc in var_cats])\n",
    "    item_nbs.append(len(var_cats))\n",
    "    item_lbls.extend([\"[%s - %s]\" % (var_name, v) for v in var_cats])"
   ]
  },
  {
   "cell_type": "markdown",
   "metadata": {},
   "source": [
    "Putting everything together, we obtain the binary matrix:"
   ]
  },
  {
   "cell_type": "code",
   "execution_count": 63,
   "metadata": {},
   "outputs": [
    {
     "data": {
      "text/plain": [
       "array([1, 0, 0, 1, 0, 1, 0, 0, 0, 1, 0, 1, 0, 0, 1, 0, 0, 1, 0, 0, 0, 1,\n",
       "       0, 0, 1, 0, 0, 1, 0, 1, 0, 0, 0, 1, 0, 1, 0, 0, 1, 0, 0, 1, 0, 0,\n",
       "       0, 0, 1, 0, 1, 0], dtype=int64)"
      ]
     },
     "execution_count": 63,
     "metadata": {},
     "output_type": "execute_result"
    }
   ],
   "source": [
    "bin_mat = numpy.vstack(dcols).T  # https://numpy.org/doc/stable/reference/generated/numpy.vstack.html\n",
    "bin_mat[-1]"
   ]
  },
  {
   "cell_type": "markdown",
   "metadata": {},
   "source": [
    "Turning the binary matrix into a list of transactions (i.e., sets of items), to be used as input for the FIM algorithm:"
   ]
  },
  {
   "cell_type": "code",
   "execution_count": 64,
   "metadata": {},
   "outputs": [
    {
     "data": {
      "text/plain": [
       "frozenset({0, 3, 5, 9, 11, 14, 17, 21, 24, 27, 29, 33, 35, 38, 41, 46, 48})"
      ]
     },
     "execution_count": 64,
     "metadata": {},
     "output_type": "execute_result"
    }
   ],
   "source": [
    "tracts = [frozenset(numpy.where(r)[0]) for r in bin_mat]\n",
    "tracts[-1]"
   ]
  },
  {
   "cell_type": "markdown",
   "metadata": {},
   "source": [
    "## Statistics"
   ]
  },
  {
   "cell_type": "code",
   "execution_count": 65,
   "metadata": {},
   "outputs": [
    {
     "data": {
      "text/plain": [
       "435"
      ]
     },
     "execution_count": 65,
     "metadata": {},
     "output_type": "execute_result"
    }
   ],
   "source": [
    "len(tracts)"
   ]
  },
  {
   "cell_type": "markdown",
   "metadata": {},
   "source": [
    "There are `435 transactions` in total. Each transaction corresponds to one individual voter.\n",
    "\n",
    "Each transaction contains `17 items`:"
   ]
  },
  {
   "cell_type": "code",
   "execution_count": 66,
   "metadata": {},
   "outputs": [
    {
     "data": {
      "text/plain": [
       "{17}"
      ]
     },
     "execution_count": 66,
     "metadata": {},
     "output_type": "execute_result"
    }
   ],
   "source": [
    "set(numpy.sum(bin_mat, axis=1))"
   ]
  },
  {
   "cell_type": "markdown",
   "metadata": {},
   "source": [
    "The histogram of the data shows more clearly the voting distribution accross categories:\n",
    "- for the `Class` attribute, the first bar is `republican`, and the second one is `democrat`;\n",
    "- for other attributes, the first bar is `y`, second is `n`, third is `?`."
   ]
  },
  {
   "cell_type": "code",
   "execution_count": 67,
   "metadata": {},
   "outputs": [
    {
     "data": {
      "image/png": "[encoded data removed]",
      "text/plain": [
       "<Figure size 1600x400 with 1 Axes>"
      ]
     },
     "metadata": {},
     "output_type": "display_data"
    }
   ],
   "source": [
    "plt.figure(figsize=(16,4))\n",
    "h = numpy.sum(bin_mat, axis=0)\n",
    "bw = 0.9/numpy.max(item_nbs)\n",
    "bf = 0.95\n",
    "xbs = []\n",
    "for ni, nb in enumerate(item_nbs):\n",
    "    xbs.extend([ni+(n-0.5*(nb-1+bf))*bw for n in range(nb)])\n",
    "plt.bar(xbs, h, width=bf*bw, align='edge', color=(68/255., 119/255., 170/255.))\n",
    "plt.xticks(range(len(cnames)), cnames, rotation='vertical')\n",
    "plt.xlabel(\"Attributes\")\n",
    "plt.ylabel(\"Nb. of occurrences\")\n",
    "plt.show()"
   ]
  },
  {
   "cell_type": "markdown",
   "metadata": {},
   "source": [
    "According to the dataset information page, we have 267 democrats and 168 republicans, as is evident by the histogram. Some other noticeable points are:\n",
    "- the votes with most uncertainty (`?`) are `Export administration act South Africa`, `Water project cost sharing`, and `Education spending`. Although they have the most amount of `?` votes, `Export administration...` has a majority of `yes`, `Water project...` is almost evenly divided, and `Education spending` is mostly `no`. This might indicate that `?` does not directly correlate to a consensus, or lack there of, of voting, but possibly as a desire to keep the voter opinion secret;\n",
    "- the votes with an even amount of `yes` and `no` are: `Water project cost sharing`, `El Salvador aid`, `Mx Missile`, `Immigration`, and `Superfund right to sue`;\n",
    "- votes with a big majority lead (>25%) on either `yes` or `no` are: `Adoption of the budget resolution` (yes), `Physician fee freeze` (no), `Religious groups in schools` (yes), `Synfuels Corporation cutback` (no), `Crime` (yes), and `Export administration act South Africa` (yes). \n",
    "\n",
    "As such, there is a clear difference in frequency for the items in the `house` dataset: votes with `?` are much less frequent than others (except for the `Export administration...` case), and the `yes` or `no` categories vary with the specific vote.\n"
   ]
  },
  {
   "cell_type": "markdown",
   "metadata": {},
   "source": [
    "## Mining"
   ]
  },
  {
   "cell_type": "markdown",
   "metadata": {},
   "source": [
    "Running the FIM algorithm with a support threshold of 15% (0.15*435 ~ 65), we obtain the following:"
   ]
  },
  {
   "cell_type": "code",
   "execution_count": 68,
   "metadata": {},
   "outputs": [
    {
     "name": "stdout",
     "output_type": "stream",
     "text": [
      "Found 31080 itemsets\n",
      "\n"
     ]
    }
   ],
   "source": [
    "nb_tot = len(tracts)\n",
    "FI = fim(tracts, target='s', supp=15)\n",
    "print(\"Found %d itemsets\\n\" % (len(FI)))"
   ]
  },
  {
   "cell_type": "markdown",
   "metadata": {},
   "source": [
    "The top 10 most frequent are:"
   ]
  },
  {
   "cell_type": "code",
   "execution_count": 69,
   "metadata": {},
   "outputs": [
    {
     "name": "stdout",
     "output_type": "stream",
     "text": [
      "[Religious groups in schools - y] (17,) 272 0.625\n",
      "[Export administration act South Africa - y] (47,) 269 0.618\n",
      "[Class - democrat] (1,) 267 0.614\n",
      "[Synfuels Corporation cutback - n] (33,) 264 0.607\n",
      "[Adoption of the budget resolution - y] (8,) 253 0.582\n",
      "[Crime - y] (41,) 248 0.570\n",
      "[Physician fee freeze - n] (12,) 247 0.568\n",
      "[Physician fee freeze - n] [Class - democrat] (12, 1) 245 0.563\n",
      "[Aid to Nicaraguan Contras - y] (23,) 242 0.556\n",
      "[Anti-satellite test ban - y] (20,) 239 0.549\n"
     ]
    }
   ],
   "source": [
    "for fi in sorted(FI, key=lambda x: -x[1])[:10]:\n",
    "    print(\" \".join([item_lbls[x] for x in fi[0]]), fi[0], fi[1], \"%.3f\" % (fi[1]/nb_tot))"
   ]
  },
  {
   "cell_type": "markdown",
   "metadata": {},
   "source": [
    "Most are singletons. Interestingly, the itemset of `democrats` voting `no` for `Physician fee freeze` appears in the top 10.\n",
    "\n",
    "Restricting the algorithm to itemsets of size 2 gives us the following top 10: "
   ]
  },
  {
   "cell_type": "code",
   "execution_count": 70,
   "metadata": {},
   "outputs": [
    {
     "name": "stdout",
     "output_type": "stream",
     "text": [
      "Found 31046 itemsets\n",
      "\n",
      "\n",
      "[Physician fee freeze - n] [Class - democrat] (12, 1) 245 0.563\n",
      "[Adoption of the budget resolution - y] [Class - democrat] (8, 1) 231 0.531\n",
      "[Physician fee freeze - n] [Adoption of the budget resolution - y] [Class - democrat] (12, 8, 1) 219 0.503\n",
      "[Physician fee freeze - n] [Adoption of the budget resolution - y] (12, 8) 219 0.503\n",
      "[Aid to Nicaraguan Contras - y] [Class - democrat] (23, 1) 218 0.501\n",
      "[Aid to Nicaraguan Contras - y] [Adoption of the budget resolution - y] (23, 8) 215 0.494\n",
      "[Crime - y] [Religious groups in schools - y] (41, 17) 214 0.492\n",
      "[Education spending - n] [Class - democrat] (36, 1) 213 0.490\n",
      "[Aid to Nicaraguan Contras - y] [Physician fee freeze - n] (23, 12) 211 0.485\n",
      "[Anti-satellite test ban - y] [Aid to Nicaraguan Contras - y] (20, 23) 210 0.483\n"
     ]
    }
   ],
   "source": [
    "FI = fim(tracts, target='s', supp=15, zmin=2)\n",
    "print(\"Found %d itemsets\\n\" % (len(FI)))\n",
    "\n",
    "print('')  # Space between prints\n",
    "\n",
    "for fi in sorted(FI, key=lambda x: -x[1])[:10]:\n",
    "    print(\" \".join([item_lbls[x] for x in fi[0]]), fi[0], fi[1], \"%.3f\" % (fi[1]/nb_tot))"
   ]
  },
  {
   "cell_type": "markdown",
   "metadata": {},
   "source": [
    "This results shows us that, under a support threshold of 15%, the most votes were for `Physician fee freeze - n` and `Adoption of the budget resolution - y` by the `democrats`. Not only that, but the third most votes was the union of those two itemsets.\n",
    "\n",
    "Since we have 17 attributes, let's have a look at the most frequent maximal itemsets (15% supp. threshold)."
   ]
  },
  {
   "cell_type": "code",
   "execution_count": 71,
   "metadata": {},
   "outputs": [
    {
     "name": "stdout",
     "output_type": "stream",
     "text": [
      "Found 1021 itemsets\n",
      "\n",
      "1 [Immigration - y] [Synfuels Corporation cutback - n] [Export administration act South Africa - y] (29, 33, 47) 94 0.216\n",
      "2 [Immigration - y] [Handicapped infants - n] [Export administration act South Africa - y] (29, 3, 47) 85 0.195\n",
      "3 [Handicapped infants - y] [Duty free exports - n] (2, 45) 82 0.189\n",
      "4 [Water project cost sharing - n] [Immigration - n] (6, 30) 80 0.184\n",
      "5 [Immigration - y] [Duty free exports - n] [Export administration act South Africa - y] (29, 45, 47) 80 0.184\n",
      "6 [Duty free exports - n] [Anti-satellite test ban - y] (45, 20) 79 0.182\n",
      "7 [Water project cost sharing - n] [Handicapped infants - n] [Synfuels Corporation cutback - n] (6, 3, 33) 78 0.179\n",
      "8 [Education spending - n] [Duty free exports - n] (36, 45) 78 0.179\n",
      "9 [Adoption of the budget resolution - y] [Religious groups in schools - y] [Export administration act South Africa - y] (8, 17, 47) 78 0.179\n",
      "10 [Religious groups in schools - n] [Crime - n] [Superfund right to sue - n] [Mx Missile - y] [Education spending - n] [Anti-satellite test ban - y] [Adoption of the budget resolution - y] [El Salvador aid - n] [Aid to Nicaraguan Contras - y] [Class - democrat] [Physician fee freeze - n] (18, 42, 39, 26, 36, 20, 8, 15, 23, 1, 12) 77 0.177\n"
     ]
    }
   ],
   "source": [
    "FI = fim(tracts, target='m', supp=15, zmin=2)\n",
    "print(\"Found %d itemsets\\n\" % (len(FI)))\n",
    "\n",
    "i = 1\n",
    "for fi in sorted(FI, key=lambda x: -x[1])[:10]:\n",
    "    print(i, \" \".join([item_lbls[x] for x in fi[0]]), fi[0], fi[1], \"%.3f\" % (fi[1]/nb_tot))\n",
    "    i += 1"
   ]
  },
  {
   "cell_type": "markdown",
   "metadata": {},
   "source": [
    "The resulting itemsets shows us votes that are commonly made together. The top one, for example, could indicate an association such as: if the voter is in favor of `Immigration` and `Export administration act South Africa`, then he is against `Synfuels Corporation cutback`. Or, on the second case, the voter would be against `Handicapped infants`. \n",
    "\n",
    "In the top 10 itemsets above, only one of them includes the `Class` attribute. We can see that this frequent itemset states that often `democrats` vote in favor of `Mx Missile`, `Anti-satellite test ban`, `Adoption of the budget resolution`, and `Aid to Nicaraguan Contras`, but against `Religious groups in schools`, `Crime`, `Superfund right to sue`, `Education spending`, `El Salvador aid`, and `Physician fee freeze`.\n",
    "\n",
    "What if we restricted the resulting itemsets to those that contain one of the categories in the `Class` attribute? Let's see the top 10 most common itemsets of votes for `democrats`:"
   ]
  },
  {
   "cell_type": "code",
   "execution_count": 72,
   "metadata": {},
   "outputs": [
    {
     "name": "stdout",
     "output_type": "stream",
     "text": [
      "Found 1021 itemsets\n",
      "\n",
      "1 [Religious groups in schools - n] [Crime - n] [Superfund right to sue - n] [Mx Missile - y] [Education spending - n] [Anti-satellite test ban - y] [Adoption of the budget resolution - y] [El Salvador aid - n] [Aid to Nicaraguan Contras - y] [Class - democrat] [Physician fee freeze - n] (18, 42, 39, 26, 36, 20, 8, 15, 23, 1, 12) 77 0.177\n",
      "2 [El Salvador aid - n] [Immigration - y] [Adoption of the budget resolution - y] [Anti-satellite test ban - y] [Physician fee freeze - n] [Aid to Nicaraguan Contras - y] [Class - democrat] (15, 29, 8, 20, 12, 23, 1) 77 0.177\n",
      "3 [Synfuels Corporation cutback - y] [Water project cost sharing - y] [Class - democrat] (32, 5, 1) 75 0.172\n",
      "4 [Synfuels Corporation cutback - y] [Religious groups in schools - y] [Class - democrat] (32, 17, 1) 75 0.172\n",
      "5 [Duty free exports - y] [Superfund right to sue - n] [Mx Missile - y] [Education spending - n] [Adoption of the budget resolution - y] [Anti-satellite test ban - y] [El Salvador aid - n] [Aid to Nicaraguan Contras - y] [Class - democrat] [Physician fee freeze - n] (44, 39, 26, 36, 8, 20, 15, 23, 1, 12) 74 0.170\n",
      "6 [Physician fee freeze - n] [Crime - y] [Class - democrat] (12, 41, 1) 74 0.170\n",
      "7 [Crime - y] [Class - democrat] [Religious groups in schools - y] (41, 1, 17) 74 0.170\n",
      "8 [Crime - n] [Duty free exports - y] [Superfund right to sue - n] [Education spending - n] [Anti-satellite test ban - y] [Adoption of the budget resolution - y] [El Salvador aid - n] [Aid to Nicaraguan Contras - y] [Class - democrat] [Physician fee freeze - n] (42, 44, 39, 36, 20, 8, 15, 23, 1, 12) 73 0.168\n",
      "9 [Water project cost sharing - y] [Aid to Nicaraguan Contras - y] [Education spending - n] [Adoption of the budget resolution - y] [Physician fee freeze - n] [Class - democrat] (5, 23, 36, 8, 12, 1) 73 0.168\n",
      "10 [Superfund right to sue - n] [Synfuels Corporation cutback - n] [Mx Missile - y] [Adoption of the budget resolution - y] [El Salvador aid - n] [Anti-satellite test ban - y] [Class - democrat] [Aid to Nicaraguan Contras - y] [Physician fee freeze - n] (39, 33, 26, 8, 15, 20, 1, 23, 12) 73 0.168\n"
     ]
    }
   ],
   "source": [
    "FI = fim(tracts, target='m', supp=15, zmin=2)\n",
    "print(\"Found %d itemsets\\n\" % (len(FI)))\n",
    "\n",
    "class_labels = [1]  # democrat\n",
    "print_limit = 10\n",
    "i = 1\n",
    "\n",
    "for fi in sorted(FI, key=lambda x: -x[1]):\n",
    "    if any(attr in class_labels for attr in fi[0]):  # Only look at itemsets including the Class attrb\n",
    "        if i <= print_limit:\n",
    "            print(i, \" \".join([item_lbls[x] for x in fi[0]]), fi[0], fi[1], \"%.3f\" % (fi[1]/nb_tot))\n",
    "            i += 1"
   ]
  },
  {
   "cell_type": "markdown",
   "metadata": {},
   "source": [
    "The top results has 11 attributes (including `Class`), showing that democrats have a tendency of voting similarly. An interesting point is that the top result shows votes against `Religious groups in schools` (support of 77), but the fourth results shows votes in favor for it (75 support). This may indicate two distinct groups inside the `democrats` group.\n",
    "\n",
    "What about republicans?"
   ]
  },
  {
   "cell_type": "code",
   "execution_count": 73,
   "metadata": {},
   "outputs": [
    {
     "name": "stdout",
     "output_type": "stream",
     "text": [
      "Found 1021 itemsets\n",
      "\n",
      "1 [Class - republican] [Export administration act South Africa - y] [Synfuels Corporation cutback - n] [El Salvador aid - y] [Physician fee freeze - y] [Crime - y] (0, 47, 33, 14, 11, 41) 72 0.166\n",
      "2 [Class - republican] [Anti-satellite test ban - n] [Handicapped infants - n] [Superfund right to sue - y] [Education spending - y] [Duty free exports - n] [Crime - y] [Adoption of the budget resolution - n] [Religious groups in schools - y] [Aid to Nicaraguan Contras - n] [El Salvador aid - y] [Mx Missile - n] [Physician fee freeze - y] (0, 21, 3, 38, 35, 45, 41, 9, 17, 24, 14, 27, 11) 72 0.166\n",
      "3 [Class - republican] [Export administration act South Africa - y] [Superfund right to sue - y] [El Salvador aid - y] [Crime - y] [Physician fee freeze - y] (0, 47, 38, 14, 41, 11) 70 0.161\n",
      "4 [Class - republican] [Immigration - y] [Aid to Nicaraguan Contras - n] [Crime - y] [El Salvador aid - y] [Physician fee freeze - y] (0, 29, 24, 41, 14, 11) 69 0.159\n",
      "5 [Class - republican] [Immigration - y] [Mx Missile - n] [Crime - y] [Religious groups in schools - y] [El Salvador aid - y] [Physician fee freeze - y] (0, 29, 27, 41, 17, 14, 11) 69 0.159\n",
      "6 [Class - republican] [Immigration - y] [Synfuels Corporation cutback - n] [El Salvador aid - y] [Crime - y] [Physician fee freeze - y] (0, 29, 33, 14, 41, 11) 69 0.159\n",
      "7 [Class - republican] [Immigration - y] [Duty free exports - n] [El Salvador aid - y] [Crime - y] [Physician fee freeze - y] (0, 29, 45, 14, 41, 11) 69 0.159\n",
      "8 [Class - republican] [Export administration act South Africa - y] [Aid to Nicaraguan Contras - n] [Crime - y] [Physician fee freeze - y] [El Salvador aid - y] (0, 47, 24, 41, 11, 14) 69 0.159\n",
      "9 [Class - republican] [Export administration act South Africa - y] [Adoption of the budget resolution - n] [El Salvador aid - y] [Crime - y] [Physician fee freeze - y] (0, 47, 9, 14, 41, 11) 69 0.159\n",
      "10 [Class - republican] [Export administration act South Africa - y] [Mx Missile - n] [Religious groups in schools - y] [Crime - y] [Physician fee freeze - y] [El Salvador aid - y] (0, 47, 27, 17, 41, 11, 14) 69 0.159\n"
     ]
    }
   ],
   "source": [
    "FI = fim(tracts, target='m', supp=15, zmin=2)\n",
    "print(\"Found %d itemsets\\n\" % (len(FI)))\n",
    "\n",
    "class_labels = [0]  # republican\n",
    "print_limit = 10\n",
    "i = 1\n",
    "\n",
    "for fi in sorted(FI, key=lambda x: -x[1]):\n",
    "    if any(attr in class_labels for attr in fi[0]):  # Only look at itemsets including the Class attrb\n",
    "        if i <= print_limit:\n",
    "            print(i, \" \".join([item_lbls[x] for x in fi[0]]), fi[0], fi[1], \"%.3f\" % (fi[1]/nb_tot))\n",
    "            i += 1"
   ]
  },
  {
   "cell_type": "markdown",
   "metadata": {},
   "source": [
    "The top 2 results have the same support value. Interestingly, the 2nd result contains 13 attributes (including `Class`), which indicates a stronger consensus between `republicans` in comparison with `democrats`.\n",
    "\n",
    "Let's check for a consensus of 5 votes for both `democrats` and `republicans`, only closed frequent itemsets with a support threshold of 30%."
   ]
  },
  {
   "cell_type": "code",
   "execution_count": 74,
   "metadata": {},
   "outputs": [
    {
     "name": "stdout",
     "output_type": "stream",
     "text": [
      "Found 43 itemsets\n",
      "\n",
      "1 [El Salvador aid - n] [Adoption of the budget resolution - y] [Anti-satellite test ban - y] [Physician fee freeze - n] [Aid to Nicaraguan Contras - y] [Class - democrat] (15, 8, 20, 12, 23, 1) 164 0.377\n",
      "2 [El Salvador aid - n] [Education spending - n] [Adoption of the budget resolution - y] [Physician fee freeze - n] [Aid to Nicaraguan Contras - y] [Class - democrat] (15, 36, 8, 12, 23, 1) 154 0.354\n",
      "3 [Mx Missile - y] [El Salvador aid - n] [Adoption of the budget resolution - y] [Physician fee freeze - n] [Aid to Nicaraguan Contras - y] [Class - democrat] (26, 15, 8, 12, 23, 1) 152 0.349\n",
      "4 [El Salvador aid - n] [Education spending - n] [Anti-satellite test ban - y] [Physician fee freeze - n] [Aid to Nicaraguan Contras - y] [Class - democrat] (15, 36, 20, 12, 23, 1) 151 0.347\n",
      "5 [Mx Missile - y] [El Salvador aid - n] [Anti-satellite test ban - y] [Physician fee freeze - n] [Aid to Nicaraguan Contras - y] [Class - democrat] (26, 15, 20, 12, 23, 1) 150 0.345\n",
      "6 [Education spending - n] [Anti-satellite test ban - y] [Adoption of the budget resolution - y] [Physician fee freeze - n] [Aid to Nicaraguan Contras - y] [Class - democrat] (36, 20, 8, 12, 23, 1) 149 0.343\n",
      "7 [Mx Missile - y] [Adoption of the budget resolution - y] [Anti-satellite test ban - y] [Physician fee freeze - n] [Aid to Nicaraguan Contras - y] [Class - democrat] (26, 8, 20, 12, 23, 1) 148 0.340\n",
      "8 [Superfund right to sue - n] [El Salvador aid - n] [Adoption of the budget resolution - y] [Physician fee freeze - n] [Aid to Nicaraguan Contras - y] [Class - democrat] (39, 15, 8, 12, 23, 1) 144 0.331\n",
      "9 [Mx Missile - y] [Education spending - n] [El Salvador aid - n] [Physician fee freeze - n] [Aid to Nicaraguan Contras - y] [Class - democrat] (26, 36, 15, 12, 23, 1) 144 0.331\n",
      "10 [El Salvador aid - n] [Education spending - n] [Adoption of the budget resolution - y] [Anti-satellite test ban - y] [Physician fee freeze - n] [Class - democrat] (15, 36, 8, 20, 12, 1) 144 0.331\n"
     ]
    }
   ],
   "source": [
    "FI = fim(tracts, target='c', supp=30, zmin=6)\n",
    "print(\"Found %d itemsets\\n\" % (len(FI)))\n",
    "\n",
    "class_labels = [0, 1]  # republican, democrat\n",
    "print_limit = 10\n",
    "i = 1\n",
    "\n",
    "for fi in sorted(FI, key=lambda x: -x[1]):\n",
    "    if any(attr in class_labels for attr in fi[0]):  # Only look at itemsets including the Class attrb\n",
    "        if i <= print_limit:\n",
    "            print(i, \" \".join([item_lbls[x] for x in fi[0]]), fi[0], fi[1], \"%.3f\" % (fi[1]/nb_tot))\n",
    "            i += 1"
   ]
  },
  {
   "cell_type": "markdown",
   "metadata": {},
   "source": [
    "Here, all results are for `democrats`, indicating more frequent consensus of votes when considering only 5 votes (size 6 itemsets)."
   ]
  }
 ],
 "metadata": {
  "kernelspec": {
   "display_name": "Python 3.9.1 ('.env': venv)",
   "language": "python",
   "name": "python3"
  },
  "language_info": {
   "codemirror_mode": {
    "name": "ipython",
    "version": 3
   },
   "file_extension": ".py",
   "mimetype": "text/x-python",
   "name": "python",
   "nbconvert_exporter": "python",
   "pygments_lexer": "ipython3",
   "version": "3.9.1"
  },
  "vscode": {
   "interpreter": {
    "hash": "c18f9aa5b4992ecbe91479f0e8f727368a787d891a4a54b43a10bb1b5aa3f0af"
   }
  }
 },
 "nbformat": 4,
 "nbformat_minor": 2
}
